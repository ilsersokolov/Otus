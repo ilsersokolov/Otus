{
 "cells": [
  {
   "cell_type": "markdown",
   "metadata": {},
   "source": [
    "## Дерево решений"
   ]
  },
  {
   "cell_type": "markdown",
   "metadata": {},
   "source": [
    "Задание\n",
    "1. Там, где написано \"Ваш код\", нужно реализовать метод или часть метода\n",
    "2. Там, где написано \"Что делает этот блок кода?\", нужно разобраться в блоке кода и в комментарии написать, что он делает\n",
    "3. (необязательное) Добиться, чтобы в пункте \"Проверка скорости работы\" Ваша реализация работала чуть быстрее, чем у дерева из sklearn (это возможно, так как мы реализуем только малую часть функциональности)\n",
    "4. Добиться, чтобы в пункте \"Проверка качества работы\" Ваша реализация работала так же или качественнее, чем у дерева из sklearn\n",
    "5. Применить реализованное дерево решений для задачи Titanic на kaggle. Применить для той же задачи дерево решений из sklearn. Применить кросс-валидацию для подбора параметров. Сравнить с результатами предыдущих моделей. Если результат улучшился - сделать сабмит. Написать отчет о результатах."
   ]
  },
  {
   "cell_type": "code",
   "execution_count": 1,
   "metadata": {
    "ExecuteTime": {
     "end_time": "2018-12-29T15:22:09.531438Z",
     "start_time": "2018-12-29T15:22:07.602469Z"
    }
   },
   "outputs": [],
   "source": [
    "from time import time\n",
    "\n",
    "import matplotlib.pyplot as plt\n",
    "import numpy as np\n",
    "import pandas as pd\n",
    "\n",
    "from scipy import optimize\n",
    "from sklearn.metrics import accuracy_score\n",
    "from sklearn.model_selection import KFold\n",
    "from sklearn.tree import DecisionTreeClassifier\n",
    "\n",
    "from scipy import stats\n",
    "\n",
    "np.set_printoptions(threshold=np.nan)\n",
    "\n",
    "%matplotlib inline"
   ]
  },
  {
   "cell_type": "code",
   "execution_count": 2,
   "metadata": {
    "ExecuteTime": {
     "end_time": "2018-12-29T15:22:09.608708Z",
     "start_time": "2018-12-29T15:22:09.534379Z"
    }
   },
   "outputs": [],
   "source": [
    "class MyDecisionTreeClassifier:\n",
    "    NON_LEAF_TYPE = 0  # ???\n",
    "    LEAF_TYPE = 1  # ???\n",
    "\n",
    "    def __init__(self, min_samples_split=2, max_depth=None, criterion='gini', max_features=None):\n",
    "        # sufficient_share=1.0\n",
    "        \"\"\"\n",
    "        min_samples_split: \n",
    "            Минимальное количество выборок, необходимое для разделения внутреннего узла\n",
    "        max_depth:\n",
    "            Максимальная глубина дерева. Если None, то узлы расширяются до тех пор, \n",
    "            пока все листья не станут чистыми или пока все листья не будут содержать меньше \n",
    "            чем min_samples_split значений.\n",
    "        criterion:\n",
    "            функция энтропии\n",
    "        max_features:\n",
    "            Количество фич, которые следует учитывать при поиске лучшего разделения\n",
    "                Если None, то max_features = n_features\n",
    "                Если int, то учитывайть фичи max_features при каждом разделении\n",
    "                Если \"sqrt\", то max_features=sqrt(n_features).\n",
    "                Если \"log2\", то max_features=log2(n_features).\n",
    "        \"\"\"\n",
    "        self.tree = dict()\n",
    "        self.min_samples_split = min_samples_split\n",
    "        self.max_depth = max_depth\n",
    "        #self.sufficient_share = sufficient_share\n",
    "        self.num_class = -1\n",
    "        if criterion == 'gini':\n",
    "            self.G_function = self.__gini\n",
    "        elif criterion == 'entropy':\n",
    "            self.G_function = self.__entropy\n",
    "        elif criterion == 'misclass':\n",
    "            self.G_function = self.__misclass\n",
    "        else:\n",
    "            print('invalid criterion name')\n",
    "            raise\n",
    "\n",
    "        if max_features == 'sqrt':\n",
    "            self.get_feature_ids = self.__get_feature_ids_sqrt\n",
    "        elif max_features == 'log2':\n",
    "            self.get_feature_ids = self.__get_feature_ids_log2\n",
    "        elif max_features == None:\n",
    "            self.get_feature_ids = self.__get_feature_ids_N\n",
    "        else:\n",
    "            print('invalid max_features name')\n",
    "            raise\n",
    "\n",
    "    # left_class_count, left_sizes, right_class_count, right_sizes\n",
    "    def __gini(self, l_c, l_s, r_c, r_s):\n",
    "        l_s = l_s.astype('float')\n",
    "        r_s = r_s.astype('float')\n",
    "        gini_l = np.sum(l_c*l_c, axis=1,keepdims=1)\n",
    "        gini_r = np.sum(r_c*r_c, axis=1,keepdims=1)\n",
    "        return (gini_l/l_s + gini_r/r_s)/(l_s + r_s)\n",
    "\n",
    "    def __entropy(self, l_c, l_s, r_c, r_s):\n",
    "        p_l=l_c/l_s\n",
    "        p_r=r_c/r_s\n",
    "        th=10e-8\n",
    "        e_l=-np.nansum(p_l*np.log2(np.clip(p_l, th, 1 - th)), axis=1,keepdims=1)\n",
    "        e_r=-np.nansum(p_r*np.log2(np.clip(p_r, th, 1 - th)), axis=1,keepdims=1)\n",
    "        return  1-(l_s*e_l+r_s*e_r)/(l_s + r_s)\n",
    "\n",
    "    def __misclass(self, l_c, l_s, r_c, r_s):\n",
    "        mc_l = 1-np.max(l_c/l_s,axis=1,keepdims=1)\n",
    "        mc_r = 1-np.max(r_c/r_s,axis=1,keepdims=1)\n",
    "        return  1-(l_s*mc_l+r_s*mc_r)/(l_s + r_s)\n",
    "\n",
    "    def __get_feature_ids_sqrt(self, n_feature):\n",
    "        feature_ids = np.arange(n_feature,dtype=np.int)\n",
    "        np.random.shuffle(feature_ids)\n",
    "        return feature_ids[:int(np.sqrt(n_feature)+0.5)]\n",
    "\n",
    "    def __get_feature_ids_log2(self, n_feature):\n",
    "        feature_ids = np.arange(n_feature,dtype=np.int)\n",
    "        np.random.shuffle(feature_ids)\n",
    "        return feature_ids[:int(np.log2(n_feature)+0.5)]\n",
    "\n",
    "    def __get_feature_ids_N(self, n_feature):\n",
    "        return range(n_feature)\n",
    "\n",
    "    def __sort_samples(self, x, y):\n",
    "        sorted_idx = x.argsort()\n",
    "        return x[sorted_idx], y[sorted_idx]\n",
    "\n",
    "    def __div_samples(self, x, y, feature_id, threshold):\n",
    "        left_mask = x[:, feature_id] > threshold\n",
    "        right_mask = ~left_mask\n",
    "        return x[left_mask], x[right_mask], y[left_mask], y[right_mask]\n",
    "\n",
    "    def __find_threshold(self, x, y):\n",
    "        \"\"\"\n",
    "        ищет лучшее разбиение только по одному признаку, \n",
    "        поэтому в качестве агрумента x должна быть не все матрица признаков, \n",
    "        а только один ее столбец.\n",
    "        \"\"\"\n",
    "\n",
    "        # Что делает этот блок кода?\n",
    "        # сортирует фичу по возрастанию с сохранением номеров класса\n",
    "        sorted_x, sorted_y = self.__sort_samples(x, y)\n",
    "        # количество уникальных классов на текущей иттерации\n",
    "        class_number = np.unique(y).shape[0]\n",
    "\n",
    "        # Что делает этот блок кода?\n",
    "        # определяем границы там, где меняется класс, сохраняя self.min_samples_split\n",
    "        splitted_sorted_y = sorted_y[self.min_samples_split:-\n",
    "                                     self.min_samples_split]\n",
    "        r_border_ids = np.where(\n",
    "            splitted_sorted_y[:-1] != splitted_sorted_y[1:])[0] + (self.min_samples_split + 1)\n",
    "\n",
    "        if len(r_border_ids) == 0:\n",
    "#             return float('+inf'), None\n",
    "            return float('-inf'), None\n",
    "            \n",
    "\n",
    "        # Что делает этот блок кода?\n",
    "        # определяет сколько и каких классов останется\n",
    "        # при каждом разбиении по границам из r_border_ids\n",
    "        eq_el_count = r_border_ids - \\\n",
    "            np.append([self.min_samples_split], r_border_ids[:-1])\n",
    "        one_hot_code = np.zeros((r_border_ids.shape[0], class_number))\n",
    "        one_hot_code[np.arange(r_border_ids.shape[0]),\n",
    "                     sorted_y[r_border_ids - 1]] = 1\n",
    "        class_increments = one_hot_code * eq_el_count.reshape(-1, 1)\n",
    "        class_increments[0] = class_increments[0] + \\\n",
    "            np.bincount(sorted_y[:self.min_samples_split],\n",
    "                        minlength=class_number)\n",
    "\n",
    "        # Что делает этот блок кода?\n",
    "        # число классов в левой вершине после разбиения\n",
    "        l_class_count = np.cumsum(class_increments, axis=0)\n",
    "        # справа\n",
    "        r_class_count = np.bincount(y) - l_class_count\n",
    "        # общее число объектов слева\n",
    "        l_sizes = r_border_ids.reshape(l_class_count.shape[0], 1)\n",
    "        # справа\n",
    "        r_sizes = sorted_y.shape[0] - l_sizes\n",
    "\n",
    "        # Что делает этот блок кода?\n",
    "        # считает прирост информации и ищет аргумент минимального значения\n",
    "        gs = self.G_function(l_class_count, l_sizes, r_class_count, r_sizes)\n",
    "#         idx = np.argmin(gs)\n",
    "        idx = np.argmax(gs) \n",
    "\n",
    "        # Что делает этот блок кода?\n",
    "        # Возвращает минимальное значение меры неопределенности и порог при этом значении\n",
    "        left_el_id = l_sizes[idx][0]\n",
    "        gs_best = gs[idx]\n",
    "        # если случай [0,0,0,1,1,1]\n",
    "        #             [0,1,1,1,1,1]\n",
    "        # то пересчитываем порог и прирост информации(дорого по скорости ~x3)\n",
    "        if sorted_x[left_el_id-1] == sorted_x[left_el_id]:\n",
    "            delta = np.min(sorted_x[1:] - sorted_x[:-1])/2.0\n",
    "            th = sorted_x[left_el_id-1] + delta\n",
    "            x_s = x.reshape(x.shape[0],1)\n",
    "            x_l, x_r, y_l, y_r = self.__div_samples(x_s, y, 0, th)\n",
    "            l_class_count = np.bincount(y_l)\n",
    "            l_class_count = l_class_count.reshape(1,l_class_count.size)\n",
    "            r_class_count = np.bincount(y_l)\n",
    "            r_class_count = r_class_count.reshape(1,r_class_count.size)\n",
    "            l_sizes = np.array([[y_l.size]])\n",
    "            r_sizes = np.array([[y_r.size]])\n",
    "            gs_best = self.G_function(l_class_count, l_sizes, r_class_count, r_sizes)\n",
    "        else:\n",
    "            th = (sorted_x[left_el_id-1] + sorted_x[left_el_id]) / 2.0\n",
    "        return gs_best, th\n",
    "\n",
    "    def __fit_node(self, x, y, node_id, depth, pred_cls=None, pred_p=None):\n",
    "        # Ваш код\n",
    "        # Необходимо использовать следующее:\n",
    "        # self.LEAF_TYPE\n",
    "        # self.NON_LEAF_TYPE\n",
    "\n",
    "        # self.tree\n",
    "        # self.max_depth\n",
    "        # self.min_samples_split\n",
    "\n",
    "        # self.get_feature_ids\n",
    "        # self.__find_threshold\n",
    "        # self.__div_samples\n",
    "        # self.__fit_node\n",
    "#         i_g_best = 1\n",
    "        i_g_best = 0        \n",
    "        feature_id_best = -1\n",
    "        th_best = 0\n",
    "        xT=x.T\n",
    "        # ищем лучший порог разбиения\n",
    "        for i in self.get_feature_ids(xT.shape[0]):\n",
    "            x_f=xT[i,:]\n",
    "            if np.unique(x_f).size == 1:\n",
    "                continue\n",
    "            y_u = np.unique(y)\n",
    "            y_m = np.zeros(y.size, dtype=np.int)\n",
    "            for j in range(1, y_u.size):\n",
    "#                 print((y == y_u[j]).shape,y_m.shape)\n",
    "                y_m[y == y_u[j]] = j\n",
    "            i_g, th = self.__find_threshold(x_f, y_m)\n",
    "#             print(i_g,i,th)\n",
    "#             if i_g < i_g_best:\n",
    "            if th is None:\n",
    "                continue\n",
    "            if i_g > i_g_best:\n",
    "                i_g_best = i_g\n",
    "                th_best = th\n",
    "                feature_id_best = i\n",
    "        # если порог не найден, значит, лист дерева\n",
    "        if feature_id_best == -1:\n",
    "#             print(\"no th\")\n",
    "            mode = stats.mode(y)\n",
    "            y_cls, y_num = mode[0][0], mode[1][0]\n",
    "            self.tree[node_id] = (self.__class__.LEAF_TYPE,\n",
    "                                  y_cls, (y_cls,y_num/y.size))\n",
    "            return\n",
    "#         print(node_id, depth, i_g_best, feature_id_best, th_best)\n",
    "        # иначе делим выборку в дереве\n",
    "        x_l, x_r, y_l, y_r = self.__div_samples(x, y, feature_id_best, th_best)\n",
    "        self.tree[node_id] = (self.__class__.NON_LEAF_TYPE,\n",
    "                              feature_id_best, th_best)\n",
    "#         print(x_l.shape,x_r.shape)\n",
    "#         if x_l.shape[0]==0 or x_r.shape[0]==0:\n",
    "#             print(x_l[:,feature_id_best],x_r[:,feature_id_best])\n",
    "\n",
    "        is_max_depth = False\n",
    "        if self.max_depth:\n",
    "            if self.max_depth >= depth:\n",
    "                is_max_depth = True\n",
    "        mode = stats.mode(y_l)\n",
    "        y_l_cls, y_l_num = mode[0][0], mode[1][0]\n",
    "        mode = stats.mode(y_r)\n",
    "        y_r_cls, y_r_num = mode[0][0], mode[1][0]\n",
    "\n",
    "        # достигнута макс. глубина или идеально разделили\n",
    "        if is_max_depth or i_g_best == 0.0:\n",
    "            self.tree[2*node_id+1] = (self.__class__.LEAF_TYPE,\n",
    "                                      y_l_cls, (y_l_cls, y_l_num/y_l.size))\n",
    "            self.tree[2*node_id+2] = (self.__class__.LEAF_TYPE,\n",
    "                                      y_r_cls, (y_r_cls, y_l_num/y_l.size))\n",
    "#             print(\"stop\")\n",
    "        # если min_samples_split или отсеяли одну часть слева\n",
    "        elif x_l.shape[0] <= self.min_samples_split*2 or np.unique(y_l).size == 1:\n",
    "#             print(\"continue left\")\n",
    "            self.tree[2*node_id+1] = (self.__class__.LEAF_TYPE,\n",
    "                                      y_l_cls, (y_l_cls, y_l_num/y_l.size))\n",
    "            # а вдруг справа?\n",
    "            if x_l.shape[0] <= self.min_samples_split*2:\n",
    "                self.tree[2*node_id+2] = (self.__class__.LEAF_TYPE,\n",
    "                                          y_r_cls, (y_r_cls, y_l_num/y_l.size))\n",
    "            else:\n",
    "                self.__fit_node(x_r, y_r, 2*node_id+2, depth+1,\n",
    "                                y_r_cls, (y_r_cls, y_l_num/y_l.size))\n",
    "        # если min_samples_split или отсеяли одну часть справа\n",
    "        elif x_r.shape[0] <= self.min_samples_split*2 or np.unique(y_r).size == 1:\n",
    "#             print(\"continue right\")\n",
    "            self.tree[2*node_id+2] = (self.__class__.LEAF_TYPE,\n",
    "                                      y_r_cls, (y_r_cls, y_l_num/y_l.size))\n",
    "            if x_r.shape[0] <= self.min_samples_split*2: # для симметрии =)\n",
    "                self.tree[2*node_id+1] = (self.__class__.LEAF_TYPE,\n",
    "                                          y_l_cls, (y_l_cls, y_l_num/y_l.size))\n",
    "            else:\n",
    "                self.__fit_node(x_l, y_l, 2*node_id+1, depth+1,\n",
    "                                y_r_cls, (y_r_cls, y_l_num/y_l.size))\n",
    "        # в противном случае, делим дерево\n",
    "        else:\n",
    "#             print(\"continue bouth\")\n",
    "            self.__fit_node(x_l, y_l, 2*node_id+1, depth+1,\n",
    "                            y_l_cls, (y_l_cls, y_l_num/y_l.size))\n",
    "            self.__fit_node(x_r, y_r, 2*node_id+2, depth+1,\n",
    "                            y_r_cls, (y_r_cls, y_l_num/y_l.size))\n",
    "        return\n",
    "\n",
    "    def fit(self, x, y):\n",
    "        self.num_class = np.unique(y).size\n",
    "        self.__fit_node(x, y, 0, 0)\n",
    "\n",
    "    def __predict_class(self, x, node_id):\n",
    "        node = self.tree[node_id]\n",
    "        if node[0] == self.__class__.NON_LEAF_TYPE:\n",
    "            _, feature_id, threshold = node\n",
    "            if x[feature_id] > threshold:\n",
    "                return self.__predict_class(x, 2 * node_id + 1)\n",
    "            else:\n",
    "                return self.__predict_class(x, 2 * node_id + 2)\n",
    "        else:\n",
    "            return node[1]\n",
    "\n",
    "    def __predict_probs(self, x, node_id):\n",
    "        node = self.tree[node_id]\n",
    "        if node[0] == self.__class__.NON_LEAF_TYPE:\n",
    "            _, feature_id, threshold = node\n",
    "            if x[feature_id] > threshold:\n",
    "                return self.__predict_probs(x, 2 * node_id + 1)\n",
    "            else:\n",
    "                return self.__predict_probs(x, 2 * node_id + 2)\n",
    "        else:\n",
    "            return node[2]\n",
    "\n",
    "    def predict(self, X):\n",
    "        return np.array([self.__predict_class(x, 0) for x in X])\n",
    "\n",
    "    def predict_probs(self, X):\n",
    "        return np.array([self.__predict_probs(x, 0) for x in X])\n",
    "\n",
    "    def fit_predict(self, x_train, y_train, predicted_x):\n",
    "        self.fit(x_train, y_train)\n",
    "        return self.predict(predicted_x)\n"
   ]
  },
  {
   "cell_type": "markdown",
   "metadata": {},
   "source": [
    "Проверим на синтетических идеальных данных"
   ]
  },
  {
   "cell_type": "code",
   "execution_count": 3,
   "metadata": {
    "ExecuteTime": {
     "end_time": "2018-12-29T15:22:09.670591Z",
     "start_time": "2018-12-29T15:22:09.615195Z"
    }
   },
   "outputs": [
    {
     "name": "stdout",
     "output_type": "stream",
     "text": [
      "(500, 2) (500,)\n",
      "[[2 3 0]\n",
      " [3 2 1]\n",
      " [2 3 0]\n",
      " [2 4 2]\n",
      " [4 1 1]\n",
      " [3 2 1]\n",
      " [2 4 2]\n",
      " [0 0 0]\n",
      " [0 4 2]\n",
      " [3 4 3]]\n",
      "[[0 0]\n",
      " [1 1]\n",
      " [0 0]\n",
      " [2 2]\n",
      " [1 1]\n",
      " [1 1]\n",
      " [2 2]\n",
      " [0 0]\n",
      " [2 2]\n",
      " [3 3]]\n",
      "accuracy score 1.0\n"
     ]
    },
    {
     "name": "stderr",
     "output_type": "stream",
     "text": [
      "E:\\Anaconda3\\envs\\ds\\lib\\site-packages\\ipykernel_launcher.py:54: RuntimeWarning: invalid value encountered in true_divide\n",
      "E:\\Anaconda3\\envs\\ds\\lib\\site-packages\\ipykernel_launcher.py:202: RuntimeWarning: invalid value encountered in greater\n"
     ]
    }
   ],
   "source": [
    "np.random.seed(0)\n",
    "# x = np.array(5*np.random.rand(500,1),dtype=np.int32)\n",
    "x = np.array(5*np.random.rand(500, 2), dtype=np.int32)\n",
    "y = np.zeros(x.shape[0], dtype=np.int)\n",
    "y[np.where(x[:, 0] > 2)[0]] = 1\n",
    "# y[np.where(x[:, 0] > 3)[0]] = 2\n",
    "y[np.where(x[:, 1] > 3)[0]] = 2\n",
    "y[np.where((x[:, 1] > 3) & (x[:, 0] > 2))[0]] = 3\n",
    "print(x.shape, y.shape)\n",
    "print(np.c_[x,y][:10,:])\n",
    "m_clf = MyDecisionTreeClassifier()\n",
    "m_clf.fit(x, y)\n",
    "y_pred=m_clf.predict(x)\n",
    "print(np.c_[y,y_pred][:10,:])\n",
    "print('accuracy score',accuracy_score(y_pred=y_pred, y_true=y))"
   ]
  },
  {
   "cell_type": "code",
   "execution_count": 4,
   "metadata": {
    "ExecuteTime": {
     "end_time": "2018-12-29T15:22:10.134749Z",
     "start_time": "2018-12-29T15:22:09.677578Z"
    }
   },
   "outputs": [
    {
     "data": {
      "text/plain": [
       "(120269, 11)"
      ]
     },
     "execution_count": 4,
     "metadata": {},
     "output_type": "execute_result"
    }
   ],
   "source": [
    "df = pd.read_csv('./cs_training.csv', sep=',').dropna()\n",
    "df.shape"
   ]
  },
  {
   "cell_type": "code",
   "execution_count": 5,
   "metadata": {
    "ExecuteTime": {
     "end_time": "2018-12-29T15:22:10.181145Z",
     "start_time": "2018-12-29T15:22:10.137226Z"
    }
   },
   "outputs": [
    {
     "data": {
      "text/html": [
       "<div>\n",
       "<style scoped>\n",
       "    .dataframe tbody tr th:only-of-type {\n",
       "        vertical-align: middle;\n",
       "    }\n",
       "\n",
       "    .dataframe tbody tr th {\n",
       "        vertical-align: top;\n",
       "    }\n",
       "\n",
       "    .dataframe thead th {\n",
       "        text-align: right;\n",
       "    }\n",
       "</style>\n",
       "<table border=\"1\" class=\"dataframe\">\n",
       "  <thead>\n",
       "    <tr style=\"text-align: right;\">\n",
       "      <th></th>\n",
       "      <th>SeriousDlqin2yrs</th>\n",
       "      <th>RevolvingUtilizationOfUnsecuredLines</th>\n",
       "      <th>age</th>\n",
       "      <th>NumberOfTime30-59DaysPastDueNotWorse</th>\n",
       "      <th>DebtRatio</th>\n",
       "      <th>MonthlyIncome</th>\n",
       "      <th>NumberOfOpenCreditLinesAndLoans</th>\n",
       "      <th>NumberOfTimes90DaysLate</th>\n",
       "      <th>NumberRealEstateLoansOrLines</th>\n",
       "      <th>NumberOfTime60-89DaysPastDueNotWorse</th>\n",
       "      <th>NumberOfDependents</th>\n",
       "    </tr>\n",
       "  </thead>\n",
       "  <tbody>\n",
       "    <tr>\n",
       "      <th>1</th>\n",
       "      <td>1</td>\n",
       "      <td>0.766127</td>\n",
       "      <td>45</td>\n",
       "      <td>2</td>\n",
       "      <td>0.802982</td>\n",
       "      <td>9120.0</td>\n",
       "      <td>13</td>\n",
       "      <td>0</td>\n",
       "      <td>6</td>\n",
       "      <td>0</td>\n",
       "      <td>2.0</td>\n",
       "    </tr>\n",
       "    <tr>\n",
       "      <th>2</th>\n",
       "      <td>0</td>\n",
       "      <td>0.957151</td>\n",
       "      <td>40</td>\n",
       "      <td>0</td>\n",
       "      <td>0.121876</td>\n",
       "      <td>2600.0</td>\n",
       "      <td>4</td>\n",
       "      <td>0</td>\n",
       "      <td>0</td>\n",
       "      <td>0</td>\n",
       "      <td>1.0</td>\n",
       "    </tr>\n",
       "    <tr>\n",
       "      <th>3</th>\n",
       "      <td>0</td>\n",
       "      <td>0.658180</td>\n",
       "      <td>38</td>\n",
       "      <td>1</td>\n",
       "      <td>0.085113</td>\n",
       "      <td>3042.0</td>\n",
       "      <td>2</td>\n",
       "      <td>1</td>\n",
       "      <td>0</td>\n",
       "      <td>0</td>\n",
       "      <td>0.0</td>\n",
       "    </tr>\n",
       "    <tr>\n",
       "      <th>4</th>\n",
       "      <td>0</td>\n",
       "      <td>0.233810</td>\n",
       "      <td>30</td>\n",
       "      <td>0</td>\n",
       "      <td>0.036050</td>\n",
       "      <td>3300.0</td>\n",
       "      <td>5</td>\n",
       "      <td>0</td>\n",
       "      <td>0</td>\n",
       "      <td>0</td>\n",
       "      <td>0.0</td>\n",
       "    </tr>\n",
       "    <tr>\n",
       "      <th>5</th>\n",
       "      <td>0</td>\n",
       "      <td>0.907239</td>\n",
       "      <td>49</td>\n",
       "      <td>1</td>\n",
       "      <td>0.024926</td>\n",
       "      <td>63588.0</td>\n",
       "      <td>7</td>\n",
       "      <td>0</td>\n",
       "      <td>1</td>\n",
       "      <td>0</td>\n",
       "      <td>0.0</td>\n",
       "    </tr>\n",
       "  </tbody>\n",
       "</table>\n",
       "</div>"
      ],
      "text/plain": [
       "   SeriousDlqin2yrs  RevolvingUtilizationOfUnsecuredLines  age  \\\n",
       "1                 1                              0.766127   45   \n",
       "2                 0                              0.957151   40   \n",
       "3                 0                              0.658180   38   \n",
       "4                 0                              0.233810   30   \n",
       "5                 0                              0.907239   49   \n",
       "\n",
       "   NumberOfTime30-59DaysPastDueNotWorse  DebtRatio  MonthlyIncome  \\\n",
       "1                                     2   0.802982         9120.0   \n",
       "2                                     0   0.121876         2600.0   \n",
       "3                                     1   0.085113         3042.0   \n",
       "4                                     0   0.036050         3300.0   \n",
       "5                                     1   0.024926        63588.0   \n",
       "\n",
       "   NumberOfOpenCreditLinesAndLoans  NumberOfTimes90DaysLate  \\\n",
       "1                               13                        0   \n",
       "2                                4                        0   \n",
       "3                                2                        1   \n",
       "4                                5                        0   \n",
       "5                                7                        0   \n",
       "\n",
       "   NumberRealEstateLoansOrLines  NumberOfTime60-89DaysPastDueNotWorse  \\\n",
       "1                             6                                     0   \n",
       "2                             0                                     0   \n",
       "3                             0                                     0   \n",
       "4                             0                                     0   \n",
       "5                             1                                     0   \n",
       "\n",
       "   NumberOfDependents  \n",
       "1                 2.0  \n",
       "2                 1.0  \n",
       "3                 0.0  \n",
       "4                 0.0  \n",
       "5                 0.0  "
      ]
     },
     "execution_count": 5,
     "metadata": {},
     "output_type": "execute_result"
    }
   ],
   "source": [
    "df.head()"
   ]
  },
  {
   "cell_type": "code",
   "execution_count": 6,
   "metadata": {
    "ExecuteTime": {
     "end_time": "2018-12-29T15:22:10.227560Z",
     "start_time": "2018-12-29T15:22:10.185140Z"
    }
   },
   "outputs": [
    {
     "name": "stderr",
     "output_type": "stream",
     "text": [
      "E:\\Anaconda3\\envs\\ds\\lib\\site-packages\\ipykernel_launcher.py:1: FutureWarning: Method .as_matrix will be removed in a future version. Use .values instead.\n",
      "  \"\"\"Entry point for launching an IPython kernel.\n",
      "E:\\Anaconda3\\envs\\ds\\lib\\site-packages\\ipykernel_launcher.py:2: FutureWarning: Method .as_matrix will be removed in a future version. Use .values instead.\n",
      "  \n"
     ]
    }
   ],
   "source": [
    "x = df.as_matrix(columns=df.columns[1:])\n",
    "y = df.as_matrix(columns=df.columns[:1])\n",
    "y = y.reshape(y.shape[0])"
   ]
  },
  {
   "cell_type": "code",
   "execution_count": 7,
   "metadata": {
    "ExecuteTime": {
     "end_time": "2018-12-29T15:22:10.243030Z",
     "start_time": "2018-12-29T15:22:10.231549Z"
    }
   },
   "outputs": [],
   "source": [
    "my_clf = MyDecisionTreeClassifier(min_samples_split=2)\n",
    "clf = DecisionTreeClassifier(min_samples_split=2)"
   ]
  },
  {
   "cell_type": "markdown",
   "metadata": {},
   "source": [
    "## Проверка скорости работы"
   ]
  },
  {
   "cell_type": "code",
   "execution_count": 8,
   "metadata": {
    "ExecuteTime": {
     "end_time": "2018-12-29T15:22:10.258500Z",
     "start_time": "2018-12-29T15:22:10.248019Z"
    }
   },
   "outputs": [],
   "source": [
    "# %prun my_clf.fit(x, y)"
   ]
  },
  {
   "cell_type": "code",
   "execution_count": 9,
   "metadata": {
    "ExecuteTime": {
     "end_time": "2018-12-29T15:22:10.274469Z",
     "start_time": "2018-12-29T15:22:10.262491Z"
    }
   },
   "outputs": [],
   "source": [
    "# from pycallgraph import PyCallGraph\n",
    "# from pycallgraph.output import GraphvizOutput\n",
    "\n",
    "# with PyCallGraph(output=GraphvizOutput()):\n",
    "#     my_clf.fit(x, y)"
   ]
  },
  {
   "cell_type": "code",
   "execution_count": 10,
   "metadata": {
    "ExecuteTime": {
     "end_time": "2018-12-29T15:22:30.463944Z",
     "start_time": "2018-12-29T15:22:10.282455Z"
    },
    "scrolled": true
   },
   "outputs": [
    {
     "name": "stderr",
     "output_type": "stream",
     "text": [
      "E:\\Anaconda3\\envs\\ds\\lib\\site-packages\\ipykernel_launcher.py:54: RuntimeWarning: invalid value encountered in true_divide\n",
      "E:\\Anaconda3\\envs\\ds\\lib\\site-packages\\ipykernel_launcher.py:202: RuntimeWarning: invalid value encountered in greater\n"
     ]
    },
    {
     "name": "stdout",
     "output_type": "stream",
     "text": [
      "18.27403163909912\n",
      "1.8735179901123047\n"
     ]
    }
   ],
   "source": [
    "t1 = time()\n",
    "my_clf.fit(x, y)\n",
    "t2 = time()\n",
    "print(t2 - t1)\n",
    "\n",
    "t1 = time()\n",
    "clf.fit(x, y)\n",
    "t2 = time()\n",
    "print(t2 - t1)"
   ]
  },
  {
   "cell_type": "markdown",
   "metadata": {},
   "source": [
    "Если убрать эвристику в __find_threshold, то считает в 3-4 раза быстрее, но все равно раза в 3 медленнее стандартной реализации. Нужно переписывать эту функцию. В противном случае не работает на реальных данных."
   ]
  },
  {
   "cell_type": "markdown",
   "metadata": {},
   "source": [
    "## Проверка качества работы"
   ]
  },
  {
   "cell_type": "code",
   "execution_count": 11,
   "metadata": {
    "ExecuteTime": {
     "end_time": "2018-12-29T15:22:30.479416Z",
     "start_time": "2018-12-29T15:22:30.468936Z"
    }
   },
   "outputs": [],
   "source": [
    "gkf = KFold(n_splits=5, shuffle=True)"
   ]
  },
  {
   "cell_type": "code",
   "execution_count": 12,
   "metadata": {
    "ExecuteTime": {
     "end_time": "2018-12-29T15:23:39.728708Z",
     "start_time": "2018-12-29T15:22:30.486403Z"
    },
    "scrolled": true
   },
   "outputs": [
    {
     "name": "stderr",
     "output_type": "stream",
     "text": [
      "E:\\Anaconda3\\envs\\ds\\lib\\site-packages\\ipykernel_launcher.py:54: RuntimeWarning: invalid value encountered in true_divide\n",
      "E:\\Anaconda3\\envs\\ds\\lib\\site-packages\\ipykernel_launcher.py:202: RuntimeWarning: invalid value encountered in greater\n"
     ]
    },
    {
     "name": "stdout",
     "output_type": "stream",
     "text": [
      "0.9165211607217095\n",
      "0.9161054294504033\n",
      "0.9195559990022449\n",
      "0.9158975638147502\n",
      "0.9138568993472748\n"
     ]
    }
   ],
   "source": [
    "for train, test in gkf.split(x, y):\n",
    "    X_train, y_train = x[train], y[train]\n",
    "    X_test, y_test = x[test], y[test]\n",
    "    my_clf.fit(X_train, y_train)\n",
    "    print(accuracy_score(y_pred=my_clf.predict(X_test), y_true=y_test))"
   ]
  },
  {
   "cell_type": "code",
   "execution_count": 13,
   "metadata": {
    "ExecuteTime": {
     "end_time": "2018-12-29T15:23:45.607781Z",
     "start_time": "2018-12-29T15:23:39.733199Z"
    }
   },
   "outputs": [
    {
     "name": "stdout",
     "output_type": "stream",
     "text": [
      "0.891660430697597\n",
      "0.8921593082231646\n",
      "0.8901637981208946\n",
      "0.892325600731687\n",
      "0.8921548247619839\n"
     ]
    }
   ],
   "source": [
    "for train, test in gkf.split(x, y):\n",
    "    X_train, y_train = x[train], y[train]\n",
    "    X_test, y_test = x[test], y[test]\n",
    "    clf.fit(X_train, y_train)\n",
    "    print(accuracy_score(y_pred=clf.predict(X_test), y_true=y_test))"
   ]
  },
  {
   "cell_type": "markdown",
   "metadata": {},
   "source": [
    "# Применить для задачи Titanic "
   ]
  },
  {
   "cell_type": "code",
   "execution_count": 14,
   "metadata": {
    "ExecuteTime": {
     "end_time": "2018-12-29T15:23:45.654195Z",
     "start_time": "2018-12-29T15:23:45.611776Z"
    }
   },
   "outputs": [
    {
     "data": {
      "text/html": [
       "<div>\n",
       "<style scoped>\n",
       "    .dataframe tbody tr th:only-of-type {\n",
       "        vertical-align: middle;\n",
       "    }\n",
       "\n",
       "    .dataframe tbody tr th {\n",
       "        vertical-align: top;\n",
       "    }\n",
       "\n",
       "    .dataframe thead th {\n",
       "        text-align: right;\n",
       "    }\n",
       "</style>\n",
       "<table border=\"1\" class=\"dataframe\">\n",
       "  <thead>\n",
       "    <tr style=\"text-align: right;\">\n",
       "      <th></th>\n",
       "      <th>PassengerId</th>\n",
       "      <th>Survived</th>\n",
       "      <th>Pclass</th>\n",
       "      <th>Name</th>\n",
       "      <th>Sex</th>\n",
       "      <th>Age</th>\n",
       "      <th>SibSp</th>\n",
       "      <th>Parch</th>\n",
       "      <th>Ticket</th>\n",
       "      <th>Fare</th>\n",
       "      <th>Cabin</th>\n",
       "      <th>Embarked</th>\n",
       "    </tr>\n",
       "  </thead>\n",
       "  <tbody>\n",
       "    <tr>\n",
       "      <th>0</th>\n",
       "      <td>1</td>\n",
       "      <td>0</td>\n",
       "      <td>3</td>\n",
       "      <td>Braund, Mr. Owen Harris</td>\n",
       "      <td>male</td>\n",
       "      <td>22.0</td>\n",
       "      <td>1</td>\n",
       "      <td>0</td>\n",
       "      <td>A/5 21171</td>\n",
       "      <td>7.2500</td>\n",
       "      <td>NaN</td>\n",
       "      <td>S</td>\n",
       "    </tr>\n",
       "    <tr>\n",
       "      <th>1</th>\n",
       "      <td>2</td>\n",
       "      <td>1</td>\n",
       "      <td>1</td>\n",
       "      <td>Cumings, Mrs. John Bradley (Florence Briggs Th...</td>\n",
       "      <td>female</td>\n",
       "      <td>38.0</td>\n",
       "      <td>1</td>\n",
       "      <td>0</td>\n",
       "      <td>PC 17599</td>\n",
       "      <td>71.2833</td>\n",
       "      <td>C85</td>\n",
       "      <td>C</td>\n",
       "    </tr>\n",
       "    <tr>\n",
       "      <th>2</th>\n",
       "      <td>3</td>\n",
       "      <td>1</td>\n",
       "      <td>3</td>\n",
       "      <td>Heikkinen, Miss. Laina</td>\n",
       "      <td>female</td>\n",
       "      <td>26.0</td>\n",
       "      <td>0</td>\n",
       "      <td>0</td>\n",
       "      <td>STON/O2. 3101282</td>\n",
       "      <td>7.9250</td>\n",
       "      <td>NaN</td>\n",
       "      <td>S</td>\n",
       "    </tr>\n",
       "    <tr>\n",
       "      <th>3</th>\n",
       "      <td>4</td>\n",
       "      <td>1</td>\n",
       "      <td>1</td>\n",
       "      <td>Futrelle, Mrs. Jacques Heath (Lily May Peel)</td>\n",
       "      <td>female</td>\n",
       "      <td>35.0</td>\n",
       "      <td>1</td>\n",
       "      <td>0</td>\n",
       "      <td>113803</td>\n",
       "      <td>53.1000</td>\n",
       "      <td>C123</td>\n",
       "      <td>S</td>\n",
       "    </tr>\n",
       "    <tr>\n",
       "      <th>4</th>\n",
       "      <td>5</td>\n",
       "      <td>0</td>\n",
       "      <td>3</td>\n",
       "      <td>Allen, Mr. William Henry</td>\n",
       "      <td>male</td>\n",
       "      <td>35.0</td>\n",
       "      <td>0</td>\n",
       "      <td>0</td>\n",
       "      <td>373450</td>\n",
       "      <td>8.0500</td>\n",
       "      <td>NaN</td>\n",
       "      <td>S</td>\n",
       "    </tr>\n",
       "  </tbody>\n",
       "</table>\n",
       "</div>"
      ],
      "text/plain": [
       "   PassengerId  Survived  Pclass  \\\n",
       "0            1         0       3   \n",
       "1            2         1       1   \n",
       "2            3         1       3   \n",
       "3            4         1       1   \n",
       "4            5         0       3   \n",
       "\n",
       "                                                Name     Sex   Age  SibSp  \\\n",
       "0                            Braund, Mr. Owen Harris    male  22.0      1   \n",
       "1  Cumings, Mrs. John Bradley (Florence Briggs Th...  female  38.0      1   \n",
       "2                             Heikkinen, Miss. Laina  female  26.0      0   \n",
       "3       Futrelle, Mrs. Jacques Heath (Lily May Peel)  female  35.0      1   \n",
       "4                           Allen, Mr. William Henry    male  35.0      0   \n",
       "\n",
       "   Parch            Ticket     Fare Cabin Embarked  \n",
       "0      0         A/5 21171   7.2500   NaN        S  \n",
       "1      0          PC 17599  71.2833   C85        C  \n",
       "2      0  STON/O2. 3101282   7.9250   NaN        S  \n",
       "3      0            113803  53.1000  C123        S  \n",
       "4      0            373450   8.0500   NaN        S  "
      ]
     },
     "execution_count": 14,
     "metadata": {},
     "output_type": "execute_result"
    }
   ],
   "source": [
    "df = pd.read_csv('./train.csv', sep=',')\n",
    "df.head()"
   ]
  },
  {
   "cell_type": "code",
   "execution_count": 15,
   "metadata": {
    "ExecuteTime": {
     "end_time": "2018-12-29T15:23:45.669686Z",
     "start_time": "2018-12-29T15:23:45.657190Z"
    }
   },
   "outputs": [
    {
     "data": {
      "text/plain": [
       "'\\nPassengerId:type should be integers\\nSurvived:Survived or Not\\nPclass:Class of Travel\\nName:Name of Passenger\\nSex:Gender\\nAge:Age of Passengers\\nSibSp:Number of Sibling/Spouse aboard\\nParch:Number of Parent/Child aboard\\nTicket\\nFare\\nCabin\\nEmbarked:The port in which a passenger has embarked. C - Cherbourg, S - Southampton, Q = Queenstown\\n'"
      ]
     },
     "execution_count": 15,
     "metadata": {},
     "output_type": "execute_result"
    }
   ],
   "source": [
    "\"\"\"\n",
    "PassengerId:type should be integers\n",
    "Survived:Survived or Not\n",
    "Pclass:Class of Travel\n",
    "Name:Name of Passenger\n",
    "Sex:Gender\n",
    "Age:Age of Passengers\n",
    "SibSp:Number of Sibling/Spouse aboard\n",
    "Parch:Number of Parent/Child aboard\n",
    "Ticket\n",
    "Fare\n",
    "Cabin\n",
    "Embarked:The port in which a passenger has embarked. C - Cherbourg, S - Southampton, Q = Queenstown\n",
    "\"\"\""
   ]
  },
  {
   "cell_type": "code",
   "execution_count": 16,
   "metadata": {
    "ExecuteTime": {
     "end_time": "2018-12-29T15:23:45.700609Z",
     "start_time": "2018-12-29T15:23:45.674159Z"
    }
   },
   "outputs": [
    {
     "name": "stdout",
     "output_type": "stream",
     "text": [
      "(891, 5)\n",
      "(714, 5)\n"
     ]
    }
   ],
   "source": [
    "df = df.drop(columns=['PassengerId','Name','SibSp','Ticket','Fare','Cabin','Embarked'])\n",
    "print(df.shape)\n",
    "df = df.dropna()\n",
    "print(df.shape)"
   ]
  },
  {
   "cell_type": "code",
   "execution_count": 17,
   "metadata": {
    "ExecuteTime": {
     "end_time": "2018-12-29T15:23:45.762493Z",
     "start_time": "2018-12-29T15:23:45.733050Z"
    }
   },
   "outputs": [
    {
     "data": {
      "text/html": [
       "<div>\n",
       "<style scoped>\n",
       "    .dataframe tbody tr th:only-of-type {\n",
       "        vertical-align: middle;\n",
       "    }\n",
       "\n",
       "    .dataframe tbody tr th {\n",
       "        vertical-align: top;\n",
       "    }\n",
       "\n",
       "    .dataframe thead th {\n",
       "        text-align: right;\n",
       "    }\n",
       "</style>\n",
       "<table border=\"1\" class=\"dataframe\">\n",
       "  <thead>\n",
       "    <tr style=\"text-align: right;\">\n",
       "      <th></th>\n",
       "      <th>Survived</th>\n",
       "      <th>Pclass</th>\n",
       "      <th>Sex</th>\n",
       "      <th>Age</th>\n",
       "      <th>Parch</th>\n",
       "    </tr>\n",
       "  </thead>\n",
       "  <tbody>\n",
       "    <tr>\n",
       "      <th>0</th>\n",
       "      <td>0</td>\n",
       "      <td>3</td>\n",
       "      <td>male</td>\n",
       "      <td>22.0</td>\n",
       "      <td>0</td>\n",
       "    </tr>\n",
       "    <tr>\n",
       "      <th>1</th>\n",
       "      <td>1</td>\n",
       "      <td>1</td>\n",
       "      <td>female</td>\n",
       "      <td>38.0</td>\n",
       "      <td>0</td>\n",
       "    </tr>\n",
       "    <tr>\n",
       "      <th>2</th>\n",
       "      <td>1</td>\n",
       "      <td>3</td>\n",
       "      <td>female</td>\n",
       "      <td>26.0</td>\n",
       "      <td>0</td>\n",
       "    </tr>\n",
       "    <tr>\n",
       "      <th>3</th>\n",
       "      <td>1</td>\n",
       "      <td>1</td>\n",
       "      <td>female</td>\n",
       "      <td>35.0</td>\n",
       "      <td>0</td>\n",
       "    </tr>\n",
       "    <tr>\n",
       "      <th>4</th>\n",
       "      <td>0</td>\n",
       "      <td>3</td>\n",
       "      <td>male</td>\n",
       "      <td>35.0</td>\n",
       "      <td>0</td>\n",
       "    </tr>\n",
       "  </tbody>\n",
       "</table>\n",
       "</div>"
      ],
      "text/plain": [
       "   Survived  Pclass     Sex   Age  Parch\n",
       "0         0       3    male  22.0      0\n",
       "1         1       1  female  38.0      0\n",
       "2         1       3  female  26.0      0\n",
       "3         1       1  female  35.0      0\n",
       "4         0       3    male  35.0      0"
      ]
     },
     "execution_count": 17,
     "metadata": {},
     "output_type": "execute_result"
    }
   ],
   "source": [
    "df.head()"
   ]
  },
  {
   "cell_type": "code",
   "execution_count": 18,
   "metadata": {
    "ExecuteTime": {
     "end_time": "2018-12-29T15:23:45.824381Z",
     "start_time": "2018-12-29T15:23:45.791448Z"
    },
    "scrolled": true
   },
   "outputs": [
    {
     "name": "stderr",
     "output_type": "stream",
     "text": [
      "E:\\Anaconda3\\envs\\ds\\lib\\site-packages\\ipykernel_launcher.py:6: FutureWarning: Method .as_matrix will be removed in a future version. Use .values instead.\n",
      "  \n",
      "E:\\Anaconda3\\envs\\ds\\lib\\site-packages\\ipykernel_launcher.py:7: FutureWarning: Method .as_matrix will be removed in a future version. Use .values instead.\n",
      "  import sys\n",
      "E:\\Anaconda3\\envs\\ds\\lib\\site-packages\\ipykernel_launcher.py:10: FutureWarning: Method .as_matrix will be removed in a future version. Use .values instead.\n",
      "  # Remove the CWD from sys.path while we load stuff.\n"
     ]
    },
    {
     "data": {
      "text/plain": [
       "((714, 4), (714,))"
      ]
     },
     "execution_count": 18,
     "metadata": {},
     "output_type": "execute_result"
    }
   ],
   "source": [
    "from sklearn.preprocessing import LabelEncoder\n",
    "from collections import defaultdict\n",
    "d = defaultdict(LabelEncoder)\n",
    "\n",
    "X = np.c_[\n",
    "    df[['Sex']].apply(lambda x: d[x.name].fit_transform(x)).as_matrix(),\n",
    "    df[['Pclass', 'Age','Parch']].as_matrix()\n",
    "]\n",
    "\n",
    "y = df.as_matrix(columns=df.columns[:1])\n",
    "y = y.reshape(y.shape[0])\n",
    "X.shape, y.shape"
   ]
  },
  {
   "cell_type": "code",
   "execution_count": 19,
   "metadata": {
    "ExecuteTime": {
     "end_time": "2018-12-29T15:23:45.839850Z",
     "start_time": "2018-12-29T15:23:45.828371Z"
    }
   },
   "outputs": [],
   "source": [
    "dt = MyDecisionTreeClassifier()"
   ]
  },
  {
   "cell_type": "code",
   "execution_count": 20,
   "metadata": {
    "ExecuteTime": {
     "end_time": "2018-12-29T15:23:46.381343Z",
     "start_time": "2018-12-29T15:23:45.844841Z"
    },
    "scrolled": false
   },
   "outputs": [
    {
     "name": "stderr",
     "output_type": "stream",
     "text": [
      "E:\\Anaconda3\\envs\\ds\\lib\\site-packages\\ipykernel_launcher.py:54: RuntimeWarning: invalid value encountered in true_divide\n",
      "E:\\Anaconda3\\envs\\ds\\lib\\site-packages\\ipykernel_launcher.py:202: RuntimeWarning: invalid value encountered in greater\n"
     ]
    },
    {
     "name": "stdout",
     "output_type": "stream",
     "text": [
      "0.8881118881118881\n",
      "0.7622377622377622\n",
      "0.8041958041958042\n",
      "0.7692307692307693\n",
      "0.795774647887324\n"
     ]
    }
   ],
   "source": [
    "gkf = KFold(n_splits=5, shuffle=True)\n",
    "for train, test in gkf.split(X, y):\n",
    "    X_train, y_train = X[train], y[train]\n",
    "    X_test, y_test = X[test], y[test]\n",
    "    dt.fit(X_train, y_train)\n",
    "    print(accuracy_score(y_pred=dt.predict(X_test), y_true=y_test))"
   ]
  },
  {
   "cell_type": "code",
   "execution_count": null,
   "metadata": {},
   "outputs": [],
   "source": []
  }
 ],
 "metadata": {
  "kernelspec": {
   "display_name": "Python 3",
   "language": "python",
   "name": "python3"
  },
  "language_info": {
   "codemirror_mode": {
    "name": "ipython",
    "version": 3
   },
   "file_extension": ".py",
   "mimetype": "text/x-python",
   "name": "python",
   "nbconvert_exporter": "python",
   "pygments_lexer": "ipython3",
   "version": "3.6.7"
  },
  "varInspector": {
   "cols": {
    "lenName": 16,
    "lenType": 16,
    "lenVar": 40
   },
   "kernels_config": {
    "python": {
     "delete_cmd_postfix": "",
     "delete_cmd_prefix": "del ",
     "library": "var_list.py",
     "varRefreshCmd": "print(var_dic_list())"
    },
    "r": {
     "delete_cmd_postfix": ") ",
     "delete_cmd_prefix": "rm(",
     "library": "var_list.r",
     "varRefreshCmd": "cat(var_dic_list()) "
    }
   },
   "types_to_exclude": [
    "module",
    "function",
    "builtin_function_or_method",
    "instance",
    "_Feature"
   ],
   "window_display": false
  }
 },
 "nbformat": 4,
 "nbformat_minor": 2
}
