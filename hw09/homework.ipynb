{
 "cells": [
  {
   "cell_type": "markdown",
   "metadata": {},
   "source": [
    "Простые НС и метод обратного распространения ошибки\n",
    "\n",
    "Обучить НС на датасете MNIST.\n",
    "\n",
    "Критерии оценки: 1. Точность классификации "
   ]
  },
  {
   "cell_type": "code",
   "execution_count": 2,
   "metadata": {},
   "outputs": [
    {
     "name": "stderr",
     "output_type": "stream",
     "text": [
      "Using TensorFlow backend.\n"
     ]
    }
   ],
   "source": [
    "import numpy as np\n",
    "from keras.backend import clear_session\n",
    "from keras.models import Sequential\n",
    "from keras.layers import Input, Dense, Activation\n",
    "from keras.models import Model\n",
    "from keras import optimizers\n",
    "from keras import initializers"
   ]
  },
  {
   "cell_type": "code",
   "execution_count": 3,
   "metadata": {},
   "outputs": [
    {
     "name": "stdout",
     "output_type": "stream",
     "text": [
      "WARNING:tensorflow:From <ipython-input-3-93f0541a24cb>:2: read_data_sets (from tensorflow.contrib.learn.python.learn.datasets.mnist) is deprecated and will be removed in a future version.\n",
      "Instructions for updating:\n",
      "Please use alternatives such as official/mnist/dataset.py from tensorflow/models.\n",
      "WARNING:tensorflow:From /home/necromant/.virtualenvs/datascience/lib/python3.6/site-packages/tensorflow/contrib/learn/python/learn/datasets/mnist.py:260: maybe_download (from tensorflow.contrib.learn.python.learn.datasets.base) is deprecated and will be removed in a future version.\n",
      "Instructions for updating:\n",
      "Please write your own downloading logic.\n",
      "WARNING:tensorflow:From /home/necromant/.virtualenvs/datascience/lib/python3.6/site-packages/tensorflow/contrib/learn/python/learn/datasets/mnist.py:262: extract_images (from tensorflow.contrib.learn.python.learn.datasets.mnist) is deprecated and will be removed in a future version.\n",
      "Instructions for updating:\n",
      "Please use tf.data to implement this functionality.\n",
      "Extracting MNIST_data/train-images-idx3-ubyte.gz\n",
      "WARNING:tensorflow:From /home/necromant/.virtualenvs/datascience/lib/python3.6/site-packages/tensorflow/contrib/learn/python/learn/datasets/mnist.py:267: extract_labels (from tensorflow.contrib.learn.python.learn.datasets.mnist) is deprecated and will be removed in a future version.\n",
      "Instructions for updating:\n",
      "Please use tf.data to implement this functionality.\n",
      "Extracting MNIST_data/train-labels-idx1-ubyte.gz\n",
      "WARNING:tensorflow:From /home/necromant/.virtualenvs/datascience/lib/python3.6/site-packages/tensorflow/contrib/learn/python/learn/datasets/mnist.py:110: dense_to_one_hot (from tensorflow.contrib.learn.python.learn.datasets.mnist) is deprecated and will be removed in a future version.\n",
      "Instructions for updating:\n",
      "Please use tf.one_hot on tensors.\n",
      "Extracting MNIST_data/t10k-images-idx3-ubyte.gz\n",
      "Extracting MNIST_data/t10k-labels-idx1-ubyte.gz\n",
      "WARNING:tensorflow:From /home/necromant/.virtualenvs/datascience/lib/python3.6/site-packages/tensorflow/contrib/learn/python/learn/datasets/mnist.py:290: DataSet.__init__ (from tensorflow.contrib.learn.python.learn.datasets.mnist) is deprecated and will be removed in a future version.\n",
      "Instructions for updating:\n",
      "Please use alternatives such as official/mnist/dataset.py from tensorflow/models.\n"
     ]
    }
   ],
   "source": [
    "from tensorflow.examples.tutorials.mnist import input_data\n",
    "mnist = input_data.read_data_sets(\"MNIST_data/\", one_hot=True) # загружаем MNIST"
   ]
  },
  {
   "cell_type": "code",
   "execution_count": 4,
   "metadata": {},
   "outputs": [
    {
     "data": {
      "text/plain": [
       "array([0.        , 0.        , 0.        , 0.        , 0.        ,\n",
       "       0.        , 0.        , 0.        , 0.        , 0.        ,\n",
       "       0.        , 0.        , 0.        , 0.        , 0.        ,\n",
       "       0.        , 0.        , 0.        , 0.        , 0.        ,\n",
       "       0.        , 0.        , 0.        , 0.        , 0.        ,\n",
       "       0.        , 0.        , 0.        , 0.        , 0.        ,\n",
       "       0.        , 0.        , 0.        , 0.        , 0.        ,\n",
       "       0.        , 0.        , 0.        , 0.        , 0.        ,\n",
       "       0.        , 0.        , 0.        , 0.        , 0.        ,\n",
       "       0.        , 0.        , 0.        , 0.        , 0.        ,\n",
       "       0.        , 0.        , 0.        , 0.        , 0.        ,\n",
       "       0.        , 0.        , 0.        , 0.        , 0.        ,\n",
       "       0.        , 0.        , 0.        , 0.        , 0.        ,\n",
       "       0.        , 0.        , 0.        , 0.        , 0.        ,\n",
       "       0.        , 0.        , 0.        , 0.        , 0.        ,\n",
       "       0.        , 0.        , 0.        , 0.        , 0.        ,\n",
       "       0.        , 0.        , 0.        , 0.        , 0.        ,\n",
       "       0.        , 0.        , 0.        , 0.        , 0.        ,\n",
       "       0.        , 0.        , 0.        , 0.        , 0.        ,\n",
       "       0.        , 0.        , 0.        , 0.        , 0.        ,\n",
       "       0.        , 0.        , 0.        , 0.        , 0.        ,\n",
       "       0.        , 0.        , 0.        , 0.        , 0.        ,\n",
       "       0.        , 0.        , 0.        , 0.        , 0.        ,\n",
       "       0.        , 0.        , 0.        , 0.        , 0.        ,\n",
       "       0.        , 0.        , 0.        , 0.        , 0.        ,\n",
       "       0.        , 0.        , 0.        , 0.        , 0.        ,\n",
       "       0.        , 0.        , 0.        , 0.        , 0.        ,\n",
       "       0.        , 0.        , 0.        , 0.        , 0.        ,\n",
       "       0.        , 0.        , 0.        , 0.        , 0.        ,\n",
       "       0.        , 0.        , 0.        , 0.        , 0.        ,\n",
       "       0.        , 0.        , 0.        , 0.        , 0.        ,\n",
       "       0.        , 0.        , 0.        , 0.        , 0.        ,\n",
       "       0.        , 0.        , 0.        , 0.        , 0.        ,\n",
       "       0.        , 0.        , 0.        , 0.        , 0.        ,\n",
       "       0.        , 0.        , 0.        , 0.        , 0.        ,\n",
       "       0.        , 0.        , 0.        , 0.        , 0.        ,\n",
       "       0.        , 0.        , 0.        , 0.        , 0.        ,\n",
       "       0.        , 0.        , 0.        , 0.        , 0.        ,\n",
       "       0.        , 0.        , 0.        , 0.        , 0.        ,\n",
       "       0.        , 0.        , 0.        , 0.        , 0.        ,\n",
       "       0.        , 0.        , 0.        , 0.        , 0.        ,\n",
       "       0.        , 0.        , 0.3803922 , 0.37647063, 0.3019608 ,\n",
       "       0.46274513, 0.2392157 , 0.        , 0.        , 0.        ,\n",
       "       0.        , 0.        , 0.        , 0.        , 0.        ,\n",
       "       0.        , 0.        , 0.        , 0.        , 0.        ,\n",
       "       0.        , 0.        , 0.3529412 , 0.5411765 , 0.9215687 ,\n",
       "       0.9215687 , 0.9215687 , 0.9215687 , 0.9215687 , 0.9215687 ,\n",
       "       0.9843138 , 0.9843138 , 0.9725491 , 0.9960785 , 0.9607844 ,\n",
       "       0.9215687 , 0.74509805, 0.08235294, 0.        , 0.        ,\n",
       "       0.        , 0.        , 0.        , 0.        , 0.        ,\n",
       "       0.        , 0.        , 0.        , 0.        , 0.54901963,\n",
       "       0.9843138 , 0.9960785 , 0.9960785 , 0.9960785 , 0.9960785 ,\n",
       "       0.9960785 , 0.9960785 , 0.9960785 , 0.9960785 , 0.9960785 ,\n",
       "       0.9960785 , 0.9960785 , 0.9960785 , 0.9960785 , 0.9960785 ,\n",
       "       0.7411765 , 0.09019608, 0.        , 0.        , 0.        ,\n",
       "       0.        , 0.        , 0.        , 0.        , 0.        ,\n",
       "       0.        , 0.        , 0.8862746 , 0.9960785 , 0.81568635,\n",
       "       0.7803922 , 0.7803922 , 0.7803922 , 0.7803922 , 0.54509807,\n",
       "       0.2392157 , 0.2392157 , 0.2392157 , 0.2392157 , 0.2392157 ,\n",
       "       0.5019608 , 0.8705883 , 0.9960785 , 0.9960785 , 0.7411765 ,\n",
       "       0.08235294, 0.        , 0.        , 0.        , 0.        ,\n",
       "       0.        , 0.        , 0.        , 0.        , 0.        ,\n",
       "       0.14901961, 0.32156864, 0.0509804 , 0.        , 0.        ,\n",
       "       0.        , 0.        , 0.        , 0.        , 0.        ,\n",
       "       0.        , 0.        , 0.        , 0.        , 0.13333334,\n",
       "       0.8352942 , 0.9960785 , 0.9960785 , 0.45098042, 0.        ,\n",
       "       0.        , 0.        , 0.        , 0.        , 0.        ,\n",
       "       0.        , 0.        , 0.        , 0.        , 0.        ,\n",
       "       0.        , 0.        , 0.        , 0.        , 0.        ,\n",
       "       0.        , 0.        , 0.        , 0.        , 0.        ,\n",
       "       0.        , 0.        , 0.        , 0.32941177, 0.9960785 ,\n",
       "       0.9960785 , 0.9176471 , 0.        , 0.        , 0.        ,\n",
       "       0.        , 0.        , 0.        , 0.        , 0.        ,\n",
       "       0.        , 0.        , 0.        , 0.        , 0.        ,\n",
       "       0.        , 0.        , 0.        , 0.        , 0.        ,\n",
       "       0.        , 0.        , 0.        , 0.        , 0.        ,\n",
       "       0.        , 0.32941177, 0.9960785 , 0.9960785 , 0.9176471 ,\n",
       "       0.        , 0.        , 0.        , 0.        , 0.        ,\n",
       "       0.        , 0.        , 0.        , 0.        , 0.        ,\n",
       "       0.        , 0.        , 0.        , 0.        , 0.        ,\n",
       "       0.        , 0.        , 0.        , 0.        , 0.        ,\n",
       "       0.        , 0.        , 0.        , 0.4156863 , 0.6156863 ,\n",
       "       0.9960785 , 0.9960785 , 0.95294124, 0.20000002, 0.        ,\n",
       "       0.        , 0.        , 0.        , 0.        , 0.        ,\n",
       "       0.        , 0.        , 0.        , 0.        , 0.        ,\n",
       "       0.        , 0.        , 0.        , 0.        , 0.        ,\n",
       "       0.        , 0.09803922, 0.45882356, 0.8941177 , 0.8941177 ,\n",
       "       0.8941177 , 0.9921569 , 0.9960785 , 0.9960785 , 0.9960785 ,\n",
       "       0.9960785 , 0.94117653, 0.        , 0.        , 0.        ,\n",
       "       0.        , 0.        , 0.        , 0.        , 0.        ,\n",
       "       0.        , 0.        , 0.        , 0.        , 0.        ,\n",
       "       0.        , 0.        , 0.26666668, 0.4666667 , 0.86274517,\n",
       "       0.9960785 , 0.9960785 , 0.9960785 , 0.9960785 , 0.9960785 ,\n",
       "       0.9960785 , 0.9960785 , 0.9960785 , 0.9960785 , 0.5568628 ,\n",
       "       0.        , 0.        , 0.        , 0.        , 0.        ,\n",
       "       0.        , 0.        , 0.        , 0.        , 0.        ,\n",
       "       0.        , 0.        , 0.        , 0.14509805, 0.73333335,\n",
       "       0.9921569 , 0.9960785 , 0.9960785 , 0.9960785 , 0.8745099 ,\n",
       "       0.8078432 , 0.8078432 , 0.29411766, 0.26666668, 0.8431373 ,\n",
       "       0.9960785 , 0.9960785 , 0.45882356, 0.        , 0.        ,\n",
       "       0.        , 0.        , 0.        , 0.        , 0.        ,\n",
       "       0.        , 0.        , 0.        , 0.        , 0.        ,\n",
       "       0.4431373 , 0.8588236 , 0.9960785 , 0.9490197 , 0.89019614,\n",
       "       0.45098042, 0.34901962, 0.12156864, 0.        , 0.        ,\n",
       "       0.        , 0.        , 0.7843138 , 0.9960785 , 0.9450981 ,\n",
       "       0.16078432, 0.        , 0.        , 0.        , 0.        ,\n",
       "       0.        , 0.        , 0.        , 0.        , 0.        ,\n",
       "       0.        , 0.        , 0.        , 0.6627451 , 0.9960785 ,\n",
       "       0.6901961 , 0.24313727, 0.        , 0.        , 0.        ,\n",
       "       0.        , 0.        , 0.        , 0.        , 0.18823531,\n",
       "       0.9058824 , 0.9960785 , 0.9176471 , 0.        , 0.        ,\n",
       "       0.        , 0.        , 0.        , 0.        , 0.        ,\n",
       "       0.        , 0.        , 0.        , 0.        , 0.        ,\n",
       "       0.        , 0.07058824, 0.48627454, 0.        , 0.        ,\n",
       "       0.        , 0.        , 0.        , 0.        , 0.        ,\n",
       "       0.        , 0.        , 0.32941177, 0.9960785 , 0.9960785 ,\n",
       "       0.6509804 , 0.        , 0.        , 0.        , 0.        ,\n",
       "       0.        , 0.        , 0.        , 0.        , 0.        ,\n",
       "       0.        , 0.        , 0.        , 0.        , 0.        ,\n",
       "       0.        , 0.        , 0.        , 0.        , 0.        ,\n",
       "       0.        , 0.        , 0.        , 0.        , 0.        ,\n",
       "       0.54509807, 0.9960785 , 0.9333334 , 0.22352943, 0.        ,\n",
       "       0.        , 0.        , 0.        , 0.        , 0.        ,\n",
       "       0.        , 0.        , 0.        , 0.        , 0.        ,\n",
       "       0.        , 0.        , 0.        , 0.        , 0.        ,\n",
       "       0.        , 0.        , 0.        , 0.        , 0.        ,\n",
       "       0.        , 0.        , 0.8235295 , 0.9803922 , 0.9960785 ,\n",
       "       0.65882355, 0.        , 0.        , 0.        , 0.        ,\n",
       "       0.        , 0.        , 0.        , 0.        , 0.        ,\n",
       "       0.        , 0.        , 0.        , 0.        , 0.        ,\n",
       "       0.        , 0.        , 0.        , 0.        , 0.        ,\n",
       "       0.        , 0.        , 0.        , 0.        , 0.        ,\n",
       "       0.9490197 , 0.9960785 , 0.93725497, 0.22352943, 0.        ,\n",
       "       0.        , 0.        , 0.        , 0.        , 0.        ,\n",
       "       0.        , 0.        , 0.        , 0.        , 0.        ,\n",
       "       0.        , 0.        , 0.        , 0.        , 0.        ,\n",
       "       0.        , 0.        , 0.        , 0.        , 0.        ,\n",
       "       0.        , 0.        , 0.34901962, 0.9843138 , 0.9450981 ,\n",
       "       0.3372549 , 0.        , 0.        , 0.        , 0.        ,\n",
       "       0.        , 0.        , 0.        , 0.        , 0.        ,\n",
       "       0.        , 0.        , 0.        , 0.        , 0.        ,\n",
       "       0.        , 0.        , 0.        , 0.        , 0.        ,\n",
       "       0.        , 0.        , 0.        , 0.        , 0.01960784,\n",
       "       0.8078432 , 0.96470594, 0.6156863 , 0.        , 0.        ,\n",
       "       0.        , 0.        , 0.        , 0.        , 0.        ,\n",
       "       0.        , 0.        , 0.        , 0.        , 0.        ,\n",
       "       0.        , 0.        , 0.        , 0.        , 0.        ,\n",
       "       0.        , 0.        , 0.        , 0.        , 0.        ,\n",
       "       0.        , 0.        , 0.01568628, 0.45882356, 0.27058825,\n",
       "       0.        , 0.        , 0.        , 0.        , 0.        ,\n",
       "       0.        , 0.        , 0.        , 0.        , 0.        ,\n",
       "       0.        , 0.        , 0.        , 0.        , 0.        ,\n",
       "       0.        , 0.        , 0.        , 0.        , 0.        ,\n",
       "       0.        , 0.        , 0.        , 0.        , 0.        ,\n",
       "       0.        , 0.        , 0.        , 0.        , 0.        ,\n",
       "       0.        , 0.        , 0.        , 0.        , 0.        ,\n",
       "       0.        , 0.        , 0.        , 0.        ], dtype=float32)"
      ]
     },
     "execution_count": 4,
     "metadata": {},
     "output_type": "execute_result"
    }
   ],
   "source": [
    "mnist.train.images[0]"
   ]
  },
  {
   "cell_type": "markdown",
   "metadata": {},
   "source": [
    "Видим, что данные из матрицы 28х28 представленны в виде вектора 784 и уже отнормированы от 0 до 1"
   ]
  },
  {
   "cell_type": "code",
   "execution_count": 5,
   "metadata": {},
   "outputs": [
    {
     "data": {
      "text/plain": [
       "((55000, 784), (10000, 784))"
      ]
     },
     "execution_count": 5,
     "metadata": {},
     "output_type": "execute_result"
    }
   ],
   "source": [
    "mnist.train.images.shape, mnist.test.images.shape # размер выборок"
   ]
  },
  {
   "cell_type": "markdown",
   "metadata": {},
   "source": [
    "Создадим простую модель с одним скрытым слоем"
   ]
  },
  {
   "cell_type": "code",
   "execution_count": 6,
   "metadata": {},
   "outputs": [],
   "source": [
    "def get_h1_model(neurons_h1=100,optimizer='adam'):\n",
    "    inp = Input(shape=(784,)) # Входной вектор равен 784\n",
    "    hidden_1 = Dense(neurons_h1, activation='relu', kernel_initializer=initializers.he_uniform(seed=None) )(inp) # скрытый полносвязанный слой\n",
    "    out = Dense(10, activation='softmax')(hidden_1) # Выходной softmax слой\n",
    "\n",
    "    model = Model(input=inp, output=out) # создаем модель\n",
    "    model.compile(loss='categorical_crossentropy', # cross-entropy loss function\n",
    "              optimizer=optimizer, # optimiser\n",
    "              metrics=['accuracy']) # accuracy\n",
    "    return model"
   ]
  },
  {
   "cell_type": "code",
   "execution_count": 7,
   "metadata": {},
   "outputs": [
    {
     "name": "stderr",
     "output_type": "stream",
     "text": [
      "/home/necromant/.virtualenvs/datascience/lib/python3.6/site-packages/ipykernel_launcher.py:6: UserWarning: Update your `Model` call to the Keras 2 API: `Model(inputs=Tensor(\"in..., outputs=Tensor(\"de...)`\n",
      "  \n"
     ]
    }
   ],
   "source": [
    "# используем оптимизатор Adam с параметрами по умолчанию\n",
    "opt = optimizers.Adam(lr=0.001, beta_1=0.9, beta_2=0.999, epsilon=None, decay=0.0)\n",
    "model = get_h1_model(optimizer=opt)"
   ]
  },
  {
   "cell_type": "code",
   "execution_count": 8,
   "metadata": {},
   "outputs": [],
   "source": [
    "batch_size = 100\n",
    "num_epochs = 20"
   ]
  },
  {
   "cell_type": "code",
   "execution_count": 9,
   "metadata": {
    "scrolled": true
   },
   "outputs": [
    {
     "name": "stderr",
     "output_type": "stream",
     "text": [
      "/home/necromant/.virtualenvs/datascience/lib/python3.6/site-packages/ipykernel_launcher.py:3: UserWarning: The `nb_epoch` argument in `fit` has been renamed `epochs`.\n",
      "  This is separate from the ipykernel package so we can avoid doing imports until\n"
     ]
    },
    {
     "name": "stdout",
     "output_type": "stream",
     "text": [
      "Train on 49500 samples, validate on 5500 samples\n",
      "Epoch 1/20\n",
      "49500/49500 [==============================] - 10s 193us/step - loss: 0.3952 - acc: 0.8901 - val_loss: 0.1796 - val_acc: 0.9496\n",
      "Epoch 2/20\n",
      "49500/49500 [==============================] - 1s 19us/step - loss: 0.1885 - acc: 0.9470 - val_loss: 0.1296 - val_acc: 0.9636\n",
      "Epoch 3/20\n",
      "49500/49500 [==============================] - 1s 19us/step - loss: 0.1380 - acc: 0.9601 - val_loss: 0.1100 - val_acc: 0.9680\n",
      "Epoch 4/20\n",
      "49500/49500 [==============================] - 1s 19us/step - loss: 0.1078 - acc: 0.9687 - val_loss: 0.1081 - val_acc: 0.9676\n",
      "Epoch 5/20\n",
      "49500/49500 [==============================] - 1s 19us/step - loss: 0.0879 - acc: 0.9745 - val_loss: 0.0913 - val_acc: 0.9729\n",
      "Epoch 6/20\n",
      "49500/49500 [==============================] - 1s 20us/step - loss: 0.0729 - acc: 0.9791 - val_loss: 0.0830 - val_acc: 0.9753\n",
      "Epoch 7/20\n",
      "49500/49500 [==============================] - 1s 21us/step - loss: 0.0620 - acc: 0.9822 - val_loss: 0.0830 - val_acc: 0.9742\n",
      "Epoch 8/20\n",
      "49500/49500 [==============================] - 1s 19us/step - loss: 0.0530 - acc: 0.9849 - val_loss: 0.0805 - val_acc: 0.9769\n",
      "Epoch 9/20\n",
      "49500/49500 [==============================] - 1s 20us/step - loss: 0.0460 - acc: 0.9870 - val_loss: 0.0838 - val_acc: 0.9749\n",
      "Epoch 10/20\n",
      "49500/49500 [==============================] - 1s 20us/step - loss: 0.0383 - acc: 0.9893 - val_loss: 0.0786 - val_acc: 0.9767\n",
      "Epoch 11/20\n",
      "49500/49500 [==============================] - 1s 20us/step - loss: 0.0336 - acc: 0.9912 - val_loss: 0.0791 - val_acc: 0.9773\n",
      "Epoch 12/20\n",
      "49500/49500 [==============================] - 1s 21us/step - loss: 0.0288 - acc: 0.9924 - val_loss: 0.0797 - val_acc: 0.9755\n",
      "Epoch 13/20\n",
      "49500/49500 [==============================] - 1s 20us/step - loss: 0.0250 - acc: 0.9935 - val_loss: 0.0774 - val_acc: 0.9769\n",
      "Epoch 14/20\n",
      "49500/49500 [==============================] - 1s 20us/step - loss: 0.0209 - acc: 0.9951 - val_loss: 0.0866 - val_acc: 0.9756\n",
      "Epoch 15/20\n",
      "49500/49500 [==============================] - 1s 20us/step - loss: 0.0184 - acc: 0.9956 - val_loss: 0.0795 - val_acc: 0.9771\n",
      "Epoch 16/20\n",
      "49500/49500 [==============================] - 1s 20us/step - loss: 0.0165 - acc: 0.9963 - val_loss: 0.0831 - val_acc: 0.9771\n",
      "Epoch 17/20\n",
      "49500/49500 [==============================] - 1s 20us/step - loss: 0.0133 - acc: 0.9972 - val_loss: 0.0856 - val_acc: 0.9769\n",
      "Epoch 18/20\n",
      "49500/49500 [==============================] - 1s 20us/step - loss: 0.0122 - acc: 0.9975 - val_loss: 0.0832 - val_acc: 0.9776\n",
      "Epoch 19/20\n",
      "49500/49500 [==============================] - 1s 20us/step - loss: 0.0097 - acc: 0.9984 - val_loss: 0.0816 - val_acc: 0.9769\n",
      "Epoch 20/20\n",
      "49500/49500 [==============================] - 1s 20us/step - loss: 0.0084 - acc: 0.9986 - val_loss: 0.0853 - val_acc: 0.9784\n"
     ]
    }
   ],
   "source": [
    "history = model.fit(mnist.train.images, mnist.train.labels,\n",
    "          batch_size=batch_size, nb_epoch=num_epochs,\n",
    "          verbose=1, validation_split=0.1)"
   ]
  },
  {
   "cell_type": "code",
   "execution_count": 10,
   "metadata": {
    "code_folding": []
   },
   "outputs": [],
   "source": [
    "import matplotlib.pyplot as plt\n",
    "\n",
    "def plot_loss(history):\n",
    "    \"\"\"\n",
    "    строит график loss\n",
    "    \"\"\"\n",
    "    plt.plot(history.history['loss'])\n",
    "    plt.plot(history.history['val_loss'])\n",
    "    plt.title('model loss')\n",
    "    plt.ylabel('loss')\n",
    "    plt.xlabel('epoch')\n",
    "    plt.legend(['train', 'test'], loc='upper left')\n",
    "    plt.show()\n",
    "    \n",
    "def plot_accuracy(history):\n",
    "    \"\"\"\n",
    "    строит график accuracy\n",
    "    \"\"\"\n",
    "    plt.plot(history.history['acc'])\n",
    "    plt.plot(history.history['val_acc'])\n",
    "    plt.title('model accuracy')\n",
    "    plt.ylabel('accuracy')\n",
    "    plt.xlabel('epoch')\n",
    "    plt.legend(['train', 'test'], loc='upper left')\n",
    "    plt.show()"
   ]
  },
  {
   "cell_type": "code",
   "execution_count": 11,
   "metadata": {},
   "outputs": [
    {
     "data": {
      "image/png": "[encoded data removed]",
      "text/plain": [
       "<Figure size 432x288 with 1 Axes>"
      ]
     },
     "metadata": {
      "needs_background": "light"
     },
     "output_type": "display_data"
    }
   ],
   "source": [
    "plot_loss(history)"
   ]
  },
  {
   "cell_type": "code",
   "execution_count": 12,
   "metadata": {},
   "outputs": [
    {
     "data": {
      "image/png": "[encoded data removed]",
      "text/plain": [
       "<Figure size 432x288 with 1 Axes>"
      ]
     },
     "metadata": {
      "needs_background": "light"
     },
     "output_type": "display_data"
    }
   ],
   "source": [
    "plot_accuracy(history)"
   ]
  },
  {
   "cell_type": "markdown",
   "metadata": {},
   "source": [
    "Где-то после 5 эпохи модель начинает переобучаться"
   ]
  },
  {
   "cell_type": "code",
   "execution_count": 13,
   "metadata": {
    "scrolled": true
   },
   "outputs": [
    {
     "name": "stdout",
     "output_type": "stream",
     "text": [
      "10000/10000 [==============================] - 0s 19us/step\n"
     ]
    },
    {
     "data": {
      "text/plain": [
       "[0.08934848371841654, 0.9765]"
      ]
     },
     "execution_count": 13,
     "metadata": {},
     "output_type": "execute_result"
    }
   ],
   "source": [
    "model.evaluate(mnist.test.images, mnist.test.labels, verbose=1)"
   ]
  },
  {
   "cell_type": "code",
   "execution_count": 14,
   "metadata": {},
   "outputs": [],
   "source": [
    "# Создадим модель с 2 скрытыми слоями\n",
    "def get_h2_model(neurons_h1=100,optimizer='adam'):\n",
    "    inp = Input(shape=(784,)) \n",
    "    hidden_1 = Dense(neurons_h1, activation='relu', kernel_initializer=initializers.he_uniform(seed=None) )(inp) \n",
    "    hidden_2 = Dense(neurons_h1, activation='relu', kernel_initializer=initializers.he_uniform(seed=None) )(hidden_1)\n",
    "    out = Dense(10, activation='softmax',init='glorot_uniform')(hidden_2) \n",
    "    \n",
    "    model = Model(input=inp, output=out) \n",
    "    model.compile(loss='categorical_crossentropy', \n",
    "              optimizer=optimizer, \n",
    "              metrics=['accuracy']) \n",
    "    return model"
   ]
  },
  {
   "cell_type": "code",
   "execution_count": 15,
   "metadata": {},
   "outputs": [
    {
     "name": "stderr",
     "output_type": "stream",
     "text": [
      "/home/necromant/.virtualenvs/datascience/lib/python3.6/site-packages/ipykernel_launcher.py:6: UserWarning: Update your `Dense` call to the Keras 2 API: `Dense(10, activation=\"softmax\", kernel_initializer=\"glorot_uniform\")`\n",
      "  \n",
      "/home/necromant/.virtualenvs/datascience/lib/python3.6/site-packages/ipykernel_launcher.py:8: UserWarning: Update your `Model` call to the Keras 2 API: `Model(inputs=Tensor(\"in..., outputs=Tensor(\"de...)`\n",
      "  \n"
     ]
    }
   ],
   "source": [
    "opt = optimizers.Adam(lr=0.001, beta_1=0.9, beta_2=0.999, epsilon=None, decay=0.0)\n",
    "model = get_h2_model(optimizer=opt)"
   ]
  },
  {
   "cell_type": "code",
   "execution_count": 16,
   "metadata": {},
   "outputs": [],
   "source": [
    "batch_size = 100\n",
    "num_epochs = 20"
   ]
  },
  {
   "cell_type": "code",
   "execution_count": 17,
   "metadata": {},
   "outputs": [
    {
     "name": "stderr",
     "output_type": "stream",
     "text": [
      "/home/necromant/.virtualenvs/datascience/lib/python3.6/site-packages/ipykernel_launcher.py:3: UserWarning: The `nb_epoch` argument in `fit` has been renamed `epochs`.\n",
      "  This is separate from the ipykernel package so we can avoid doing imports until\n"
     ]
    },
    {
     "name": "stdout",
     "output_type": "stream",
     "text": [
      "Train on 49500 samples, validate on 5500 samples\n",
      "Epoch 1/20\n",
      "49500/49500 [==============================] - 1s 28us/step - loss: 0.3427 - acc: 0.9029 - val_loss: 0.1436 - val_acc: 0.9609\n",
      "Epoch 2/20\n",
      "49500/49500 [==============================] - 1s 23us/step - loss: 0.1399 - acc: 0.9583 - val_loss: 0.1100 - val_acc: 0.9655\n",
      "Epoch 3/20\n",
      "49500/49500 [==============================] - 1s 23us/step - loss: 0.0999 - acc: 0.9689 - val_loss: 0.0925 - val_acc: 0.9713\n",
      "Epoch 4/20\n",
      "49500/49500 [==============================] - 1s 22us/step - loss: 0.0751 - acc: 0.9773 - val_loss: 0.0984 - val_acc: 0.9707\n",
      "Epoch 5/20\n",
      "49500/49500 [==============================] - 1s 21us/step - loss: 0.0599 - acc: 0.9818 - val_loss: 0.0944 - val_acc: 0.9718\n",
      "Epoch 6/20\n",
      "49500/49500 [==============================] - 1s 22us/step - loss: 0.0485 - acc: 0.9848 - val_loss: 0.0738 - val_acc: 0.9785\n",
      "Epoch 7/20\n",
      "49500/49500 [==============================] - 1s 22us/step - loss: 0.0396 - acc: 0.9875 - val_loss: 0.0750 - val_acc: 0.9773\n",
      "Epoch 8/20\n",
      "49500/49500 [==============================] - 1s 22us/step - loss: 0.0323 - acc: 0.9900 - val_loss: 0.0772 - val_acc: 0.9773\n",
      "Epoch 9/20\n",
      "49500/49500 [==============================] - 1s 23us/step - loss: 0.0256 - acc: 0.9922 - val_loss: 0.0826 - val_acc: 0.9791\n",
      "Epoch 10/20\n",
      "49500/49500 [==============================] - 1s 23us/step - loss: 0.0222 - acc: 0.9930 - val_loss: 0.0810 - val_acc: 0.9796\n",
      "Epoch 11/20\n",
      "49500/49500 [==============================] - 1s 23us/step - loss: 0.0197 - acc: 0.9936 - val_loss: 0.0880 - val_acc: 0.9776\n",
      "Epoch 12/20\n",
      "49500/49500 [==============================] - 1s 25us/step - loss: 0.0171 - acc: 0.9945 - val_loss: 0.0901 - val_acc: 0.9787\n",
      "Epoch 13/20\n",
      "49500/49500 [==============================] - 1s 23us/step - loss: 0.0148 - acc: 0.9958 - val_loss: 0.0913 - val_acc: 0.9793\n",
      "Epoch 14/20\n",
      "49500/49500 [==============================] - 1s 21us/step - loss: 0.0134 - acc: 0.9957 - val_loss: 0.0916 - val_acc: 0.9795\n",
      "Epoch 15/20\n",
      "49500/49500 [==============================] - 1s 21us/step - loss: 0.0093 - acc: 0.9972 - val_loss: 0.1079 - val_acc: 0.9767\n",
      "Epoch 16/20\n",
      "49500/49500 [==============================] - 1s 22us/step - loss: 0.0120 - acc: 0.9960 - val_loss: 0.1030 - val_acc: 0.9773\n",
      "Epoch 17/20\n",
      "49500/49500 [==============================] - 1s 22us/step - loss: 0.0102 - acc: 0.9964 - val_loss: 0.1030 - val_acc: 0.9784\n",
      "Epoch 18/20\n",
      "49500/49500 [==============================] - 1s 21us/step - loss: 0.0110 - acc: 0.9963 - val_loss: 0.0932 - val_acc: 0.9796\n",
      "Epoch 19/20\n",
      "49500/49500 [==============================] - 1s 24us/step - loss: 0.0098 - acc: 0.9970 - val_loss: 0.1048 - val_acc: 0.9793\n",
      "Epoch 20/20\n",
      "49500/49500 [==============================] - 1s 24us/step - loss: 0.0078 - acc: 0.9977 - val_loss: 0.1227 - val_acc: 0.9747\n"
     ]
    }
   ],
   "source": [
    "history = model.fit(mnist.train.images, mnist.train.labels,\n",
    "          batch_size=batch_size, nb_epoch=num_epochs,\n",
    "          verbose=1, validation_split=0.1)"
   ]
  },
  {
   "cell_type": "code",
   "execution_count": 18,
   "metadata": {},
   "outputs": [
    {
     "data": {
      "image/png": "[encoded data removed]",
      "text/plain": [
       "<Figure size 432x288 with 1 Axes>"
      ]
     },
     "metadata": {
      "needs_background": "light"
     },
     "output_type": "display_data"
    }
   ],
   "source": [
    "plot_loss(history)"
   ]
  },
  {
   "cell_type": "code",
   "execution_count": 19,
   "metadata": {},
   "outputs": [
    {
     "data": {
      "image/png": "[encoded data removed]",
      "text/plain": [
       "<Figure size 432x288 with 1 Axes>"
      ]
     },
     "metadata": {
      "needs_background": "light"
     },
     "output_type": "display_data"
    }
   ],
   "source": [
    "plot_accuracy(history)"
   ]
  },
  {
   "cell_type": "markdown",
   "metadata": {},
   "source": [
    "Модель переобучается еще быстрее"
   ]
  },
  {
   "cell_type": "code",
   "execution_count": 20,
   "metadata": {},
   "outputs": [
    {
     "name": "stdout",
     "output_type": "stream",
     "text": [
      "10000/10000 [==============================] - 0s 22us/step\n"
     ]
    },
    {
     "data": {
      "text/plain": [
       "[0.10730476105406068, 0.9765]"
      ]
     },
     "execution_count": 20,
     "metadata": {},
     "output_type": "execute_result"
    }
   ],
   "source": [
    "model.evaluate(mnist.test.images, mnist.test.labels, verbose=1)"
   ]
  },
  {
   "cell_type": "code",
   "execution_count": 21,
   "metadata": {
    "code_folding": []
   },
   "outputs": [],
   "source": [
    "from keras.layers.normalization import BatchNormalization\n",
    "\n",
    "# попробуем добавить батч нормализацию\n",
    "def get_h2b_model(neurons_h1=100,optimizer='adam'):\n",
    "    inp = Input(shape=(784,)) \n",
    "    \n",
    "    inp_norm = BatchNormalization(axis=1)(inp) # нормализуем входной слой\n",
    "    hidden_1 = Dense(neurons_h1, activation='relu', kernel_initializer=initializers.he_uniform(seed=None) )(inp_norm) \n",
    "    hidden_2 = Dense(neurons_h1, activation='relu', kernel_initializer=initializers.he_uniform(seed=None) )(hidden_1)\n",
    "    h2_norm = BatchNormalization(axis=1)(hidden_2) # нормализуем выходной слой\n",
    "    out = Dense(10, activation='softmax',init='glorot_uniform')(h2_norm) \n",
    "\n",
    "    model = Model(input=inp, output=out) \n",
    "    model.compile(loss='categorical_crossentropy', \n",
    "              optimizer=optimizer, \n",
    "              metrics=['accuracy']) \n",
    "    return model"
   ]
  },
  {
   "cell_type": "code",
   "execution_count": 22,
   "metadata": {},
   "outputs": [
    {
     "name": "stderr",
     "output_type": "stream",
     "text": [
      "/home/necromant/.virtualenvs/datascience/lib/python3.6/site-packages/ipykernel_launcher.py:11: UserWarning: Update your `Dense` call to the Keras 2 API: `Dense(10, activation=\"softmax\", kernel_initializer=\"glorot_uniform\")`\n",
      "  # This is added back by InteractiveShellApp.init_path()\n",
      "/home/necromant/.virtualenvs/datascience/lib/python3.6/site-packages/ipykernel_launcher.py:13: UserWarning: Update your `Model` call to the Keras 2 API: `Model(inputs=Tensor(\"in..., outputs=Tensor(\"de...)`\n",
      "  del sys.path[0]\n"
     ]
    }
   ],
   "source": [
    "opt = optimizers.Adam(lr=0.001, beta_1=0.9, beta_2=0.999, epsilon=None, decay=0.0)\n",
    "model = get_h2b_model(256, optimizer=opt)"
   ]
  },
  {
   "cell_type": "code",
   "execution_count": 23,
   "metadata": {},
   "outputs": [],
   "source": [
    "batch_size = 100\n",
    "num_epochs = 20"
   ]
  },
  {
   "cell_type": "code",
   "execution_count": 24,
   "metadata": {},
   "outputs": [
    {
     "name": "stderr",
     "output_type": "stream",
     "text": [
      "/home/necromant/.virtualenvs/datascience/lib/python3.6/site-packages/ipykernel_launcher.py:3: UserWarning: The `nb_epoch` argument in `fit` has been renamed `epochs`.\n",
      "  This is separate from the ipykernel package so we can avoid doing imports until\n"
     ]
    },
    {
     "name": "stdout",
     "output_type": "stream",
     "text": [
      "Train on 49500 samples, validate on 5500 samples\n",
      "Epoch 1/20\n",
      "49500/49500 [==============================] - 2s 43us/step - loss: 0.2409 - acc: 0.9278 - val_loss: 0.1155 - val_acc: 0.9675\n",
      "Epoch 2/20\n",
      "49500/49500 [==============================] - 2s 35us/step - loss: 0.0873 - acc: 0.9734 - val_loss: 0.0923 - val_acc: 0.9744\n",
      "Epoch 3/20\n",
      "49500/49500 [==============================] - 2s 36us/step - loss: 0.0571 - acc: 0.9818 - val_loss: 0.0911 - val_acc: 0.9755\n",
      "Epoch 4/20\n",
      "49500/49500 [==============================] - 2s 35us/step - loss: 0.0412 - acc: 0.9867 - val_loss: 0.0908 - val_acc: 0.9758\n",
      "Epoch 5/20\n",
      "49500/49500 [==============================] - 2s 35us/step - loss: 0.0319 - acc: 0.9893 - val_loss: 0.0875 - val_acc: 0.9773\n",
      "Epoch 6/20\n",
      "49500/49500 [==============================] - 2s 35us/step - loss: 0.0253 - acc: 0.9918 - val_loss: 0.0864 - val_acc: 0.9784\n",
      "Epoch 7/20\n",
      "49500/49500 [==============================] - 2s 35us/step - loss: 0.0236 - acc: 0.9923 - val_loss: 0.0768 - val_acc: 0.9798\n",
      "Epoch 8/20\n",
      "49500/49500 [==============================] - 2s 35us/step - loss: 0.0187 - acc: 0.9937 - val_loss: 0.0791 - val_acc: 0.9787\n",
      "Epoch 9/20\n",
      "49500/49500 [==============================] - 2s 35us/step - loss: 0.0190 - acc: 0.9939 - val_loss: 0.0974 - val_acc: 0.9758\n",
      "Epoch 10/20\n",
      "49500/49500 [==============================] - 2s 35us/step - loss: 0.0149 - acc: 0.9952 - val_loss: 0.0826 - val_acc: 0.9820\n",
      "Epoch 11/20\n",
      "49500/49500 [==============================] - 2s 34us/step - loss: 0.0176 - acc: 0.9940 - val_loss: 0.0832 - val_acc: 0.9791\n",
      "Epoch 12/20\n",
      "49500/49500 [==============================] - 2s 35us/step - loss: 0.0141 - acc: 0.9953 - val_loss: 0.0948 - val_acc: 0.9782\n",
      "Epoch 13/20\n",
      "49500/49500 [==============================] - 2s 35us/step - loss: 0.0100 - acc: 0.9968 - val_loss: 0.0794 - val_acc: 0.9807\n",
      "Epoch 14/20\n",
      "49500/49500 [==============================] - 2s 35us/step - loss: 0.0122 - acc: 0.9959 - val_loss: 0.0880 - val_acc: 0.9804\n",
      "Epoch 15/20\n",
      "49500/49500 [==============================] - 2s 36us/step - loss: 0.0113 - acc: 0.9965 - val_loss: 0.0868 - val_acc: 0.9798\n",
      "Epoch 16/20\n",
      "49500/49500 [==============================] - 2s 35us/step - loss: 0.0108 - acc: 0.9963 - val_loss: 0.0902 - val_acc: 0.9809\n",
      "Epoch 17/20\n",
      "49500/49500 [==============================] - 2s 36us/step - loss: 0.0077 - acc: 0.9975 - val_loss: 0.0933 - val_acc: 0.9791\n",
      "Epoch 18/20\n",
      "49500/49500 [==============================] - 2s 35us/step - loss: 0.0107 - acc: 0.9965 - val_loss: 0.0882 - val_acc: 0.9820\n",
      "Epoch 19/20\n",
      "49500/49500 [==============================] - 2s 37us/step - loss: 0.0082 - acc: 0.9973 - val_loss: 0.0985 - val_acc: 0.9796\n",
      "Epoch 20/20\n",
      "49500/49500 [==============================] - 2s 36us/step - loss: 0.0091 - acc: 0.9972 - val_loss: 0.0900 - val_acc: 0.9804\n"
     ]
    }
   ],
   "source": [
    "history = model.fit(mnist.train.images, mnist.train.labels, \n",
    "          batch_size=batch_size, nb_epoch=num_epochs,\n",
    "          verbose=1, validation_split=0.1)"
   ]
  },
  {
   "cell_type": "code",
   "execution_count": 25,
   "metadata": {},
   "outputs": [
    {
     "data": {
      "image/png": "[encoded data removed]",
      "text/plain": [
       "<Figure size 432x288 with 1 Axes>"
      ]
     },
     "metadata": {
      "needs_background": "light"
     },
     "output_type": "display_data"
    }
   ],
   "source": [
    "plot_loss(history)"
   ]
  },
  {
   "cell_type": "code",
   "execution_count": 26,
   "metadata": {},
   "outputs": [
    {
     "data": {
      "image/png": "[encoded data removed]",
      "text/plain": [
       "<Figure size 432x288 with 1 Axes>"
      ]
     },
     "metadata": {
      "needs_background": "light"
     },
     "output_type": "display_data"
    }
   ],
   "source": [
    "plot_accuracy(history)"
   ]
  },
  {
   "cell_type": "markdown",
   "metadata": {},
   "source": [
    "Батч нормализация в чистом виде не сильно спасла от переобучения, возможно, мало слоев для её применения? "
   ]
  },
  {
   "cell_type": "code",
   "execution_count": 27,
   "metadata": {},
   "outputs": [
    {
     "name": "stdout",
     "output_type": "stream",
     "text": [
      "10000/10000 [==============================] - 0s 28us/step\n"
     ]
    },
    {
     "data": {
      "text/plain": [
       "[0.116985550515641, 0.978]"
      ]
     },
     "execution_count": 27,
     "metadata": {},
     "output_type": "execute_result"
    }
   ],
   "source": [
    "model.evaluate(mnist.test.images, mnist.test.labels, verbose=1)"
   ]
  },
  {
   "cell_type": "code",
   "execution_count": 28,
   "metadata": {},
   "outputs": [],
   "source": [
    "from keras.layers import Dropout\n",
    "\n",
    "# Попробуем использовать дропаут\n",
    "def get_h2d_model(neurons_h1=100,optimizer='adam'):\n",
    "    inp = Input(shape=(784,)) \n",
    "    hidden_1 = Dense(neurons_h1, activation='relu', kernel_initializer=initializers.he_uniform(seed=None) )(inp)\n",
    "    drop_1 = Dropout(0.25)(hidden_1) # дропаут 1 слоя\n",
    "    hidden_2 = Dense(neurons_h1, activation='relu', kernel_initializer=initializers.he_uniform(seed=None) )(drop_1)\n",
    "    drop_2 = Dropout(0.5)(hidden_2) # дропаут 2 слоя\n",
    "    out = Dense(10, activation='softmax',init='glorot_uniform')(drop_2) \n",
    "\n",
    "    model = Model(input=inp, output=out) \n",
    "    model.compile(loss='categorical_crossentropy', \n",
    "              optimizer=optimizer, \n",
    "              metrics=['accuracy']) \n",
    "    return model"
   ]
  },
  {
   "cell_type": "code",
   "execution_count": 29,
   "metadata": {},
   "outputs": [
    {
     "name": "stderr",
     "output_type": "stream",
     "text": [
      "/home/necromant/.virtualenvs/datascience/lib/python3.6/site-packages/ipykernel_launcher.py:9: UserWarning: Update your `Dense` call to the Keras 2 API: `Dense(10, activation=\"softmax\", kernel_initializer=\"glorot_uniform\")`\n",
      "  if __name__ == '__main__':\n",
      "/home/necromant/.virtualenvs/datascience/lib/python3.6/site-packages/ipykernel_launcher.py:11: UserWarning: Update your `Model` call to the Keras 2 API: `Model(inputs=Tensor(\"in..., outputs=Tensor(\"de...)`\n",
      "  # This is added back by InteractiveShellApp.init_path()\n"
     ]
    }
   ],
   "source": [
    "opt = optimizers.Adam(lr=0.001, beta_1=0.9, beta_2=0.999, epsilon=None, decay=0.0)\n",
    "model = get_h2d_model(256, optimizer=opt)"
   ]
  },
  {
   "cell_type": "code",
   "execution_count": 30,
   "metadata": {},
   "outputs": [],
   "source": [
    "batch_size = 100\n",
    "num_epochs = 20"
   ]
  },
  {
   "cell_type": "code",
   "execution_count": 31,
   "metadata": {},
   "outputs": [
    {
     "name": "stderr",
     "output_type": "stream",
     "text": [
      "/home/necromant/.virtualenvs/datascience/lib/python3.6/site-packages/ipykernel_launcher.py:3: UserWarning: The `nb_epoch` argument in `fit` has been renamed `epochs`.\n",
      "  This is separate from the ipykernel package so we can avoid doing imports until\n"
     ]
    },
    {
     "name": "stdout",
     "output_type": "stream",
     "text": [
      "Train on 49500 samples, validate on 5500 samples\n",
      "Epoch 1/20\n",
      "49500/49500 [==============================] - 2s 33us/step - loss: 0.4176 - acc: 0.8709 - val_loss: 0.1131 - val_acc: 0.9669\n",
      "Epoch 2/20\n",
      "49500/49500 [==============================] - 1s 26us/step - loss: 0.1750 - acc: 0.9476 - val_loss: 0.0827 - val_acc: 0.9753\n",
      "Epoch 3/20\n",
      "49500/49500 [==============================] - 1s 26us/step - loss: 0.1318 - acc: 0.9603 - val_loss: 0.0783 - val_acc: 0.9764\n",
      "Epoch 4/20\n",
      "49500/49500 [==============================] - 1s 25us/step - loss: 0.1068 - acc: 0.9672 - val_loss: 0.0698 - val_acc: 0.9795\n",
      "Epoch 5/20\n",
      "49500/49500 [==============================] - 1s 26us/step - loss: 0.0870 - acc: 0.9732 - val_loss: 0.0718 - val_acc: 0.9804\n",
      "Epoch 6/20\n",
      "49500/49500 [==============================] - 1s 25us/step - loss: 0.0761 - acc: 0.9759 - val_loss: 0.0692 - val_acc: 0.9807\n",
      "Epoch 7/20\n",
      "49500/49500 [==============================] - 1s 26us/step - loss: 0.0685 - acc: 0.9788 - val_loss: 0.0653 - val_acc: 0.9811\n",
      "Epoch 8/20\n",
      "49500/49500 [==============================] - 1s 26us/step - loss: 0.0631 - acc: 0.9800 - val_loss: 0.0622 - val_acc: 0.9811\n",
      "Epoch 9/20\n",
      "49500/49500 [==============================] - 1s 25us/step - loss: 0.0588 - acc: 0.9815 - val_loss: 0.0720 - val_acc: 0.9804\n",
      "Epoch 10/20\n",
      "49500/49500 [==============================] - 1s 26us/step - loss: 0.0513 - acc: 0.9835 - val_loss: 0.0670 - val_acc: 0.9833\n",
      "Epoch 11/20\n",
      "49500/49500 [==============================] - 1s 25us/step - loss: 0.0484 - acc: 0.9838 - val_loss: 0.0662 - val_acc: 0.9813\n",
      "Epoch 12/20\n",
      "49500/49500 [==============================] - 1s 26us/step - loss: 0.0457 - acc: 0.9852 - val_loss: 0.0691 - val_acc: 0.9813\n",
      "Epoch 13/20\n",
      "49500/49500 [==============================] - 1s 27us/step - loss: 0.0449 - acc: 0.9851 - val_loss: 0.0635 - val_acc: 0.9845\n",
      "Epoch 14/20\n",
      "49500/49500 [==============================] - 1s 26us/step - loss: 0.0403 - acc: 0.9862 - val_loss: 0.0678 - val_acc: 0.9827\n",
      "Epoch 15/20\n",
      "49500/49500 [==============================] - 1s 26us/step - loss: 0.0378 - acc: 0.9876 - val_loss: 0.0651 - val_acc: 0.9833\n",
      "Epoch 16/20\n",
      "49500/49500 [==============================] - 1s 27us/step - loss: 0.0380 - acc: 0.9878 - val_loss: 0.0664 - val_acc: 0.9835\n",
      "Epoch 17/20\n",
      "49500/49500 [==============================] - 1s 26us/step - loss: 0.0320 - acc: 0.9894 - val_loss: 0.0696 - val_acc: 0.9824\n",
      "Epoch 18/20\n",
      "49500/49500 [==============================] - 1s 27us/step - loss: 0.0339 - acc: 0.9892 - val_loss: 0.0680 - val_acc: 0.9825\n",
      "Epoch 19/20\n",
      "49500/49500 [==============================] - 1s 25us/step - loss: 0.0332 - acc: 0.9893 - val_loss: 0.0637 - val_acc: 0.9845\n",
      "Epoch 20/20\n",
      "49500/49500 [==============================] - 1s 26us/step - loss: 0.0293 - acc: 0.9903 - val_loss: 0.0639 - val_acc: 0.9835\n"
     ]
    }
   ],
   "source": [
    "history = model.fit(mnist.train.images, mnist.train.labels, # Train the model using the training set...\n",
    "          batch_size=batch_size, nb_epoch=num_epochs,\n",
    "          verbose=1, validation_split=0.1)"
   ]
  },
  {
   "cell_type": "code",
   "execution_count": 32,
   "metadata": {},
   "outputs": [
    {
     "data": {
      "image/png": "[encoded data removed]",
      "text/plain": [
       "<Figure size 432x288 with 1 Axes>"
      ]
     },
     "metadata": {
      "needs_background": "light"
     },
     "output_type": "display_data"
    }
   ],
   "source": [
    "plot_loss(history)"
   ]
  },
  {
   "cell_type": "code",
   "execution_count": 33,
   "metadata": {},
   "outputs": [
    {
     "data": {
      "image/png": "[encoded data removed]",
      "text/plain": [
       "<Figure size 432x288 with 1 Axes>"
      ]
     },
     "metadata": {
      "needs_background": "light"
     },
     "output_type": "display_data"
    }
   ],
   "source": [
    "plot_accuracy(history)"
   ]
  },
  {
   "cell_type": "markdown",
   "metadata": {},
   "source": [
    "Дропаут очень хорошо нормализовал, модель практически не переобучается"
   ]
  },
  {
   "cell_type": "code",
   "execution_count": 34,
   "metadata": {},
   "outputs": [
    {
     "name": "stdout",
     "output_type": "stream",
     "text": [
      "10000/10000 [==============================] - 0s 23us/step\n"
     ]
    },
    {
     "data": {
      "text/plain": [
       "[0.07439991473800428, 0.9817]"
      ]
     },
     "execution_count": 34,
     "metadata": {},
     "output_type": "execute_result"
    }
   ],
   "source": [
    "model.evaluate(mnist.test.images, mnist.test.labels, verbose=1)"
   ]
  },
  {
   "cell_type": "code",
   "execution_count": 35,
   "metadata": {},
   "outputs": [],
   "source": [
    "# а если объединим дропаут и батч нормализации\n",
    "\n",
    "def get_h2bd_model(neurons_h1=100,optimizer='adam'):\n",
    "    inp = Input(shape=(784,)) # Входной вектор равен 784\n",
    "    \n",
    "    inp_norm = BatchNormalization(axis=1)(inp)\n",
    "    hidden_1 = Dense(neurons_h1, activation='relu', kernel_initializer=initializers.he_uniform(seed=None) )(inp_norm) \n",
    "    drop_1 = Dropout(0.25)(hidden_1)\n",
    "    hidden_2 = Dense(neurons_h1, activation='relu', kernel_initializer=initializers.he_uniform(seed=None) )(drop_1)\n",
    "    h2_norm = BatchNormalization(axis=1)(hidden_2)\n",
    "    drop_2 = Dropout(0.5)(h2_norm)\n",
    "    out = Dense(10, activation='softmax',init='glorot_uniform')(drop_2)\n",
    "    \n",
    "    model = Model(input=inp, output=out) \n",
    "    model.compile(loss='categorical_crossentropy', \n",
    "              optimizer=optimizer, \n",
    "              metrics=['accuracy'])\n",
    "    return model"
   ]
  },
  {
   "cell_type": "code",
   "execution_count": 36,
   "metadata": {},
   "outputs": [
    {
     "name": "stderr",
     "output_type": "stream",
     "text": [
      "/home/necromant/.virtualenvs/datascience/lib/python3.6/site-packages/ipykernel_launcher.py:10: UserWarning: Update your `Dense` call to the Keras 2 API: `Dense(10, activation=\"softmax\", kernel_initializer=\"glorot_uniform\")`\n",
      "  # Remove the CWD from sys.path while we load stuff.\n",
      "/home/necromant/.virtualenvs/datascience/lib/python3.6/site-packages/ipykernel_launcher.py:12: UserWarning: Update your `Model` call to the Keras 2 API: `Model(inputs=Tensor(\"in..., outputs=Tensor(\"de...)`\n",
      "  if sys.path[0] == '':\n",
      "/home/necromant/.virtualenvs/datascience/lib/python3.6/site-packages/ipykernel_launcher.py:7: UserWarning: The `nb_epoch` argument in `fit` has been renamed `epochs`.\n",
      "  import sys\n"
     ]
    },
    {
     "name": "stdout",
     "output_type": "stream",
     "text": [
      "Train on 49500 samples, validate on 5500 samples\n",
      "Epoch 1/20\n",
      "49500/49500 [==============================] - 2s 50us/step - loss: 0.4517 - acc: 0.8638 - val_loss: 0.1194 - val_acc: 0.9676\n",
      "Epoch 2/20\n",
      "49500/49500 [==============================] - 2s 38us/step - loss: 0.2059 - acc: 0.9370 - val_loss: 0.0984 - val_acc: 0.9725\n",
      "Epoch 3/20\n",
      "49500/49500 [==============================] - 2s 38us/step - loss: 0.1537 - acc: 0.9522 - val_loss: 0.0873 - val_acc: 0.9758\n",
      "Epoch 4/20\n",
      "49500/49500 [==============================] - 2s 37us/step - loss: 0.1234 - acc: 0.9621 - val_loss: 0.0828 - val_acc: 0.9780\n",
      "Epoch 5/20\n",
      "49500/49500 [==============================] - 2s 38us/step - loss: 0.1048 - acc: 0.9668 - val_loss: 0.0737 - val_acc: 0.9789\n",
      "Epoch 6/20\n",
      "49500/49500 [==============================] - 2s 37us/step - loss: 0.0906 - acc: 0.9705 - val_loss: 0.0793 - val_acc: 0.9791\n",
      "Epoch 7/20\n",
      "49500/49500 [==============================] - 2s 38us/step - loss: 0.0773 - acc: 0.9749 - val_loss: 0.0679 - val_acc: 0.9813\n",
      "Epoch 8/20\n",
      "49500/49500 [==============================] - 2s 37us/step - loss: 0.0726 - acc: 0.9768 - val_loss: 0.0753 - val_acc: 0.9816\n",
      "Epoch 9/20\n",
      "49500/49500 [==============================] - 2s 38us/step - loss: 0.0638 - acc: 0.9793 - val_loss: 0.0737 - val_acc: 0.9809\n",
      "Epoch 10/20\n",
      "49500/49500 [==============================] - 2s 38us/step - loss: 0.0602 - acc: 0.9803 - val_loss: 0.0751 - val_acc: 0.9813\n",
      "Epoch 11/20\n",
      "49500/49500 [==============================] - 2s 38us/step - loss: 0.0559 - acc: 0.9824 - val_loss: 0.0810 - val_acc: 0.9827\n",
      "Epoch 12/20\n",
      "49500/49500 [==============================] - 2s 37us/step - loss: 0.0547 - acc: 0.9813 - val_loss: 0.0794 - val_acc: 0.9811\n",
      "Epoch 13/20\n",
      "49500/49500 [==============================] - 2s 37us/step - loss: 0.0478 - acc: 0.9840 - val_loss: 0.0867 - val_acc: 0.9789\n",
      "Epoch 14/20\n",
      "49500/49500 [==============================] - 2s 38us/step - loss: 0.0425 - acc: 0.9856 - val_loss: 0.0756 - val_acc: 0.9822\n",
      "Epoch 15/20\n",
      "49500/49500 [==============================] - 2s 38us/step - loss: 0.0426 - acc: 0.9860 - val_loss: 0.0756 - val_acc: 0.9825\n",
      "Epoch 16/20\n",
      "49500/49500 [==============================] - 2s 37us/step - loss: 0.0414 - acc: 0.9861 - val_loss: 0.0776 - val_acc: 0.9822\n",
      "Epoch 17/20\n",
      "49500/49500 [==============================] - 2s 37us/step - loss: 0.0389 - acc: 0.9871 - val_loss: 0.0774 - val_acc: 0.9813\n",
      "Epoch 18/20\n",
      "49500/49500 [==============================] - 2s 37us/step - loss: 0.0359 - acc: 0.9876 - val_loss: 0.0793 - val_acc: 0.9836\n",
      "Epoch 19/20\n",
      "49500/49500 [==============================] - 2s 39us/step - loss: 0.0351 - acc: 0.9882 - val_loss: 0.0768 - val_acc: 0.9835\n",
      "Epoch 20/20\n",
      "49500/49500 [==============================] - 2s 37us/step - loss: 0.0346 - acc: 0.9884 - val_loss: 0.0777 - val_acc: 0.9840\n"
     ]
    },
    {
     "data": {
      "image/png": "[encoded data removed]",
      "text/plain": [
       "<Figure size 432x288 with 1 Axes>"
      ]
     },
     "metadata": {
      "needs_background": "light"
     },
     "output_type": "display_data"
    },
    {
     "data": {
      "image/png": "[encoded data removed]",
      "text/plain": [
       "<Figure size 432x288 with 1 Axes>"
      ]
     },
     "metadata": {
      "needs_background": "light"
     },
     "output_type": "display_data"
    },
    {
     "name": "stdout",
     "output_type": "stream",
     "text": [
      "10000/10000 [==============================] - 0s 29us/step\n"
     ]
    },
    {
     "data": {
      "text/plain": [
       "[0.09889223741343976, 0.9785]"
      ]
     },
     "execution_count": 36,
     "metadata": {},
     "output_type": "execute_result"
    }
   ],
   "source": [
    "opt = optimizers.Adam(lr=0.001, beta_1=0.9, beta_2=0.999, epsilon=None, decay=0.0)\n",
    "model = get_h2bd_model(256, optimizer=opt)\n",
    "batch_size = 100\n",
    "num_epochs = 20\n",
    "history = model.fit(mnist.train.images, mnist.train.labels, # Train the model using the training set...\n",
    "          batch_size=batch_size, nb_epoch=num_epochs,\n",
    "          verbose=1, validation_split=0.1)\n",
    "plot_loss(history)\n",
    "plot_accuracy(history)\n",
    "model.evaluate(mnist.test.images, mnist.test.labels, verbose=1)"
   ]
  },
  {
   "cell_type": "markdown",
   "metadata": {},
   "source": [
    "Объединение дропаута и батч нормализаций на простой моделе имеет почти такой же результат как и при чисто дропауте"
   ]
  },
  {
   "cell_type": "code",
   "execution_count": null,
   "metadata": {},
   "outputs": [],
   "source": []
  }
 ],
 "metadata": {
  "kernelspec": {
   "display_name": "Python 3",
   "language": "python",
   "name": "python3"
  },
  "language_info": {
   "codemirror_mode": {
    "name": "ipython",
    "version": 3
   },
   "file_extension": ".py",
   "mimetype": "text/x-python",
   "name": "python",
   "nbconvert_exporter": "python",
   "pygments_lexer": "ipython3",
   "version": "3.6.7"
  },
  "varInspector": {
   "cols": {
    "lenName": 16,
    "lenType": 16,
    "lenVar": 40
   },
   "kernels_config": {
    "python": {
     "delete_cmd_postfix": "",
     "delete_cmd_prefix": "del ",
     "library": "var_list.py",
     "varRefreshCmd": "print(var_dic_list())"
    },
    "r": {
     "delete_cmd_postfix": ") ",
     "delete_cmd_prefix": "rm(",
     "library": "var_list.r",
     "varRefreshCmd": "cat(var_dic_list()) "
    }
   },
   "position": {
    "height": "286.85px",
    "left": "1297px",
    "right": "90px",
    "top": "43px",
    "width": "533px"
   },
   "types_to_exclude": [
    "module",
    "function",
    "builtin_function_or_method",
    "instance",
    "_Feature"
   ],
   "window_display": false
  }
 },
 "nbformat": 4,
 "nbformat_minor": 2
}
