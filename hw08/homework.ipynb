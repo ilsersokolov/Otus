{
 "cells": [
  {
   "cell_type": "markdown",
   "metadata": {},
   "source": [
    "# MovieLens"
   ]
  },
  {
   "cell_type": "markdown",
   "metadata": {},
   "source": [
    "27,000,000 ratings and 1,100,000 tag applications applied to 58,000 movies by 280,000 users. Includes tag genome data with 14 million relevance scores across 1,100 tags. Last updated 9/2018."
   ]
  },
  {
   "cell_type": "code",
   "execution_count": 1,
   "metadata": {},
   "outputs": [],
   "source": [
    "import numpy as np\n",
    "import pandas as pd\n",
    "import pandas_profiling\n",
    "from os import path\n",
    "import matplotlib\n",
    "import matplotlib.pyplot as plt\n",
    "import gc\n",
    "\n",
    "%matplotlib inline\n",
    "plt.rcParams[\"figure.figsize\"] = [24, 18]"
   ]
  },
  {
   "cell_type": "code",
   "execution_count": 2,
   "metadata": {},
   "outputs": [],
   "source": [
    "data_dir = 'ml-latest'"
   ]
  },
  {
   "cell_type": "markdown",
   "metadata": {},
   "source": [
    "Movies Data File Structure (movies.csv)\n",
    "---------------------------------------\n",
    "\n",
    "Movie information is contained in the file `movies.csv`. Each line of this file after the header row represents one movie, and has the following format:\n",
    "\n",
    "    movieId,title,genres\n",
    "\n",
    "Movie titles are entered manually or imported from <https://www.themoviedb.org/>, and include the year of release in parentheses. Errors and inconsistencies may exist in these titles.\n",
    "\n",
    "Genres are a pipe-separated list, and are selected from the following:\n",
    "\n",
    "* Action\n",
    "* Adventure\n",
    "* Animation\n",
    "* Children's\n",
    "* Comedy\n",
    "* Crime\n",
    "* Documentary\n",
    "* Drama\n",
    "* Fantasy\n",
    "* Film-Noir\n",
    "* Horror\n",
    "* Musical\n",
    "* Mystery\n",
    "* Romance\n",
    "* Sci-Fi\n",
    "* Thriller\n",
    "* War\n",
    "* Western\n",
    "* (no genres listed)\n"
   ]
  },
  {
   "cell_type": "code",
   "execution_count": 1,
   "metadata": {},
   "outputs": [
    {
     "name": "stdout",
     "output_type": "stream",
     "text": [
      "movieId,title,genres\r",
      "\r\n",
      "1,Toy Story (1995),Adventure|Animation|Children|Comedy|Fantasy\r",
      "\r\n",
      "2,Jumanji (1995),Adventure|Children|Fantasy\r",
      "\r\n",
      "3,Grumpier Old Men (1995),Comedy|Romance\r",
      "\r\n",
      "4,Waiting to Exhale (1995),Comedy|Drama|Romance\r",
      "\r\n",
      "5,Father of the Bride Part II (1995),Comedy\r",
      "\r\n",
      "6,Heat (1995),Action|Crime|Thriller\r",
      "\r\n",
      "7,Sabrina (1995),Comedy|Romance\r",
      "\r\n",
      "8,Tom and Huck (1995),Adventure|Children\r",
      "\r\n",
      "9,Sudden Death (1995),Action\r",
      "\r\n"
     ]
    }
   ],
   "source": [
    "!head  'ml-latest/movies.csv'"
   ]
  },
  {
   "cell_type": "markdown",
   "metadata": {},
   "source": [
    "Tags Data File Structure (tags.csv)\n",
    "-----------------------------------\n",
    "\n",
    "All tags are contained in the file `tags.csv`. Each line of this file after the header row represents one tag applied to one movie by one user, and has the following format:\n",
    "\n",
    "    userId,movieId,tag,timestamp\n",
    "\n",
    "The lines within this file are ordered first by userId, then, within user, by movieId.\n",
    "\n",
    "Tags are user-generated metadata about movies. Each tag is typically a single word or short phrase. The meaning, value, and purpose of a particular tag is determined by each user.\n",
    "\n",
    "Timestamps represent seconds since midnight Coordinated Universal Time (UTC) of January 1, 1970."
   ]
  },
  {
   "cell_type": "code",
   "execution_count": 2,
   "metadata": {},
   "outputs": [
    {
     "name": "stdout",
     "output_type": "stream",
     "text": [
      "userId,movieId,tag,timestamp\r",
      "\r\n",
      "14,110,epic,1443148538\r",
      "\r\n",
      "14,110,Medieval,1443148532\r",
      "\r\n",
      "14,260,sci-fi,1442169410\r",
      "\r\n",
      "14,260,space action,1442169421\r",
      "\r\n",
      "14,318,imdb top 250,1442615195\r",
      "\r\n",
      "14,318,justice,1442615192\r",
      "\r\n",
      "14,480,Dinosaurs,1443148563\r",
      "\r\n",
      "14,593,psychothriller,1444014286\r",
      "\r\n",
      "14,1682,philosophy,1442615158\r",
      "\r\n"
     ]
    }
   ],
   "source": [
    "!head  'ml-latest/tags.csv'"
   ]
  },
  {
   "cell_type": "markdown",
   "metadata": {},
   "source": [
    "Ratings Data File Structure (ratings.csv)\n",
    "-----------------------------------------\n",
    "\n",
    "All ratings are contained in the file `ratings.csv`. Each line of this file after the header row represents one rating of one movie by one user, and has the following format:\n",
    "\n",
    "    userId,movieId,rating,timestamp\n",
    "\n",
    "The lines within this file are ordered first by userId, then, within user, by movieId.\n",
    "\n",
    "Ratings are made on a 5-star scale, with half-star increments (0.5 stars - 5.0 stars).\n",
    "\n",
    "Timestamps represent seconds since midnight Coordinated Universal Time (UTC) of January 1, 1970."
   ]
  },
  {
   "cell_type": "code",
   "execution_count": 3,
   "metadata": {},
   "outputs": [
    {
     "name": "stdout",
     "output_type": "stream",
     "text": [
      "userId,movieId,rating,timestamp\r",
      "\r\n",
      "1,307,3.5,1256677221\r",
      "\r\n",
      "1,481,3.5,1256677456\r",
      "\r\n",
      "1,1091,1.5,1256677471\r",
      "\r\n",
      "1,1257,4.5,1256677460\r",
      "\r\n",
      "1,1449,4.5,1256677264\r",
      "\r\n",
      "1,1590,2.5,1256677236\r",
      "\r\n",
      "1,1591,1.5,1256677475\r",
      "\r\n",
      "1,2134,4.5,1256677464\r",
      "\r\n",
      "1,2478,4.0,1256677239\r",
      "\r\n"
     ]
    }
   ],
   "source": [
    "!head  'ml-latest/ratings.csv'"
   ]
  },
  {
   "cell_type": "markdown",
   "metadata": {},
   "source": [
    "Links Data File Structure (links.csv)\n",
    "---------------------------------------\n",
    "\n",
    "Identifiers that can be used to link to other sources of movie data are contained in the file `links.csv`. Each line of this file after the header row represents one movie, and has the following format:\n",
    "\n",
    "    movieId,imdbId,tmdbId\n",
    "\n",
    "movieId is an identifier for movies used by <https://movielens.org>. E.g., the movie Toy Story has the link <https://movielens.org/movies/1>.\n",
    "\n",
    "imdbId is an identifier for movies used by <http://www.imdb.com>. E.g., the movie Toy Story has the link <http://www.imdb.com/title/tt0114709/>.\n",
    "\n",
    "tmdbId is an identifier for movies used by <https://www.themoviedb.org>. E.g., the movie Toy Story has the link <https://www.themoviedb.org/movie/862>.\n",
    "\n",
    "Use of the resources listed above is subject to the terms of each provider.\n"
   ]
  },
  {
   "cell_type": "code",
   "execution_count": 4,
   "metadata": {
    "scrolled": true
   },
   "outputs": [
    {
     "name": "stdout",
     "output_type": "stream",
     "text": [
      "movieId,imdbId,tmdbId\r",
      "\r\n",
      "1,0114709,862\r",
      "\r\n",
      "2,0113497,8844\r",
      "\r\n",
      "3,0113228,15602\r",
      "\r\n",
      "4,0114885,31357\r",
      "\r\n",
      "5,0113041,11862\r",
      "\r\n",
      "6,0113277,949\r",
      "\r\n",
      "7,0114319,11860\r",
      "\r\n",
      "8,0112302,45325\r",
      "\r\n",
      "9,0114576,9091\r",
      "\r\n"
     ]
    }
   ],
   "source": [
    "!head  'ml-latest/links.csv'"
   ]
  },
  {
   "cell_type": "markdown",
   "metadata": {},
   "source": [
    "Tag Genome (genome-scores.csv and genome-tags.csv)\n",
    "-------------------------------------------------\n",
    "\n",
    "This data set includes a current copy of the Tag Genome.\n",
    "\n",
    "[genome-paper]: http://files.grouplens.org/papers/tag_genome.pdf\n",
    "\n",
    "The tag genome is a data structure that contains tag relevance scores for movies.  The structure is a dense matrix: each movie in the genome has a value for *every* tag in the genome.\n",
    "\n",
    "As described in [this article][genome-paper], the tag genome encodes how strongly movies exhibit particular properties represented by tags (atmospheric, thought-provoking, realistic, etc.). The tag genome was computed using a machine learning algorithm on user-contributed content including tags, ratings, and textual reviews.\n",
    "\n",
    "The genome is split into two files.  The file `genome-scores.csv` contains movie-tag relevance data in the following format:\n",
    "\n",
    "    movieId,tagId,relevance\n",
    "\n",
    "The second file, `genome-tags.csv`, provides the tag descriptions for the tag IDs in the genome file, in the following format:\n",
    "\n",
    "    tagId,tag\n",
    "\n",
    "The `tagId` values are generated when the data set is exported, so they may vary from version to version of the MovieLens data sets.\n",
    "\n",
    "Please include the following citation if referencing tag genome data:\n",
    "\n",
    "> Jesse Vig, Shilad Sen, and John Riedl. 2012. The Tag Genome: Encoding Community Knowledge to Support Novel Interaction. ACM Trans. Interact. Intell. Syst. 2, 3: 13:1–13:44. <https://doi.org/10.1145/2362394.2362395>"
   ]
  },
  {
   "cell_type": "code",
   "execution_count": 5,
   "metadata": {},
   "outputs": [
    {
     "name": "stdout",
     "output_type": "stream",
     "text": [
      "tagId,tag\r",
      "\r\n",
      "1,007\r",
      "\r\n",
      "2,007 (series)\r",
      "\r\n",
      "3,18th century\r",
      "\r\n",
      "4,1920s\r",
      "\r\n",
      "5,1930s\r",
      "\r\n",
      "6,1950s\r",
      "\r\n",
      "7,1960s\r",
      "\r\n",
      "8,1970s\r",
      "\r\n",
      "9,1980s\r",
      "\r\n"
     ]
    }
   ],
   "source": [
    "!head  'ml-latest/genome-tags.csv'"
   ]
  },
  {
   "cell_type": "code",
   "execution_count": 6,
   "metadata": {
    "scrolled": true
   },
   "outputs": [
    {
     "name": "stdout",
     "output_type": "stream",
     "text": [
      "movieId,tagId,relevance\r",
      "\r\n",
      "1,1,0.029000000000000026\r",
      "\r\n",
      "1,2,0.023749999999999993\r",
      "\r\n",
      "1,3,0.05425000000000002\r",
      "\r\n",
      "1,4,0.06874999999999998\r",
      "\r\n",
      "1,5,0.15999999999999998\r",
      "\r\n",
      "1,6,0.19524999999999998\r",
      "\r\n",
      "1,7,0.07600000000000001\r",
      "\r\n",
      "1,8,0.252\r",
      "\r\n",
      "1,9,0.22749999999999998\r",
      "\r\n"
     ]
    }
   ],
   "source": [
    "!head  'ml-latest/genome-scores.csv'"
   ]
  },
  {
   "cell_type": "code",
   "execution_count": 9,
   "metadata": {
    "scrolled": true
   },
   "outputs": [
    {
     "name": "stdout",
     "output_type": "stream",
     "text": [
      "<class 'pandas.core.frame.DataFrame'>\n",
      "RangeIndex: 27753444 entries, 0 to 27753443\n",
      "Data columns (total 3 columns):\n",
      "userId     int64\n",
      "movieId    int64\n",
      "rating     float64\n",
      "dtypes: float64(1), int64(2)\n",
      "memory usage: 635.2 MB\n"
     ]
    }
   ],
   "source": [
    "# df = pd.read_csv(path.join(data_dir,'ratings.csv'),nrows=5000000)\n",
    "df = pd.read_csv(path.join(data_dir,'ratings.csv'))\n",
    "df = df.drop(columns='timestamp')\n",
    "df.info()"
   ]
  },
  {
   "cell_type": "code",
   "execution_count": 10,
   "metadata": {},
   "outputs": [
    {
     "name": "stdout",
     "output_type": "stream",
     "text": [
      "<class 'pandas.core.frame.DataFrame'>\n",
      "RangeIndex: 27753444 entries, 0 to 27753443\n",
      "Data columns (total 3 columns):\n",
      "userId     uint32\n",
      "movieId    uint32\n",
      "rating     float32\n",
      "dtypes: float32(1), uint32(2)\n",
      "memory usage: 317.6 MB\n"
     ]
    }
   ],
   "source": [
    "# оптимизируем память\n",
    "def opt_mem_df(df):\n",
    "    df = df.astype({\"userId\": int, 'movieId':int, \"rating\": float})\n",
    "    # все int в unsigned\n",
    "    df_int = df.select_dtypes(include=['int'])\n",
    "    converted_int = df_int.apply(pd.to_numeric,downcast='unsigned')\n",
    "    df[converted_int.columns] = converted_int\n",
    "    del df_int, converted_int\n",
    "    # понизить потребление памяти float, если возможно без потери точности\n",
    "    df_float = df.select_dtypes(include=['float'])\n",
    "    converted_float = df_float.apply(pd.to_numeric,downcast='float')\n",
    "    df[converted_float.columns] = converted_float\n",
    "    return df\n",
    "\n",
    "df = opt_mem_df(df)\n",
    "df.info()"
   ]
  },
  {
   "cell_type": "code",
   "execution_count": 11,
   "metadata": {
    "scrolled": true
   },
   "outputs": [
    {
     "data": {
      "text/html": [
       "<div>\n",
       "<style scoped>\n",
       "    .dataframe tbody tr th:only-of-type {\n",
       "        vertical-align: middle;\n",
       "    }\n",
       "\n",
       "    .dataframe tbody tr th {\n",
       "        vertical-align: top;\n",
       "    }\n",
       "\n",
       "    .dataframe thead th {\n",
       "        text-align: right;\n",
       "    }\n",
       "</style>\n",
       "<table border=\"1\" class=\"dataframe\">\n",
       "  <thead>\n",
       "    <tr style=\"text-align: right;\">\n",
       "      <th></th>\n",
       "      <th>userId</th>\n",
       "      <th>movieId</th>\n",
       "      <th>rating</th>\n",
       "    </tr>\n",
       "  </thead>\n",
       "  <tbody>\n",
       "    <tr>\n",
       "      <th>0</th>\n",
       "      <td>1</td>\n",
       "      <td>307</td>\n",
       "      <td>3.5</td>\n",
       "    </tr>\n",
       "    <tr>\n",
       "      <th>1</th>\n",
       "      <td>1</td>\n",
       "      <td>481</td>\n",
       "      <td>3.5</td>\n",
       "    </tr>\n",
       "    <tr>\n",
       "      <th>2</th>\n",
       "      <td>1</td>\n",
       "      <td>1091</td>\n",
       "      <td>1.5</td>\n",
       "    </tr>\n",
       "    <tr>\n",
       "      <th>3</th>\n",
       "      <td>1</td>\n",
       "      <td>1257</td>\n",
       "      <td>4.5</td>\n",
       "    </tr>\n",
       "    <tr>\n",
       "      <th>4</th>\n",
       "      <td>1</td>\n",
       "      <td>1449</td>\n",
       "      <td>4.5</td>\n",
       "    </tr>\n",
       "  </tbody>\n",
       "</table>\n",
       "</div>"
      ],
      "text/plain": [
       "   userId  movieId  rating\n",
       "0       1      307     3.5\n",
       "1       1      481     3.5\n",
       "2       1     1091     1.5\n",
       "3       1     1257     4.5\n",
       "4       1     1449     4.5"
      ]
     },
     "execution_count": 11,
     "metadata": {},
     "output_type": "execute_result"
    }
   ],
   "source": [
    "df.head()"
   ]
  },
  {
   "cell_type": "markdown",
   "metadata": {},
   "source": [
    "Загрузим словарь фильмов"
   ]
  },
  {
   "cell_type": "code",
   "execution_count": 12,
   "metadata": {},
   "outputs": [
    {
     "data": {
      "text/plain": [
       "'Toy Story (1995)'"
      ]
     },
     "execution_count": 12,
     "metadata": {},
     "output_type": "execute_result"
    }
   ],
   "source": [
    "df_movies = pd.read_csv(path.join(data_dir,'movies.csv'))\n",
    "\n",
    "dict_movie = {row['movieId']:row['title'] for index,row in df_movies[['movieId','title']].iterrows()}\n",
    "del df_movies\n",
    "dict_movie[1]"
   ]
  },
  {
   "cell_type": "code",
   "execution_count": 13,
   "metadata": {
    "scrolled": true
   },
   "outputs": [
    {
     "data": {
      "text/plain": [
       "58098"
      ]
     },
     "execution_count": 13,
     "metadata": {},
     "output_type": "execute_result"
    }
   ],
   "source": [
    "len(dict_movie)"
   ]
  },
  {
   "cell_type": "markdown",
   "metadata": {},
   "source": [
    "## Оценить распределения"
   ]
  },
  {
   "cell_type": "code",
   "execution_count": 14,
   "metadata": {},
   "outputs": [
    {
     "data": {
      "text/plain": [
       "<matplotlib.axes._subplots.AxesSubplot at 0x7ffaa6b6b2b0>"
      ]
     },
     "execution_count": 14,
     "metadata": {},
     "output_type": "execute_result"
    },
    {
     "data": {
      "image/png": "[encoded data removed]",
      "text/plain": [
       "<Figure size 1728x1296 with 1 Axes>"
      ]
     },
     "metadata": {
      "needs_background": "light"
     },
     "output_type": "display_data"
    }
   ],
   "source": [
    "fig, ax = plt.subplots()\n",
    "df['rating'].plot.hist(by='rating',ax=ax)"
   ]
  },
  {
   "cell_type": "code",
   "execution_count": 15,
   "metadata": {},
   "outputs": [
    {
     "data": {
      "text/plain": [
       "<matplotlib.axes._subplots.AxesSubplot at 0x7ffaa48aec50>"
      ]
     },
     "execution_count": 15,
     "metadata": {},
     "output_type": "execute_result"
    },
    {
     "data": {
      "image/png": "[encoded data removed]",
      "text/plain": [
       "<Figure size 1728x1296 with 1 Axes>"
      ]
     },
     "metadata": {
      "needs_background": "light"
     },
     "output_type": "display_data"
    }
   ],
   "source": [
    "fig, ax = plt.subplots()\n",
    "df['rating'].plot.hist(by='movieId',ax=ax)"
   ]
  },
  {
   "cell_type": "markdown",
   "metadata": {},
   "source": [
    "Пользователи значительно реже ставят \"половинки\" баллов, Так же распределения не сводятся к нориальному, явная ассимитрия"
   ]
  },
  {
   "cell_type": "markdown",
   "metadata": {},
   "source": [
    "## Оценить средние оценки"
   ]
  },
  {
   "cell_type": "code",
   "execution_count": 16,
   "metadata": {
    "scrolled": false
   },
   "outputs": [
    {
     "data": {
      "text/plain": [
       "<matplotlib.axes._subplots.AxesSubplot at 0x7ffaa483ba58>"
      ]
     },
     "execution_count": 16,
     "metadata": {},
     "output_type": "execute_result"
    },
    {
     "data": {
      "image/png": "[encoded data removed]",
      "text/plain": [
       "<Figure size 1728x1296 with 1 Axes>"
      ]
     },
     "metadata": {
      "needs_background": "light"
     },
     "output_type": "display_data"
    }
   ],
   "source": [
    "fig, ax = plt.subplots()\n",
    "df.groupby(['userId'])['rating'].mean().plot.hist(ax=ax)"
   ]
  },
  {
   "cell_type": "code",
   "execution_count": 17,
   "metadata": {},
   "outputs": [
    {
     "data": {
      "text/plain": [
       "<matplotlib.axes._subplots.AxesSubplot at 0x7ffaa47a2c50>"
      ]
     },
     "execution_count": 17,
     "metadata": {},
     "output_type": "execute_result"
    },
    {
     "data": {
      "image/png": "[encoded data removed]",
      "text/plain": [
       "<Figure size 1728x1296 with 1 Axes>"
      ]
     },
     "metadata": {
      "needs_background": "light"
     },
     "output_type": "display_data"
    }
   ],
   "source": [
    "fig, ax = plt.subplots()\n",
    "df.groupby(['movieId'])['rating'].mean().plot.hist(ax=ax)"
   ]
  },
  {
   "cell_type": "code",
   "execution_count": 18,
   "metadata": {},
   "outputs": [],
   "source": [
    "del fig,ax"
   ]
  },
  {
   "cell_type": "markdown",
   "metadata": {},
   "source": [
    "Опять таки распределения ассиметричны. Средние оценки пользователей ближе к 4, а фильмы к 3,5"
   ]
  },
  {
   "cell_type": "markdown",
   "metadata": {},
   "source": [
    "## Выбрать критерий, показывающий, что фильм нравится всем, или не нравится никому"
   ]
  },
  {
   "cell_type": "markdown",
   "metadata": {},
   "source": [
    "рейтинг фильмов должен быть устойчивым к числу посмотревших, поэтому с помощью логарифмической шкалы, отнормируем от 0 до 5, учтем среднюю оценку пользователей и разделим пополам, чтобы общий бал был от 0 до 5"
   ]
  },
  {
   "cell_type": "code",
   "execution_count": 19,
   "metadata": {},
   "outputs": [],
   "source": [
    "alpha = np.log(np.power(np.max(df.groupby(['movieId'])['rating'].count()),1/5))\n",
    "\n",
    "df_mr = pd.DataFrame((np.log(df.groupby(['movieId'])['rating'].count())/alpha+df.groupby(['movieId'])['rating'].mean())/2)\n",
    "df_mr['title'] = [dict_movie[row] for row in df_mr.index]"
   ]
  },
  {
   "cell_type": "code",
   "execution_count": 20,
   "metadata": {},
   "outputs": [
    {
     "data": {
      "text/html": [
       "<div>\n",
       "<style scoped>\n",
       "    .dataframe tbody tr th:only-of-type {\n",
       "        vertical-align: middle;\n",
       "    }\n",
       "\n",
       "    .dataframe tbody tr th {\n",
       "        vertical-align: top;\n",
       "    }\n",
       "\n",
       "    .dataframe thead th {\n",
       "        text-align: right;\n",
       "    }\n",
       "</style>\n",
       "<table border=\"1\" class=\"dataframe\">\n",
       "  <thead>\n",
       "    <tr style=\"text-align: right;\">\n",
       "      <th></th>\n",
       "      <th>rating</th>\n",
       "      <th>title</th>\n",
       "    </tr>\n",
       "    <tr>\n",
       "      <th>movieId</th>\n",
       "      <th></th>\n",
       "      <th></th>\n",
       "    </tr>\n",
       "  </thead>\n",
       "  <tbody>\n",
       "    <tr>\n",
       "      <th>260</th>\n",
       "      <td>4.520964</td>\n",
       "      <td>Star Wars: Episode IV - A New Hope (1977)</td>\n",
       "    </tr>\n",
       "    <tr>\n",
       "      <th>356</th>\n",
       "      <td>4.526153</td>\n",
       "      <td>Forrest Gump (1994)</td>\n",
       "    </tr>\n",
       "    <tr>\n",
       "      <th>2959</th>\n",
       "      <td>4.528278</td>\n",
       "      <td>Fight Club (1999)</td>\n",
       "    </tr>\n",
       "    <tr>\n",
       "      <th>2571</th>\n",
       "      <td>4.542724</td>\n",
       "      <td>Matrix, The (1999)</td>\n",
       "    </tr>\n",
       "    <tr>\n",
       "      <th>50</th>\n",
       "      <td>4.547020</td>\n",
       "      <td>Usual Suspects, The (1995)</td>\n",
       "    </tr>\n",
       "    <tr>\n",
       "      <th>593</th>\n",
       "      <td>4.552046</td>\n",
       "      <td>Silence of the Lambs, The (1991)</td>\n",
       "    </tr>\n",
       "    <tr>\n",
       "      <th>527</th>\n",
       "      <td>4.560221</td>\n",
       "      <td>Schindler's List (1993)</td>\n",
       "    </tr>\n",
       "    <tr>\n",
       "      <th>858</th>\n",
       "      <td>4.562977</td>\n",
       "      <td>Godfather, The (1972)</td>\n",
       "    </tr>\n",
       "    <tr>\n",
       "      <th>296</th>\n",
       "      <td>4.574202</td>\n",
       "      <td>Pulp Fiction (1994)</td>\n",
       "    </tr>\n",
       "    <tr>\n",
       "      <th>318</th>\n",
       "      <td>4.712094</td>\n",
       "      <td>Shawshank Redemption, The (1994)</td>\n",
       "    </tr>\n",
       "  </tbody>\n",
       "</table>\n",
       "</div>"
      ],
      "text/plain": [
       "           rating                                      title\n",
       "movieId                                                     \n",
       "260      4.520964  Star Wars: Episode IV - A New Hope (1977)\n",
       "356      4.526153                        Forrest Gump (1994)\n",
       "2959     4.528278                          Fight Club (1999)\n",
       "2571     4.542724                         Matrix, The (1999)\n",
       "50       4.547020                 Usual Suspects, The (1995)\n",
       "593      4.552046           Silence of the Lambs, The (1991)\n",
       "527      4.560221                    Schindler's List (1993)\n",
       "858      4.562977                      Godfather, The (1972)\n",
       "296      4.574202                        Pulp Fiction (1994)\n",
       "318      4.712094           Shawshank Redemption, The (1994)"
      ]
     },
     "execution_count": 20,
     "metadata": {},
     "output_type": "execute_result"
    }
   ],
   "source": [
    "df_mr.iloc[df_mr['rating'].argsort()[-10:]]"
   ]
  },
  {
   "cell_type": "markdown",
   "metadata": {},
   "source": [
    "The Usual Suspects и Schindler's List я не смотрел, остальные я в общем считаю одни из лучших, т.е. я согласен с оценками"
   ]
  },
  {
   "cell_type": "code",
   "execution_count": 21,
   "metadata": {},
   "outputs": [
    {
     "data": {
      "text/html": [
       "<div>\n",
       "<style scoped>\n",
       "    .dataframe tbody tr th:only-of-type {\n",
       "        vertical-align: middle;\n",
       "    }\n",
       "\n",
       "    .dataframe tbody tr th {\n",
       "        vertical-align: top;\n",
       "    }\n",
       "\n",
       "    .dataframe thead th {\n",
       "        text-align: right;\n",
       "    }\n",
       "</style>\n",
       "<table border=\"1\" class=\"dataframe\">\n",
       "  <thead>\n",
       "    <tr style=\"text-align: right;\">\n",
       "      <th></th>\n",
       "      <th>rating</th>\n",
       "      <th>title</th>\n",
       "    </tr>\n",
       "    <tr>\n",
       "      <th>movieId</th>\n",
       "      <th></th>\n",
       "      <th></th>\n",
       "    </tr>\n",
       "  </thead>\n",
       "  <tbody>\n",
       "    <tr>\n",
       "      <th>129881</th>\n",
       "      <td>0.25</td>\n",
       "      <td>Il cappotto di legno (1981)</td>\n",
       "    </tr>\n",
       "    <tr>\n",
       "      <th>181463</th>\n",
       "      <td>0.25</td>\n",
       "      <td>Equilibrium (2017)</td>\n",
       "    </tr>\n",
       "    <tr>\n",
       "      <th>155737</th>\n",
       "      <td>0.25</td>\n",
       "      <td>Shana: The Wolf's Music (2014)</td>\n",
       "    </tr>\n",
       "    <tr>\n",
       "      <th>155731</th>\n",
       "      <td>0.25</td>\n",
       "      <td>12 Paces without a Head (2009)</td>\n",
       "    </tr>\n",
       "    <tr>\n",
       "      <th>181487</th>\n",
       "      <td>0.25</td>\n",
       "      <td>Killing American Style (1991)</td>\n",
       "    </tr>\n",
       "    <tr>\n",
       "      <th>155577</th>\n",
       "      <td>0.25</td>\n",
       "      <td>First Position</td>\n",
       "    </tr>\n",
       "    <tr>\n",
       "      <th>191265</th>\n",
       "      <td>0.25</td>\n",
       "      <td>Triassic World (2018)</td>\n",
       "    </tr>\n",
       "    <tr>\n",
       "      <th>155567</th>\n",
       "      <td>0.25</td>\n",
       "      <td>USS Seaviper (2012)</td>\n",
       "    </tr>\n",
       "    <tr>\n",
       "      <th>155539</th>\n",
       "      <td>0.25</td>\n",
       "      <td>Return to Nuke 'Em High Volume 2 (2014)</td>\n",
       "    </tr>\n",
       "    <tr>\n",
       "      <th>155481</th>\n",
       "      <td>0.25</td>\n",
       "      <td>Kenny Chesney - Summer In 3D (2010)</td>\n",
       "    </tr>\n",
       "  </tbody>\n",
       "</table>\n",
       "</div>"
      ],
      "text/plain": [
       "         rating                                    title\n",
       "movieId                                                 \n",
       "129881     0.25              Il cappotto di legno (1981)\n",
       "181463     0.25                       Equilibrium (2017)\n",
       "155737     0.25           Shana: The Wolf's Music (2014)\n",
       "155731     0.25           12 Paces without a Head (2009)\n",
       "181487     0.25            Killing American Style (1991)\n",
       "155577     0.25                           First Position\n",
       "191265     0.25                    Triassic World (2018)\n",
       "155567     0.25                      USS Seaviper (2012)\n",
       "155539     0.25  Return to Nuke 'Em High Volume 2 (2014)\n",
       "155481     0.25      Kenny Chesney - Summer In 3D (2010)"
      ]
     },
     "execution_count": 21,
     "metadata": {},
     "output_type": "execute_result"
    }
   ],
   "source": [
    "df_mr.iloc[df_mr['rating'].argsort()[:10]]"
   ]
  },
  {
   "cell_type": "markdown",
   "metadata": {},
   "source": [
    "Вообще не знаю эти фильмы, кроме Equilibrium. Этот фильм оставил смешанные чувства, так что, пожалуй, соглашусь"
   ]
  },
  {
   "cell_type": "code",
   "execution_count": 22,
   "metadata": {},
   "outputs": [],
   "source": [
    "del df_mr"
   ]
  },
  {
   "cell_type": "code",
   "execution_count": 23,
   "metadata": {},
   "outputs": [
    {
     "data": {
      "text/plain": [
       "14"
      ]
     },
     "execution_count": 23,
     "metadata": {},
     "output_type": "execute_result"
    }
   ],
   "source": [
    "gc.collect()"
   ]
  },
  {
   "cell_type": "markdown",
   "metadata": {},
   "source": [
    "## Построение рекомендательной системы\n"
   ]
  },
  {
   "cell_type": "markdown",
   "metadata": {},
   "source": [
    "Выберем пользователя и посмотрим о нем информацию"
   ]
  },
  {
   "cell_type": "code",
   "execution_count": 24,
   "metadata": {
    "scrolled": false
   },
   "outputs": [
    {
     "data": {
      "text/html": [
       "<div>\n",
       "<style scoped>\n",
       "    .dataframe tbody tr th:only-of-type {\n",
       "        vertical-align: middle;\n",
       "    }\n",
       "\n",
       "    .dataframe tbody tr th {\n",
       "        vertical-align: top;\n",
       "    }\n",
       "\n",
       "    .dataframe thead th {\n",
       "        text-align: right;\n",
       "    }\n",
       "</style>\n",
       "<table border=\"1\" class=\"dataframe\">\n",
       "  <thead>\n",
       "    <tr style=\"text-align: right;\">\n",
       "      <th></th>\n",
       "      <th>userId</th>\n",
       "      <th>movieId</th>\n",
       "      <th>rating</th>\n",
       "    </tr>\n",
       "  </thead>\n",
       "  <tbody>\n",
       "    <tr>\n",
       "      <th>1918</th>\n",
       "      <td>25</td>\n",
       "      <td>1</td>\n",
       "      <td>4.0</td>\n",
       "    </tr>\n",
       "    <tr>\n",
       "      <th>1919</th>\n",
       "      <td>25</td>\n",
       "      <td>25</td>\n",
       "      <td>5.0</td>\n",
       "    </tr>\n",
       "    <tr>\n",
       "      <th>1920</th>\n",
       "      <td>25</td>\n",
       "      <td>32</td>\n",
       "      <td>3.0</td>\n",
       "    </tr>\n",
       "    <tr>\n",
       "      <th>1921</th>\n",
       "      <td>25</td>\n",
       "      <td>62</td>\n",
       "      <td>5.0</td>\n",
       "    </tr>\n",
       "    <tr>\n",
       "      <th>1922</th>\n",
       "      <td>25</td>\n",
       "      <td>79</td>\n",
       "      <td>3.0</td>\n",
       "    </tr>\n",
       "    <tr>\n",
       "      <th>1923</th>\n",
       "      <td>25</td>\n",
       "      <td>141</td>\n",
       "      <td>3.0</td>\n",
       "    </tr>\n",
       "    <tr>\n",
       "      <th>1924</th>\n",
       "      <td>25</td>\n",
       "      <td>260</td>\n",
       "      <td>5.0</td>\n",
       "    </tr>\n",
       "    <tr>\n",
       "      <th>1925</th>\n",
       "      <td>25</td>\n",
       "      <td>494</td>\n",
       "      <td>3.0</td>\n",
       "    </tr>\n",
       "    <tr>\n",
       "      <th>1926</th>\n",
       "      <td>25</td>\n",
       "      <td>628</td>\n",
       "      <td>3.0</td>\n",
       "    </tr>\n",
       "    <tr>\n",
       "      <th>1927</th>\n",
       "      <td>25</td>\n",
       "      <td>637</td>\n",
       "      <td>3.0</td>\n",
       "    </tr>\n",
       "    <tr>\n",
       "      <th>1928</th>\n",
       "      <td>25</td>\n",
       "      <td>648</td>\n",
       "      <td>2.0</td>\n",
       "    </tr>\n",
       "    <tr>\n",
       "      <th>1929</th>\n",
       "      <td>25</td>\n",
       "      <td>733</td>\n",
       "      <td>5.0</td>\n",
       "    </tr>\n",
       "    <tr>\n",
       "      <th>1930</th>\n",
       "      <td>25</td>\n",
       "      <td>736</td>\n",
       "      <td>4.0</td>\n",
       "    </tr>\n",
       "    <tr>\n",
       "      <th>1931</th>\n",
       "      <td>25</td>\n",
       "      <td>780</td>\n",
       "      <td>4.0</td>\n",
       "    </tr>\n",
       "    <tr>\n",
       "      <th>1932</th>\n",
       "      <td>25</td>\n",
       "      <td>1073</td>\n",
       "      <td>4.0</td>\n",
       "    </tr>\n",
       "    <tr>\n",
       "      <th>1933</th>\n",
       "      <td>25</td>\n",
       "      <td>1210</td>\n",
       "      <td>4.0</td>\n",
       "    </tr>\n",
       "  </tbody>\n",
       "</table>\n",
       "</div>"
      ],
      "text/plain": [
       "      userId  movieId  rating\n",
       "1918      25        1     4.0\n",
       "1919      25       25     5.0\n",
       "1920      25       32     3.0\n",
       "1921      25       62     5.0\n",
       "1922      25       79     3.0\n",
       "1923      25      141     3.0\n",
       "1924      25      260     5.0\n",
       "1925      25      494     3.0\n",
       "1926      25      628     3.0\n",
       "1927      25      637     3.0\n",
       "1928      25      648     2.0\n",
       "1929      25      733     5.0\n",
       "1930      25      736     4.0\n",
       "1931      25      780     4.0\n",
       "1932      25     1073     4.0\n",
       "1933      25     1210     4.0"
      ]
     },
     "execution_count": 24,
     "metadata": {},
     "output_type": "execute_result"
    }
   ],
   "source": [
    "df[df['userId']==25]"
   ]
  },
  {
   "cell_type": "markdown",
   "metadata": {},
   "source": [
    "Заведем нового пользователя(себя) и поставим оценку фильму Звездные воины 4 эпизод (id=260). Так же поставим оценку другими пользователями самому лучшему и худшему фильму. Делаем на будущее, чтобы не переобучать модель"
   ]
  },
  {
   "cell_type": "code",
   "execution_count": 25,
   "metadata": {
    "scrolled": false
   },
   "outputs": [
    {
     "data": {
      "text/html": [
       "<div>\n",
       "<style scoped>\n",
       "    .dataframe tbody tr th:only-of-type {\n",
       "        vertical-align: middle;\n",
       "    }\n",
       "\n",
       "    .dataframe tbody tr th {\n",
       "        vertical-align: top;\n",
       "    }\n",
       "\n",
       "    .dataframe thead th {\n",
       "        text-align: right;\n",
       "    }\n",
       "</style>\n",
       "<table border=\"1\" class=\"dataframe\">\n",
       "  <thead>\n",
       "    <tr style=\"text-align: right;\">\n",
       "      <th></th>\n",
       "      <th>userId</th>\n",
       "      <th>movieId</th>\n",
       "      <th>rating</th>\n",
       "    </tr>\n",
       "  </thead>\n",
       "  <tbody>\n",
       "    <tr>\n",
       "      <th>27753444</th>\n",
       "      <td>283229</td>\n",
       "      <td>260</td>\n",
       "      <td>5.0</td>\n",
       "    </tr>\n",
       "    <tr>\n",
       "      <th>27753445</th>\n",
       "      <td>283230</td>\n",
       "      <td>296</td>\n",
       "      <td>5.0</td>\n",
       "    </tr>\n",
       "    <tr>\n",
       "      <th>27753446</th>\n",
       "      <td>283231</td>\n",
       "      <td>181463</td>\n",
       "      <td>5.0</td>\n",
       "    </tr>\n",
       "  </tbody>\n",
       "</table>\n",
       "</div>"
      ],
      "text/plain": [
       "          userId  movieId  rating\n",
       "27753444  283229      260     5.0\n",
       "27753445  283230      296     5.0\n",
       "27753446  283231   181463     5.0"
      ]
     },
     "execution_count": 25,
     "metadata": {},
     "output_type": "execute_result"
    }
   ],
   "source": [
    "def add_user(df,data):\n",
    "    df_new = pd.DataFrame(data,columns=['userId','movieId','rating'])\n",
    "    return pd.concat([df,df_new], ignore_index=True)\n",
    "\n",
    "new_user = int(np.max(df['userId']))+1\n",
    "\n",
    "\n",
    "# df.loc[df.shape[0]] = [new_user, 260, 5.0]\n",
    "data =[\n",
    "    [new_user, 260, 5.0], # моя оценка\n",
    "    [new_user+1, 296, 5.0], # оценка для лучшего фильма\n",
    "    [new_user+2, 181463, 5.0] # оценка для худшего фильма\n",
    "]\n",
    "df = add_user(df,data)\n",
    "df.loc[df.shape[0]-3:]"
   ]
  },
  {
   "cell_type": "code",
   "execution_count": 26,
   "metadata": {
    "scrolled": false
   },
   "outputs": [
    {
     "name": "stdout",
     "output_type": "stream",
     "text": [
      "<class 'pandas.core.frame.DataFrame'>\n",
      "RangeIndex: 27753447 entries, 0 to 27753446\n",
      "Data columns (total 3 columns):\n",
      "userId     uint32\n",
      "movieId    uint32\n",
      "rating     float32\n",
      "dtypes: float32(1), uint32(2)\n",
      "memory usage: 317.6 MB\n"
     ]
    }
   ],
   "source": [
    "df = opt_mem_df(df) # уменьшим память\n",
    "df.info()"
   ]
  },
  {
   "cell_type": "code",
   "execution_count": 27,
   "metadata": {},
   "outputs": [],
   "source": [
    "from surprise import Dataset\n",
    "from surprise import Reader\n",
    "\n",
    "# преобразуем датасет пандаса в датасет библиотеки surprise\n",
    "def df_to_data(df):\n",
    "    reader = Reader(rating_scale=(0.5, 5))\n",
    "    return Dataset.load_from_df(df[['userId', 'movieId', 'rating']], reader)\n",
    "# reader = Reader(line_format='user item rating timestamp', sep=',',rating_scale=(0.5, 5),skip_lines=1)\n",
    "# data = Dataset.load_from_file(path.join(data_dir,'ratings.csv'), reader=reader)"
   ]
  },
  {
   "cell_type": "code",
   "execution_count": 28,
   "metadata": {},
   "outputs": [
    {
     "name": "stdout",
     "output_type": "stream",
     "text": [
      "{'rmse': 0.8228837817027087, 'mae': 0.6200950468217351}\n",
      "{'rmse': {'lr_all': 0.005, 'reg_all': 0.02, 'n_factors': 10, 'n_epochs': 100}, 'mae': {'lr_all': 0.005, 'reg_all': 0.02, 'n_factors': 10, 'n_epochs': 100}}\n"
     ]
    }
   ],
   "source": [
    "import pickle\n",
    "from surprise import SVD\n",
    "from surprise.model_selection import cross_validate, GridSearchCV\n",
    "\n",
    "param_grid = {\n",
    "    'lr_all': [0.005, 0.05],\n",
    "    'reg_all': [0.02, 0.002],\n",
    "    'n_factors': [5, 10, 100, 500],\n",
    "    'n_epochs': [10, 100]\n",
    "}\n",
    "\n",
    "\n",
    "try:\n",
    "    with open('svd.pkl','rb') as f: # есть ли лучшая модель?\n",
    "        gs = pickle.load(f)\n",
    "except FileNotFoundError: # в противном случае ищем\n",
    "    gs = GridSearchCV(SVD, param_grid, measures=['rmse', 'mae'], cv=3, joblib_verbose=3,n_jobs=4)\n",
    "    gs.fit(df_to_data)\n",
    "    with open('svd.pkl','wb') as f:\n",
    "        pickle.dump(gs,f)\n",
    "        \n",
    "del param_grid\n",
    "\n",
    "# best RMSE score\n",
    "print(gs.best_score)\n",
    "print(gs.best_params)"
   ]
  },
  {
   "cell_type": "code",
   "execution_count": 29,
   "metadata": {},
   "outputs": [
    {
     "name": "stdout",
     "output_type": "stream",
     "text": [
      "Evaluating RMSE, MAE of algorithm SVD on 5 split(s).\n",
      "\n",
      "                  Fold 1  Fold 2  Fold 3  Fold 4  Fold 5  Mean    Std     \n",
      "RMSE (testset)    0.8049  0.8053  0.8060  0.8060  0.8045  0.8053  0.0006  \n",
      "MAE (testset)     0.6055  0.6058  0.6062  0.6062  0.6053  0.6058  0.0004  \n",
      "Fit time          1480.00 1518.84 1504.44 1511.25 1503.70 1503.65 13.02   \n",
      "Test time         74.56   72.68   71.40   70.66   70.39   71.94   1.53    \n",
      "{'test_rmse': array([0.80485324, 0.80528395, 0.80599014, 0.80595924, 0.80445027]), 'test_mae': array([0.60554361, 0.60582424, 0.60617726, 0.60623011, 0.60525486]), 'fit_time': (1480.0036962032318, 1518.8396301269531, 1504.4400990009308, 1511.246101140976, 1503.7023973464966), 'test_time': (74.55653715133667, 72.68166875839233, 71.39883756637573, 70.6554582118988, 70.38907980918884)}\n"
     ]
    }
   ],
   "source": [
    "# оценки кросвалидации, т.к. потребляет много памяти в 1 процесс, и сохраним результат\n",
    "try:\n",
    "    with open('cv.pkl',\"rb\") as f:\n",
    "        cv = pickle.load(f)\n",
    "except FileNotFoundError:\n",
    "    svd = SVD(**gs.best_params['rmse'])\n",
    "    cv = cross_validate(svd, df_to_data(df),  measures=['RMSE', 'MAE'], cv=5, verbose=True)\n",
    "    with open('cv.pkl',\"wb\") as f:\n",
    "        pickle.dump(cv,f)\n",
    "    del svd\n",
    "print(cv)"
   ]
  },
  {
   "cell_type": "code",
   "execution_count": 30,
   "metadata": {
    "scrolled": false
   },
   "outputs": [],
   "source": [
    "def fit_svd(df, param, filename):\n",
    "    \"\"\"\n",
    "    загружает обученную модель из фаила, если нет, то обучает и сохраняет\n",
    "    \"\"\"\n",
    "    try:\n",
    "        with open(filename,'rb') as f:\n",
    "            svd = pickle.load(f)\n",
    "    except FileNotFoundError:\n",
    "        train_set = df_to_data(df).build_full_trainset()\n",
    "        svd = SVD(**param)\n",
    "        svd.fit(train_set)\n",
    "        with open(filename,'wb') as f:\n",
    "            pickle.dump(svd,f)\n",
    "    return svd\n"
   ]
  },
  {
   "cell_type": "code",
   "execution_count": 31,
   "metadata": {},
   "outputs": [],
   "source": [
    "svd = fit_svd(df,gs.best_params['rmse'],'svd_full.pkl')"
   ]
  },
  {
   "cell_type": "code",
   "execution_count": 32,
   "metadata": {
    "scrolled": true
   },
   "outputs": [
    {
     "name": "stdout",
     "output_type": "stream",
     "text": [
      "25 has already seen Toy Story (1995)\n",
      "25 has already seen Leaving Las Vegas (1995)\n",
      "25 has already seen Twelve Monkeys (a.k.a. 12 Monkeys) (1995)\n",
      "25 has already seen Mr. Holland's Opus (1995)\n",
      "25 has already seen Juror, The (1996)\n",
      "25 has already seen Birdcage, The (1996)\n",
      "25 has already seen Star Wars: Episode IV - A New Hope (1977)\n",
      "25 has already seen Executive Decision (1996)\n",
      "25 has already seen Primal Fear (1996)\n",
      "25 has already seen Sgt. Bilko (1996)\n",
      "25 has already seen Mission: Impossible (1996)\n",
      "25 has already seen Rock, The (1996)\n",
      "25 has already seen Twister (1996)\n",
      "25 has already seen Independence Day (a.k.a. ID4) (1996)\n",
      "25 has already seen Willy Wonka & the Chocolate Factory (1971)\n",
      "25 has already seen Star Wars: Episode VI - Return of the Jedi (1983)\n",
      "283229 has already seen Star Wars: Episode IV - A New Hope (1977)\n",
      "283230 has already seen Pulp Fiction (1994)\n",
      "283231 has already seen Equilibrium (2017)\n"
     ]
    }
   ],
   "source": [
    "# список интересующих пользователей\n",
    "userIds = [25,283229,283230,283231,283232]\n",
    "\n",
    "def get_predictions(userIds,svd,df):\n",
    "    \"\"\"\n",
    "    Получает предсказания по всем фильмам, кроме просмотренных для пользователей из userIds\n",
    "    \"\"\"\n",
    "    vector = []\n",
    "    for userId in userIds:\n",
    "        movieIds = np.array(df[df['userId']==userId]['movieId'])\n",
    "        for movieId in dict_movie.keys():\n",
    "            if movieId in movieIds:\n",
    "                print(userId,'has already seen',dict_movie[movieId])\n",
    "                continue\n",
    "            vector.append((userId,movieId,svd.default_prediction()))\n",
    "\n",
    "    return svd.test(vector)\n",
    "\n",
    "\n",
    "predictions = get_predictions(userIds,svd,df)"
   ]
  },
  {
   "cell_type": "code",
   "execution_count": 33,
   "metadata": {},
   "outputs": [
    {
     "name": "stdout",
     "output_type": "stream",
     "text": [
      "25 [\"You Don't Know Bo (2012)\", 'Cosmos: A Spacetime Odissey', 'Rumble: The Indians Who Rocked the World (2017)', 'Story of Science, The (2010)', 'Liberation Day (2016)', 'Freedom on My Mind (1994)', 'Forsyte Saga, The (1967)', \"Schindler's List (1993)\", 'Forrest Gump (1994)', 'Shock and Awe: The Story of Electricity (2011)', 'Voices from the List (2004)', 'Inner Worlds, Outer Worlds (2012)', 'Bully for Bugs (1953)', 'Wetlands (2011)', 'The Thorn (1971)', 'Shawshank Redemption, The (1994)', 'Blood Brother (2013)', 'Louis Theroux: Under The Knife (2007)', \"Bi, Don't Be Afraid (2010)\", 'The Moromete Family (1987)']\n",
      "283229 ['Story of Science, The (2010)', 'Liberation Day (2016)', 'The Moromete Family (1987)', 'Freedom on My Mind (1994)', 'Band of Brothers (2001)', 'Inner Worlds, Outer Worlds (2012)', 'Planet Earth II (2016)', 'Frozen North, The (2006)', 'Forsyte Saga, The (1967)', 'Loot (1970)', 'Cosmos: A Spacetime Odissey', 'The Thorn (1971)', 'Earth: The Power of the Planet (2007)', 'Dark Knight, The (2008)', 'Shawshank Redemption, The (1994)', \"Grin Without a Cat, A (Fond de l'air est rouge, Le) (1977)\", 'His Last Vow', 'Lord of the Rings: The Fellowship of the Ring, The (2001)', 'Planet Earth (2006)', 'Cosmos']\n",
      "283230 ['Liberation Day (2016)', 'The Moromete Family (1987)', 'Gangs of Wasseypur (2012)', 'Story of Science, The (2010)', 'Loot (1970)', 'Kaaka Muttai (2015)', 'Cosmos: A Spacetime Odissey', 'Godfather, The (1972)', 'Band of Brothers (2001)', 'Emo Philips Live (1987)', 'Dark Knight, The (2008)', 'Melody (2014)', 'Wow! A Talking Fish! (1983)', 'Who Killed Chea Vichea? (2010)', 'Inner Worlds, Outer Worlds (2012)', 'Along With the Gods: The Last 49 Days (2018)', 'Planet Earth II (2016)', 'Vertical Features Remake (1978)', 'The Alien Saga (2002)', 'My Way Home (Így jöttem) (1965) ']\n",
      "283231 ['Moth, The (Cma) (1980)', 'Frozen North, The (2006)', \"Grin Without a Cat, A (Fond de l'air est rouge, Le) (1977)\", 'Forsyte Saga, The (1967)', 'Story of Science, The (2010)', 'Doggiewoggiez! Poochiewoochiez! (2012)', 'The Good Mother (2013)', 'Antarctica (1983)', 'The Moromete Family (1987)', 'De Vliegende Hollander (1995)', 'A Difficult Life (1961)', 'Dreams with Sharp Teeth (2008)', '9.79* (2012)', \"Jim Henson's The Storyteller (1989)\", 'A Song of Lisbon (1933)', '2 (2007)', \"Bi, Don't Be Afraid (2010)\", 'Taikon (2015)', 'Chico - Artista Brasileiro (2015)', 'The Thorn (1971)']\n",
      "283232 ['Liberation Day (2016)', 'Story of Science, The (2010)', 'Loot (1970)', 'Forsyte Saga, The (1967)', 'Frozen North, The (2006)', 'The Moromete Family (1987)', 'Freedom on My Mind (1994)', 'Along With the Gods: The Last 49 Days (2018)', 'Emo Philips Live (1987)', \"Grin Without a Cat, A (Fond de l'air est rouge, Le) (1977)\", 'De Vliegende Hollander (1995)', 'Inner Worlds, Outer Worlds (2012)', 'Acéphale (1969)', 'Seeing Red: Stories of American Communists (1983)', 'Planet Earth II (2016)', 'Melody (2014)', \"L'ange (1983)\", 'Blood Brother (2013)', 'The Thorn (1971)', 'Avetik (1992)']\n"
     ]
    }
   ],
   "source": [
    "from collections import defaultdict\n",
    "\n",
    "def get_recomendations(predictions, n=10):\n",
    "    \"\"\"\n",
    "    из предсказаний выдаем рекомендации топ n фильмов\n",
    "    \"\"\"\n",
    "    top_n = defaultdict(list)\n",
    "    for uid, iid, true_r, est, _ in predictions:\n",
    "        top_n[uid].append((iid, est))\n",
    "\n",
    "\n",
    "    for uid, user_ratings in top_n.items():\n",
    "        user_ratings.sort(key=lambda x: x[1], reverse=True)\n",
    "        top_n[uid] = user_ratings[:n]\n",
    "\n",
    "    for uid, user_ratings in top_n.items():\n",
    "        print(uid, [dict_movie[iid] for (iid, _) in user_ratings])\n",
    "\n",
    "get_recomendations(predictions, n=20)"
   ]
  },
  {
   "cell_type": "markdown",
   "metadata": {},
   "source": [
    "* 283229 Я отметил Звездные Воины 4. С одной стороны, система могла бы предложить другие части саги. С другой стороны она предлагает в основном фильмы про космос, даже научные. В целом мне рекомендации не нравятся\n",
    "* 283230 В качестве лучшего фильма я отметил за другого пользователя Криминальное чтиво. Однако рекомендации не сильно отличаются от пользователя по умолчанию 283232\n",
    "* 283231 В качестве оценки по худшему фильму был Эквилибриум. так же не сильно отличаются от пользователя по умолчанию"
   ]
  },
  {
   "cell_type": "code",
   "execution_count": 34,
   "metadata": {},
   "outputs": [],
   "source": [
    "del svd # очистим память"
   ]
  },
  {
   "cell_type": "markdown",
   "metadata": {},
   "source": [
    "Поставим еще несколько оценок и посмотрим как изменятся рекомендации"
   ]
  },
  {
   "cell_type": "code",
   "execution_count": 35,
   "metadata": {},
   "outputs": [],
   "source": [
    "data =[\n",
    "    [new_user, 1196, 5.0], # SW5\n",
    "    [new_user, 13, 4.0], # Balto \n",
    "    [new_user, 181463, 3.0], # Эквилиюриум\n",
    "    [new_user, 1198, 4.0], # Raiders of the Lost Ark (Indiana Jones and the Raiders of the Lost Ark) (1981)\n",
    "    [new_user, 1210, 5.0], # SW6\n",
    "    [new_user, 1036, 4.5], # Die Hard (1988)\n",
    "    [new_user, 296, 5.0], # Pulp Fiction (1994)\n",
    "    [new_user, 8371, 4.5], # Chronicles of Riddick, The (2004)\n",
    "    [new_user, 4011, 5.0], # Snatch\n",
    "]\n",
    "df = add_user(df,data)\n",
    "df = opt_mem_df(df)"
   ]
  },
  {
   "cell_type": "code",
   "execution_count": 36,
   "metadata": {},
   "outputs": [],
   "source": [
    "svd = fit_svd(df,gs.best_params['rmse'],'svd_add.pkl')"
   ]
  },
  {
   "cell_type": "code",
   "execution_count": 37,
   "metadata": {},
   "outputs": [
    {
     "name": "stdout",
     "output_type": "stream",
     "text": [
      "283229 has already seen Balto (1995)\n",
      "283229 has already seen Star Wars: Episode IV - A New Hope (1977)\n",
      "283229 has already seen Pulp Fiction (1994)\n",
      "283229 has already seen Die Hard (1988)\n",
      "283229 has already seen Star Wars: Episode V - The Empire Strikes Back (1980)\n",
      "283229 has already seen Raiders of the Lost Ark (Indiana Jones and the Raiders of the Lost Ark) (1981)\n",
      "283229 has already seen Star Wars: Episode VI - Return of the Jedi (1983)\n",
      "283229 has already seen Snatch (2000)\n",
      "283229 has already seen Chronicles of Riddick, The (2004)\n",
      "283229 has already seen Equilibrium (2017)\n",
      "283229 ['Matrix, The (1999)', 'Fight Club (1999)', 'Lord of the Rings: The Fellowship of the Ring, The (2001)', 'Lord of the Rings: The Two Towers, The (2002)', 'Lord of the Rings: The Return of the King, The (2003)', 'Il Mare (Siworae) (2000)', 'Whole Night, A (Toute une nuit) (1982)', 'Shouting Fire: Stories from the Edge of Free Speech (2009)', 'Car Bonus (Autobonus) (2001)', 'Frozen North, The (2006)', \"Grin Without a Cat, A (Fond de l'air est rouge, Le) (1977)\", 'Which Way Is the Front Line From Here?  The Life and Time of Tim Hetherington (2013)', 'Forsyte Saga, The (1967)', 'Emo Philips Live (1987)', 'Story of Science, The (2010)', 'National Theatre Live: Frankenstein (2011)', 'Doggiewoggiez! Poochiewoochiez! (2012)', 'Home Sweet Home (2001)', 'Carriage to Vienna (1966)', 'A Year Along the Abandoned Road']\n"
     ]
    }
   ],
   "source": [
    "userIds=[new_user]\n",
    "predictions = get_predictions(userIds,svd,df)\n",
    "get_recomendations(predictions, n=20)"
   ]
  },
  {
   "cell_type": "code",
   "execution_count": 38,
   "metadata": {},
   "outputs": [],
   "source": [
    "del svd"
   ]
  },
  {
   "cell_type": "markdown",
   "metadata": {},
   "source": [
    "Рекомендации улучшились, в топ вошли Матрица, Бойцовский клуб и Властелин колец, что в общем являются фэнтази или фантастикой, так же к боевикам. Хотя опять таки нет еще трех эпизодов SW. "
   ]
  },
  {
   "cell_type": "code",
   "execution_count": 39,
   "metadata": {},
   "outputs": [],
   "source": []
  }
 ],
 "metadata": {
  "kernelspec": {
   "display_name": "Python 3",
   "language": "python",
   "name": "python3"
  },
  "language_info": {
   "codemirror_mode": {
    "name": "ipython",
    "version": 3
   },
   "file_extension": ".py",
   "mimetype": "text/x-python",
   "name": "python",
   "nbconvert_exporter": "python",
   "pygments_lexer": "ipython3",
   "version": "3.6.7"
  },
  "varInspector": {
   "cols": {
    "lenName": 16,
    "lenType": 16,
    "lenVar": 40
   },
   "kernels_config": {
    "python": {
     "delete_cmd_postfix": "",
     "delete_cmd_prefix": "del ",
     "library": "var_list.py",
     "varRefreshCmd": "print(var_dic_list())"
    },
    "r": {
     "delete_cmd_postfix": ") ",
     "delete_cmd_prefix": "rm(",
     "library": "var_list.r",
     "varRefreshCmd": "cat(var_dic_list()) "
    }
   },
   "position": {
    "height": "328.85px",
    "left": "1246px",
    "right": "170px",
    "top": "119px",
    "width": "504px"
   },
   "types_to_exclude": [
    "module",
    "function",
    "builtin_function_or_method",
    "instance",
    "_Feature"
   ],
   "window_display": false
  }
 },
 "nbformat": 4,
 "nbformat_minor": 2
}
