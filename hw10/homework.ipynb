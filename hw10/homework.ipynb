{
 "cells": [
  {
   "cell_type": "markdown",
   "metadata": {},
   "source": [
    "Прогнозирование временных рядов с помощью RNN\n",
    "\n",
    "Выполнить прогноз продаж по датасету https://raw.githubusercontent.com/jbrownlee/Datasets/master/shampoo.csv\n",
    "\n",
    "Критерии оценки: Ошибка RMSE\n",
    "\n",
    "RMSE ~138 (+-46) "
   ]
  },
  {
   "cell_type": "code",
   "execution_count": 1,
   "metadata": {
    "scrolled": true
   },
   "outputs": [
    {
     "name": "stderr",
     "output_type": "stream",
     "text": [
      "Using TensorFlow backend.\n"
     ]
    }
   ],
   "source": [
    "from numpy.random import seed\n",
    "seed(42) # фиксируем сид\n",
    "\n",
    "import pandas as pd\n",
    "import numpy as np\n",
    "import matplotlib.pyplot as plt\n",
    "\n",
    "from tensorflow import set_random_seed\n",
    "set_random_seed(42) # фиксируем сид\n",
    "import keras "
   ]
  },
  {
   "cell_type": "markdown",
   "metadata": {},
   "source": [
    "Загрузим датасет"
   ]
  },
  {
   "cell_type": "code",
   "execution_count": 2,
   "metadata": {},
   "outputs": [
    {
     "name": "stdout",
     "output_type": "stream",
     "text": [
      "<class 'pandas.core.frame.DataFrame'>\n",
      "RangeIndex: 36 entries, 0 to 35\n",
      "Data columns (total 2 columns):\n",
      "Month    36 non-null object\n",
      "Sales    36 non-null float64\n",
      "dtypes: float64(1), object(1)\n",
      "memory usage: 656.0+ bytes\n"
     ]
    }
   ],
   "source": [
    "df = pd.read_csv('shampoo.csv')\n",
    "df.info()"
   ]
  },
  {
   "cell_type": "code",
   "execution_count": 3,
   "metadata": {},
   "outputs": [
    {
     "data": {
      "text/html": [
       "<div>\n",
       "<style scoped>\n",
       "    .dataframe tbody tr th:only-of-type {\n",
       "        vertical-align: middle;\n",
       "    }\n",
       "\n",
       "    .dataframe tbody tr th {\n",
       "        vertical-align: top;\n",
       "    }\n",
       "\n",
       "    .dataframe thead th {\n",
       "        text-align: right;\n",
       "    }\n",
       "</style>\n",
       "<table border=\"1\" class=\"dataframe\">\n",
       "  <thead>\n",
       "    <tr style=\"text-align: right;\">\n",
       "      <th></th>\n",
       "      <th>Month</th>\n",
       "      <th>Sales</th>\n",
       "    </tr>\n",
       "  </thead>\n",
       "  <tbody>\n",
       "    <tr>\n",
       "      <th>0</th>\n",
       "      <td>1-01</td>\n",
       "      <td>266.0</td>\n",
       "    </tr>\n",
       "    <tr>\n",
       "      <th>1</th>\n",
       "      <td>1-02</td>\n",
       "      <td>145.9</td>\n",
       "    </tr>\n",
       "    <tr>\n",
       "      <th>2</th>\n",
       "      <td>1-03</td>\n",
       "      <td>183.1</td>\n",
       "    </tr>\n",
       "    <tr>\n",
       "      <th>3</th>\n",
       "      <td>1-04</td>\n",
       "      <td>119.3</td>\n",
       "    </tr>\n",
       "    <tr>\n",
       "      <th>4</th>\n",
       "      <td>1-05</td>\n",
       "      <td>180.3</td>\n",
       "    </tr>\n",
       "  </tbody>\n",
       "</table>\n",
       "</div>"
      ],
      "text/plain": [
       "  Month  Sales\n",
       "0  1-01  266.0\n",
       "1  1-02  145.9\n",
       "2  1-03  183.1\n",
       "3  1-04  119.3\n",
       "4  1-05  180.3"
      ]
     },
     "execution_count": 3,
     "metadata": {},
     "output_type": "execute_result"
    }
   ],
   "source": [
    "df.head()"
   ]
  },
  {
   "cell_type": "code",
   "execution_count": 4,
   "metadata": {},
   "outputs": [
    {
     "data": {
      "text/plain": [
       "<matplotlib.axes._subplots.AxesSubplot at 0x271ead63550>"
      ]
     },
     "execution_count": 4,
     "metadata": {},
     "output_type": "execute_result"
    },
    {
     "data": {
      "image/png": "[encoded data removed]",
      "text/plain": [
       "<Figure size 432x288 with 1 Axes>"
      ]
     },
     "metadata": {
      "needs_background": "light"
     },
     "output_type": "display_data"
    }
   ],
   "source": [
    "df['Sales'].plot()"
   ]
  },
  {
   "cell_type": "code",
   "execution_count": 5,
   "metadata": {},
   "outputs": [
    {
     "data": {
      "text/plain": [
       "(119.3, 682.0, (36,))"
      ]
     },
     "execution_count": 5,
     "metadata": {},
     "output_type": "execute_result"
    }
   ],
   "source": [
    "data = np.array(df['Sales'].values)\n",
    "# tr_data = data.copy()\n",
    "# tr_data -= data.mean()\n",
    "# tr_data /= data.std()\n",
    "data.min(), data.max(), data.shape"
   ]
  },
  {
   "cell_type": "code",
   "execution_count": 6,
   "metadata": {},
   "outputs": [
    {
     "data": {
      "text/plain": [
       "36"
      ]
     },
     "execution_count": 6,
     "metadata": {},
     "output_type": "execute_result"
    }
   ],
   "source": [
    "data.size"
   ]
  },
  {
   "cell_type": "code",
   "execution_count": 7,
   "metadata": {},
   "outputs": [
    {
     "data": {
      "text/plain": [
       "((33, 3), (33,))"
      ]
     },
     "execution_count": 7,
     "metadata": {},
     "output_type": "execute_result"
    }
   ],
   "source": [
    "def get_xy(data,month_pred = 3):\n",
    "    \"\"\"\n",
    "    функция принимает временной ряд и по какому числу месяцев делать предсказание.\n",
    "    Возвращает данные за предыдущие month_pred в качестве х и следущий месяц в качестве у\n",
    "    \"\"\"\n",
    "    X = []\n",
    "    y = []\n",
    "\n",
    "    for i in range(data.size-month_pred):\n",
    "        X_el = np.zeros(month_pred)\n",
    "        for j in range(month_pred):\n",
    "            X_el[j]=data[i+j]\n",
    "        X.append(X_el)\n",
    "        y.append(data[i+month_pred])\n",
    "\n",
    "    X = np.array(X)\n",
    "    y = np.array(y)\n",
    "    return X,y\n",
    "\n",
    "month_pred = 3\n",
    "X, y =get_xy(data,month_pred)\n",
    "X.shape, y.shape"
   ]
  },
  {
   "cell_type": "markdown",
   "metadata": {},
   "source": [
    "Разделим выборки"
   ]
  },
  {
   "cell_type": "code",
   "execution_count": 8,
   "metadata": {},
   "outputs": [
    {
     "data": {
      "text/plain": [
       "((21, 3), (11, 3))"
      ]
     },
     "execution_count": 8,
     "metadata": {},
     "output_type": "execute_result"
    }
   ],
   "source": [
    "from sklearn.model_selection import train_test_split\n",
    "\n",
    "# X_train, X_test, y_train, y_test = train_test_split(X, y, test_size=0.33, random_state=42)\n",
    "\n",
    "X_train = X[:21,:] \n",
    "X_test = X[22:,:]\n",
    "y_train = y[:21]\n",
    "y_test = y[22:]\n",
    "\n",
    "X_train.shape, X_test.shape"
   ]
  },
  {
   "cell_type": "markdown",
   "metadata": {},
   "source": [
    "В качестве базовой модели возьмем значение следущего месяца за текущий"
   ]
  },
  {
   "cell_type": "code",
   "execution_count": 9,
   "metadata": {},
   "outputs": [
    {
     "data": {
      "text/plain": [
       "109.29952452140887"
      ]
     },
     "execution_count": 9,
     "metadata": {},
     "output_type": "execute_result"
    }
   ],
   "source": [
    "def rmse(y_pred,y_true):\n",
    "    return np.sqrt(np.mean((y_true-y_pred)**2))\n",
    "\n",
    "rmse(X[:,-1],y)"
   ]
  },
  {
   "cell_type": "markdown",
   "metadata": {},
   "source": [
    "небольшая ошибка, относительно дз RMSE ~138 (+-46) "
   ]
  },
  {
   "cell_type": "markdown",
   "metadata": {},
   "source": [
    "Попробую для интереса обычную НС"
   ]
  },
  {
   "cell_type": "code",
   "execution_count": 10,
   "metadata": {},
   "outputs": [
    {
     "name": "stdout",
     "output_type": "stream",
     "text": [
      "_________________________________________________________________\n",
      "Layer (type)                 Output Shape              Param #   \n",
      "=================================================================\n",
      "dense_1 (Dense)              (None, 32)                128       \n",
      "_________________________________________________________________\n",
      "dropout_1 (Dropout)          (None, 32)                0         \n",
      "_________________________________________________________________\n",
      "dense_2 (Dense)              (None, 1)                 33        \n",
      "=================================================================\n",
      "Total params: 161\n",
      "Trainable params: 161\n",
      "Non-trainable params: 0\n",
      "_________________________________________________________________\n",
      "None\n"
     ]
    },
    {
     "name": "stderr",
     "output_type": "stream",
     "text": [
      "C:\\ProgramData\\Anaconda3\\envs\\DS 3\\lib\\site-packages\\ipykernel_launcher.py:19: UserWarning: The `nb_epoch` argument in `fit` has been renamed `epochs`.\n"
     ]
    },
    {
     "name": "stdout",
     "output_type": "stream",
     "text": [
      "Train on 14 samples, validate on 7 samples\n",
      "Epoch 1/100\n",
      "14/14 [==============================] - 1s 68ms/step - loss: 97.1715 - val_loss: 151.2211\n",
      "Epoch 2/100\n",
      "14/14 [==============================] - 0s 643us/step - loss: 102.5205 - val_loss: 145.3227\n",
      "Epoch 3/100\n",
      "14/14 [==============================] - 0s 500us/step - loss: 101.5389 - val_loss: 139.1244\n",
      "Epoch 4/100\n",
      "14/14 [==============================] - 0s 643us/step - loss: 110.4906 - val_loss: 132.6239\n",
      "Epoch 5/100\n",
      "14/14 [==============================] - 0s 643us/step - loss: 72.7126 - val_loss: 126.5522\n",
      "Epoch 6/100\n",
      "14/14 [==============================] - 0s 500us/step - loss: 94.0046 - val_loss: 120.4413\n",
      "Epoch 7/100\n",
      "14/14 [==============================] - 0s 572us/step - loss: 93.9459 - val_loss: 114.2216\n",
      "Epoch 8/100\n",
      "14/14 [==============================] - 0s 500us/step - loss: 90.0746 - val_loss: 107.9614\n",
      "Epoch 9/100\n",
      "14/14 [==============================] - 0s 572us/step - loss: 68.9912 - val_loss: 101.8343\n",
      "Epoch 10/100\n",
      "14/14 [==============================] - 0s 500us/step - loss: 105.1455 - val_loss: 95.4609\n",
      "Epoch 11/100\n",
      "14/14 [==============================] - 0s 572us/step - loss: 78.6293 - val_loss: 89.5951\n",
      "Epoch 12/100\n",
      "14/14 [==============================] - 0s 500us/step - loss: 89.1838 - val_loss: 85.1160\n",
      "Epoch 13/100\n",
      "14/14 [==============================] - 0s 714us/step - loss: 83.4695 - val_loss: 81.2090\n",
      "Epoch 14/100\n",
      "14/14 [==============================] - 0s 571us/step - loss: 78.5541 - val_loss: 78.1584\n",
      "Epoch 15/100\n",
      "14/14 [==============================] - 0s 643us/step - loss: 80.8197 - val_loss: 75.7207\n",
      "Epoch 16/100\n",
      "14/14 [==============================] - 0s 643us/step - loss: 74.3422 - val_loss: 73.5830\n",
      "Epoch 17/100\n",
      "14/14 [==============================] - 0s 571us/step - loss: 68.2176 - val_loss: 71.9109\n",
      "Epoch 18/100\n",
      "14/14 [==============================] - 0s 571us/step - loss: 49.6820 - val_loss: 70.7080\n",
      "Epoch 19/100\n",
      "14/14 [==============================] - 0s 571us/step - loss: 82.3137 - val_loss: 69.5009\n",
      "Epoch 20/100\n",
      "14/14 [==============================] - 0s 500us/step - loss: 66.6237 - val_loss: 68.2462\n",
      "Epoch 21/100\n",
      "14/14 [==============================] - 0s 571us/step - loss: 81.4905 - val_loss: 67.3100\n",
      "Epoch 22/100\n",
      "14/14 [==============================] - 0s 643us/step - loss: 85.3438 - val_loss: 66.8744\n",
      "Epoch 23/100\n",
      "14/14 [==============================] - 0s 643us/step - loss: 52.6792 - val_loss: 66.2079\n",
      "Epoch 24/100\n",
      "14/14 [==============================] - 0s 500us/step - loss: 69.5412 - val_loss: 65.6815\n",
      "Epoch 25/100\n",
      "14/14 [==============================] - 0s 571us/step - loss: 66.0814 - val_loss: 65.1280\n",
      "Epoch 26/100\n",
      "14/14 [==============================] - 0s 500us/step - loss: 64.1115 - val_loss: 64.5682\n",
      "Epoch 27/100\n",
      "14/14 [==============================] - 0s 643us/step - loss: 63.3573 - val_loss: 63.5073\n",
      "Epoch 28/100\n",
      "14/14 [==============================] - 0s 572us/step - loss: 79.9460 - val_loss: 62.5659\n",
      "Epoch 29/100\n",
      "14/14 [==============================] - 0s 500us/step - loss: 81.3451 - val_loss: 61.7972\n",
      "Epoch 30/100\n",
      "14/14 [==============================] - 0s 500us/step - loss: 71.8532 - val_loss: 61.1709\n",
      "Epoch 31/100\n",
      "14/14 [==============================] - 0s 571us/step - loss: 61.0663 - val_loss: 60.4094\n",
      "Epoch 32/100\n",
      "14/14 [==============================] - 0s 643us/step - loss: 63.0235 - val_loss: 60.0394\n",
      "Epoch 33/100\n",
      "14/14 [==============================] - 0s 643us/step - loss: 91.8294 - val_loss: 60.0074\n",
      "Epoch 34/100\n",
      "14/14 [==============================] - 0s 571us/step - loss: 63.2064 - val_loss: 60.6355\n",
      "Epoch 35/100\n",
      "14/14 [==============================] - 0s 571us/step - loss: 65.8835 - val_loss: 61.6086\n",
      "Epoch 36/100\n",
      "14/14 [==============================] - 0s 643us/step - loss: 56.9147 - val_loss: 62.5951\n",
      "Epoch 37/100\n",
      "14/14 [==============================] - 0s 571us/step - loss: 70.6007 - val_loss: 63.4875\n",
      "Epoch 38/100\n",
      "14/14 [==============================] - 0s 500us/step - loss: 68.5018 - val_loss: 63.8603\n",
      "Epoch 39/100\n",
      "14/14 [==============================] - 0s 571us/step - loss: 73.9498 - val_loss: 63.8842\n",
      "Epoch 40/100\n",
      "14/14 [==============================] - 0s 500us/step - loss: 80.5107 - val_loss: 63.7376\n",
      "Epoch 41/100\n",
      "14/14 [==============================] - 0s 500us/step - loss: 79.6411 - val_loss: 63.7724\n",
      "Epoch 42/100\n",
      "14/14 [==============================] - 0s 571us/step - loss: 63.7019 - val_loss: 63.7624\n",
      "Epoch 43/100\n",
      "14/14 [==============================] - 0s 571us/step - loss: 72.9714 - val_loss: 63.6207\n",
      "Epoch 44/100\n",
      "14/14 [==============================] - 0s 500us/step - loss: 87.6126 - val_loss: 63.6814\n",
      "Epoch 45/100\n",
      "14/14 [==============================] - 0s 500us/step - loss: 66.9687 - val_loss: 63.6503\n",
      "Epoch 46/100\n",
      "14/14 [==============================] - 0s 572us/step - loss: 63.0754 - val_loss: 63.7070\n",
      "Epoch 47/100\n",
      "14/14 [==============================] - 0s 500us/step - loss: 68.6571 - val_loss: 63.9801\n",
      "Epoch 48/100\n",
      "14/14 [==============================] - 0s 500us/step - loss: 55.0841 - val_loss: 64.0826\n",
      "Epoch 49/100\n",
      "14/14 [==============================] - 0s 643us/step - loss: 58.6264 - val_loss: 63.2116\n",
      "Epoch 50/100\n",
      "14/14 [==============================] - 0s 571us/step - loss: 63.2229 - val_loss: 62.3019\n",
      "Epoch 51/100\n",
      "14/14 [==============================] - 0s 571us/step - loss: 81.5658 - val_loss: 61.7981\n",
      "Epoch 52/100\n",
      "14/14 [==============================] - 0s 500us/step - loss: 94.5802 - val_loss: 61.9641\n",
      "Epoch 53/100\n",
      "14/14 [==============================] - 0s 571us/step - loss: 80.7887 - val_loss: 62.0910\n",
      "Epoch 54/100\n",
      "14/14 [==============================] - 0s 429us/step - loss: 74.4754 - val_loss: 61.7801\n",
      "Epoch 55/100\n",
      "14/14 [==============================] - 0s 571us/step - loss: 66.7666 - val_loss: 61.4684\n",
      "Epoch 56/100\n",
      "14/14 [==============================] - 0s 500us/step - loss: 74.7168 - val_loss: 61.1303\n",
      "Epoch 57/100\n",
      "14/14 [==============================] - 0s 571us/step - loss: 75.6100 - val_loss: 61.0940\n",
      "Epoch 58/100\n",
      "14/14 [==============================] - 0s 572us/step - loss: 78.9191 - val_loss: 60.9931\n",
      "Epoch 59/100\n",
      "14/14 [==============================] - 0s 643us/step - loss: 64.6480 - val_loss: 60.6735\n",
      "Epoch 60/100\n",
      "14/14 [==============================] - 0s 643us/step - loss: 65.8929 - val_loss: 60.4296\n",
      "Epoch 61/100\n",
      "14/14 [==============================] - 0s 571us/step - loss: 75.1974 - val_loss: 60.9888\n",
      "Epoch 62/100\n",
      "14/14 [==============================] - 0s 643us/step - loss: 86.9784 - val_loss: 61.3689\n",
      "Epoch 63/100\n",
      "14/14 [==============================] - 0s 571us/step - loss: 82.2542 - val_loss: 61.7889\n",
      "Epoch 64/100\n",
      "14/14 [==============================] - 0s 571us/step - loss: 50.1286 - val_loss: 61.2497\n",
      "Epoch 65/100\n",
      "14/14 [==============================] - 0s 571us/step - loss: 49.1402 - val_loss: 60.5170\n",
      "Epoch 66/100\n",
      "14/14 [==============================] - 0s 571us/step - loss: 80.8297 - val_loss: 59.8883\n",
      "Epoch 67/100\n",
      "14/14 [==============================] - 0s 643us/step - loss: 63.8116 - val_loss: 59.7495\n",
      "Epoch 68/100\n",
      "14/14 [==============================] - 0s 572us/step - loss: 49.3162 - val_loss: 59.2541\n",
      "Epoch 69/100\n",
      "14/14 [==============================] - 0s 571us/step - loss: 78.5024 - val_loss: 59.1498\n",
      "Epoch 70/100\n",
      "14/14 [==============================] - 0s 572us/step - loss: 72.9116 - val_loss: 58.8866\n",
      "Epoch 71/100\n",
      "14/14 [==============================] - 0s 500us/step - loss: 47.7601 - val_loss: 58.7764\n",
      "Epoch 72/100\n",
      "14/14 [==============================] - 0s 572us/step - loss: 51.0653 - val_loss: 58.3847\n",
      "Epoch 73/100\n",
      "14/14 [==============================] - 0s 500us/step - loss: 71.2732 - val_loss: 58.1765\n",
      "Epoch 74/100\n",
      "14/14 [==============================] - 0s 643us/step - loss: 76.8949 - val_loss: 57.7519\n",
      "Epoch 75/100\n",
      "14/14 [==============================] - 0s 500us/step - loss: 66.4661 - val_loss: 57.8708\n",
      "Epoch 76/100\n",
      "14/14 [==============================] - 0s 571us/step - loss: 81.7391 - val_loss: 57.5757\n",
      "Epoch 77/100\n",
      "14/14 [==============================] - 0s 500us/step - loss: 63.9217 - val_loss: 57.1170\n",
      "Epoch 78/100\n",
      "14/14 [==============================] - 0s 500us/step - loss: 76.8977 - val_loss: 57.2265\n",
      "Epoch 79/100\n",
      "14/14 [==============================] - 0s 500us/step - loss: 79.8329 - val_loss: 57.8985\n",
      "Epoch 80/100\n",
      "14/14 [==============================] - 0s 643us/step - loss: 53.0788 - val_loss: 58.3764\n",
      "Epoch 81/100\n",
      "14/14 [==============================] - 0s 500us/step - loss: 78.8557 - val_loss: 58.6332\n",
      "Epoch 82/100\n",
      "14/14 [==============================] - 0s 500us/step - loss: 83.0548 - val_loss: 58.7610\n",
      "Epoch 83/100\n",
      "14/14 [==============================] - 0s 571us/step - loss: 75.7798 - val_loss: 59.2213\n",
      "Epoch 84/100\n",
      "14/14 [==============================] - 0s 571us/step - loss: 77.4540 - val_loss: 59.0725\n",
      "Epoch 85/100\n",
      "14/14 [==============================] - 0s 572us/step - loss: 81.2735 - val_loss: 58.6554\n",
      "Epoch 86/100\n",
      "14/14 [==============================] - 0s 571us/step - loss: 79.3531 - val_loss: 58.7528\n",
      "Epoch 87/100\n",
      "14/14 [==============================] - 0s 500us/step - loss: 66.0003 - val_loss: 58.7596\n",
      "Epoch 88/100\n",
      "14/14 [==============================] - 0s 571us/step - loss: 85.1339 - val_loss: 58.9497\n",
      "Epoch 89/100\n",
      "14/14 [==============================] - 0s 429us/step - loss: 66.9611 - val_loss: 59.2447\n",
      "Epoch 90/100\n",
      "14/14 [==============================] - 0s 571us/step - loss: 82.3025 - val_loss: 59.3991\n",
      "Epoch 91/100\n",
      "14/14 [==============================] - 0s 500us/step - loss: 57.2213 - val_loss: 59.4728\n",
      "Epoch 92/100\n",
      "14/14 [==============================] - 0s 643us/step - loss: 62.5191 - val_loss: 58.9541\n",
      "Epoch 93/100\n",
      "14/14 [==============================] - 0s 500us/step - loss: 88.3410 - val_loss: 58.8588\n",
      "Epoch 94/100\n",
      "14/14 [==============================] - 0s 572us/step - loss: 80.7419 - val_loss: 58.2937\n",
      "Epoch 95/100\n",
      "14/14 [==============================] - 0s 428us/step - loss: 71.0151 - val_loss: 57.8682\n",
      "Epoch 96/100\n",
      "14/14 [==============================] - 0s 643us/step - loss: 48.9153 - val_loss: 57.2909\n",
      "Epoch 97/100\n",
      "14/14 [==============================] - 0s 500us/step - loss: 69.0177 - val_loss: 56.4049\n",
      "Epoch 98/100\n",
      "14/14 [==============================] - 0s 572us/step - loss: 78.2158 - val_loss: 55.6433\n",
      "Epoch 99/100\n",
      "14/14 [==============================] - 0s 500us/step - loss: 63.2491 - val_loss: 55.1718\n",
      "Epoch 100/100\n",
      "14/14 [==============================] - 0s 572us/step - loss: 56.1572 - val_loss: 55.1284\n"
     ]
    }
   ],
   "source": [
    "from keras.models import Sequential, Model\n",
    "from keras.layers import Input, Dense, Dropout\n",
    "from keras.optimizers import Adam\n",
    "import keras.backend as K\n",
    "\n",
    "def root_mean_squared_error(y_true, y_pred):\n",
    "        return K.sqrt(K.mean(K.square(y_pred - y_true), axis=-1)) \n",
    "\n",
    "model = Sequential()\n",
    "model.add(Dense(32, input_shape=(month_pred,), activation='relu'))\n",
    "model.add(Dropout(0.25))\n",
    "model.add(Dense(1, activation='linear'))\n",
    "\n",
    "print(model.summary())\n",
    "\n",
    "model.compile(optimizer=Adam(), loss=root_mean_squared_error)\n",
    "history = model.fit(X_train, y_train,\n",
    "          batch_size=10, nb_epoch=100,\n",
    "          verbose=1, validation_split=0.3)"
   ]
  },
  {
   "cell_type": "code",
   "execution_count": 11,
   "metadata": {},
   "outputs": [],
   "source": [
    "import matplotlib.pyplot as plt\n",
    "\n",
    "def plot_loss(history):\n",
    "    \"\"\"\n",
    "    строит график loss\n",
    "    \"\"\"\n",
    "    plt.plot(history.history['loss'])\n",
    "    plt.plot(history.history['val_loss'])\n",
    "    plt.title('model loss')\n",
    "    plt.ylabel('loss')\n",
    "    plt.xlabel('epoch')\n",
    "    plt.legend(['train', 'test'], loc='upper left')\n",
    "    plt.show()"
   ]
  },
  {
   "cell_type": "code",
   "execution_count": 12,
   "metadata": {},
   "outputs": [
    {
     "data": {
      "image/png": "[encoded data removed]",
      "text/plain": [
       "<Figure size 432x288 with 1 Axes>"
      ]
     },
     "metadata": {
      "needs_background": "light"
     },
     "output_type": "display_data"
    }
   ],
   "source": [
    "plot_loss(history)"
   ]
  },
  {
   "cell_type": "code",
   "execution_count": 13,
   "metadata": {
    "scrolled": true
   },
   "outputs": [
    {
     "name": "stdout",
     "output_type": "stream",
     "text": [
      "\r",
      "11/11 [==============================] - 0s 362us/step\n"
     ]
    },
    {
     "data": {
      "text/plain": [
       "86.95880889892578"
      ]
     },
     "execution_count": 13,
     "metadata": {},
     "output_type": "execute_result"
    }
   ],
   "source": [
    "model.evaluate(X_test, y_test, verbose=1)"
   ]
  },
  {
   "cell_type": "code",
   "execution_count": 14,
   "metadata": {},
   "outputs": [
    {
     "data": {
      "text/plain": [
       "[(array([306.70557], dtype=float32), 440.4),\n",
       " (array([346.6344], dtype=float32), 315.9),\n",
       " (array([364.51035], dtype=float32), 439.3),\n",
       " (array([355.21582], dtype=float32), 401.3),\n",
       " (array([380.041], dtype=float32), 437.4),\n",
       " (array([396.19345], dtype=float32), 575.5),\n",
       " (array([440.1183], dtype=float32), 407.6),\n",
       " (array([473.86337], dtype=float32), 682.0),\n",
       " (array([493.77005], dtype=float32), 475.3),\n",
       " (array([539.1848], dtype=float32), 581.3),\n",
       " (array([513.5615], dtype=float32), 646.9)]"
      ]
     },
     "execution_count": 14,
     "metadata": {},
     "output_type": "execute_result"
    }
   ],
   "source": [
    "y_pred = model.predict(X_test)\n",
    "list(zip(y_pred, y_test))"
   ]
  },
  {
   "cell_type": "markdown",
   "metadata": {},
   "source": [
    "Модель не переобучается, и результаты чуть лучше базовой (Линейная регрессия?=) )"
   ]
  },
  {
   "cell_type": "code",
   "execution_count": 15,
   "metadata": {},
   "outputs": [
    {
     "data": {
      "text/plain": [
       "((22, 4), (9, 4))"
      ]
     },
     "execution_count": 15,
     "metadata": {},
     "output_type": "execute_result"
    }
   ],
   "source": [
    "from sklearn.preprocessing import MinMaxScaler\n",
    "\n",
    "# normalize the dataset\n",
    "scaler = MinMaxScaler(feature_range=(0, 1))\n",
    "month_pred = 4\n",
    "tr_data = data.copy()\n",
    "\n",
    "tr_data = scaler.fit_transform(tr_data.reshape(-1,1))\n",
    "X, y = get_xy(tr_data,month_pred)\n",
    "# X_train, X_test, y_train, y_test = train_test_split(X, y, test_size=0.33, random_state=42)\n",
    "size = int(X.shape[0]*0.7)\n",
    "X_train = X[:size,:] \n",
    "X_test = X[size+1:,:]\n",
    "y_train = y[:size]\n",
    "y_test = y[size+1:]\n",
    "X_train.shape, X_test.shape"
   ]
  },
  {
   "cell_type": "code",
   "execution_count": 16,
   "metadata": {},
   "outputs": [
    {
     "data": {
      "text/plain": [
       "(array([[0.16136485],\n",
       "        [0.08743558],\n",
       "        [0.18962147],\n",
       "        [0.57064155],\n",
       "        [0.19992891],\n",
       "        [0.12813222],\n",
       "        [0.13062022],\n",
       "        [0.05366981],\n",
       "        [0.25804159],\n",
       "        [0.32752799],\n",
       "        [0.11835792],\n",
       "        [0.27368047],\n",
       "        [0.29802737],\n",
       "        [0.00639773],\n",
       "        [0.18695575],\n",
       "        [0.1084059 ],\n",
       "        [0.13328594],\n",
       "        [0.39630354],\n",
       "        [0.38599609],\n",
       "        [0.30318109],\n",
       "        [0.39168296],\n",
       "        [0.53723121]]),\n",
       " array([10,  1, 14, 21,  2, 12,  4,  9, 18, 15,  7, 11, 13,  5,  3,  0,  8,\n",
       "        19,  6, 16, 20, 17]))"
      ]
     },
     "execution_count": 16,
     "metadata": {},
     "output_type": "execute_result"
    }
   ],
   "source": [
    "# перемешаем обучающую выборку, чтобы снизить переобучение у RNN\n",
    "indeces = np.arange(y_train.size)\n",
    "np.random.shuffle(indeces)\n",
    "X_train = X_train[indeces,:]\n",
    "y_train = y_train[indeces]\n",
    "# y_train, indeces"
   ]
  },
  {
   "cell_type": "code",
   "execution_count": 17,
   "metadata": {},
   "outputs": [
    {
     "data": {
      "text/plain": [
       "((22, 1, 4), (22,))"
      ]
     },
     "execution_count": 17,
     "metadata": {},
     "output_type": "execute_result"
    }
   ],
   "source": [
    "# reshape input to be [samples, time steps, features]\n",
    "trainX = np.reshape(X_train, (X_train.shape[0], 1, X_train.shape[1]))\n",
    "testX = np.reshape(X_test, (X_test.shape[0], 1, X_test.shape[1]))\n",
    "y_train = y_train.reshape(y_train.size,)\n",
    "y_test = y_test.reshape(y_test.size,)\n",
    "trainX.shape, y_train.shape"
   ]
  },
  {
   "cell_type": "code",
   "execution_count": 19,
   "metadata": {},
   "outputs": [
    {
     "name": "stdout",
     "output_type": "stream",
     "text": [
      "_________________________________________________________________\n",
      "Layer (type)                 Output Shape              Param #   \n",
      "=================================================================\n",
      "gru_1 (GRU)                  (None, None, 128)         51072     \n",
      "_________________________________________________________________\n",
      "dropout_2 (Dropout)          (None, None, 128)         0         \n",
      "_________________________________________________________________\n",
      "gru_2 (GRU)                  (None, 128)               98688     \n",
      "_________________________________________________________________\n",
      "dropout_3 (Dropout)          (None, 128)               0         \n",
      "_________________________________________________________________\n",
      "dense_3 (Dense)              (None, 1)                 129       \n",
      "=================================================================\n",
      "Total params: 149,889\n",
      "Trainable params: 149,889\n",
      "Non-trainable params: 0\n",
      "_________________________________________________________________\n",
      "None\n"
     ]
    },
    {
     "name": "stderr",
     "output_type": "stream",
     "text": [
      "C:\\ProgramData\\Anaconda3\\envs\\DS 3\\lib\\site-packages\\ipykernel_launcher.py:23: UserWarning: The `nb_epoch` argument in `fit` has been renamed `epochs`.\n"
     ]
    },
    {
     "name": "stdout",
     "output_type": "stream",
     "text": [
      "Train on 15 samples, validate on 7 samples\n",
      "Epoch 1/100\n",
      "15/15 [==============================] - 1s 70ms/step - loss: 0.1744 - val_loss: 0.2266\n",
      "Epoch 2/100\n",
      "15/15 [==============================] - 0s 999us/step - loss: 0.1190 - val_loss: 0.1825\n",
      "Epoch 3/100\n",
      "15/15 [==============================] - 0s 1ms/step - loss: 0.0888 - val_loss: 0.1647\n",
      "Epoch 4/100\n",
      "15/15 [==============================] - 0s 1ms/step - loss: 0.1088 - val_loss: 0.1439\n",
      "Epoch 5/100\n",
      "15/15 [==============================] - 0s 1ms/step - loss: 0.0913 - val_loss: 0.1541\n",
      "Epoch 6/100\n",
      "15/15 [==============================] - 0s 1ms/step - loss: 0.0969 - val_loss: 0.1438\n",
      "Epoch 7/100\n",
      "15/15 [==============================] - 0s 1000us/step - loss: 0.1040 - val_loss: 0.1391\n",
      "Epoch 8/100\n",
      "15/15 [==============================] - 0s 1000us/step - loss: 0.1013 - val_loss: 0.1458\n",
      "Epoch 9/100\n",
      "15/15 [==============================] - 0s 1ms/step - loss: 0.1048 - val_loss: 0.1485\n",
      "Epoch 10/100\n",
      "15/15 [==============================] - 0s 1ms/step - loss: 0.0984 - val_loss: 0.1479\n",
      "Epoch 11/100\n",
      "15/15 [==============================] - 0s 1ms/step - loss: 0.0721 - val_loss: 0.1440\n",
      "Epoch 12/100\n",
      "15/15 [==============================] - 0s 1ms/step - loss: 0.0930 - val_loss: 0.1380\n",
      "Epoch 13/100\n",
      "15/15 [==============================] - 0s 1ms/step - loss: 0.0890 - val_loss: 0.1377\n",
      "Epoch 14/100\n",
      "15/15 [==============================] - 0s 1ms/step - loss: 0.0889 - val_loss: 0.1348\n",
      "Epoch 15/100\n",
      "15/15 [==============================] - 0s 1ms/step - loss: 0.0893 - val_loss: 0.1336\n",
      "Epoch 16/100\n",
      "15/15 [==============================] - 0s 1ms/step - loss: 0.0998 - val_loss: 0.1482\n",
      "Epoch 17/100\n",
      "15/15 [==============================] - 0s 1ms/step - loss: 0.0852 - val_loss: 0.1430\n",
      "Epoch 18/100\n",
      "15/15 [==============================] - 0s 1ms/step - loss: 0.0948 - val_loss: 0.1380\n",
      "Epoch 19/100\n",
      "15/15 [==============================] - 0s 1ms/step - loss: 0.0817 - val_loss: 0.1421\n",
      "Epoch 20/100\n",
      "15/15 [==============================] - 0s 1ms/step - loss: 0.1032 - val_loss: 0.1373\n",
      "Epoch 21/100\n",
      "15/15 [==============================] - 0s 1ms/step - loss: 0.0871 - val_loss: 0.1316\n",
      "Epoch 22/100\n",
      "15/15 [==============================] - 0s 1ms/step - loss: 0.0862 - val_loss: 0.1373\n",
      "Epoch 23/100\n",
      "15/15 [==============================] - 0s 1ms/step - loss: 0.0978 - val_loss: 0.1442\n",
      "Epoch 24/100\n",
      "15/15 [==============================] - 0s 1ms/step - loss: 0.0857 - val_loss: 0.1453\n",
      "Epoch 25/100\n",
      "15/15 [==============================] - 0s 1ms/step - loss: 0.0763 - val_loss: 0.1441\n",
      "Epoch 26/100\n",
      "15/15 [==============================] - ETA: 0s - loss: 0.083 - 0s 1000us/step - loss: 0.0911 - val_loss: 0.1390\n",
      "Epoch 27/100\n",
      "15/15 [==============================] - 0s 1ms/step - loss: 0.0969 - val_loss: 0.1438\n",
      "Epoch 28/100\n",
      "15/15 [==============================] - 0s 1ms/step - loss: 0.0982 - val_loss: 0.1485\n",
      "Epoch 29/100\n",
      "15/15 [==============================] - 0s 933us/step - loss: 0.0868 - val_loss: 0.1418\n",
      "Epoch 30/100\n",
      "15/15 [==============================] - 0s 933us/step - loss: 0.0816 - val_loss: 0.1414\n",
      "Epoch 31/100\n",
      "15/15 [==============================] - 0s 1ms/step - loss: 0.0864 - val_loss: 0.1454\n",
      "Epoch 32/100\n",
      "15/15 [==============================] - 0s 1ms/step - loss: 0.0685 - val_loss: 0.1424\n",
      "Epoch 33/100\n",
      "15/15 [==============================] - 0s 1ms/step - loss: 0.0945 - val_loss: 0.1476\n",
      "Epoch 34/100\n",
      "15/15 [==============================] - 0s 1ms/step - loss: 0.0828 - val_loss: 0.1539\n",
      "Epoch 35/100\n",
      "15/15 [==============================] - 0s 1ms/step - loss: 0.1053 - val_loss: 0.1538\n",
      "Epoch 36/100\n",
      "15/15 [==============================] - 0s 1ms/step - loss: 0.0862 - val_loss: 0.1532\n",
      "Epoch 37/100\n",
      "15/15 [==============================] - 0s 1ms/step - loss: 0.0743 - val_loss: 0.1543\n",
      "Epoch 38/100\n",
      "15/15 [==============================] - 0s 1ms/step - loss: 0.0953 - val_loss: 0.1519\n",
      "Epoch 39/100\n",
      "15/15 [==============================] - 0s 1ms/step - loss: 0.0987 - val_loss: 0.1440\n",
      "Epoch 40/100\n",
      "15/15 [==============================] - 0s 1ms/step - loss: 0.0931 - val_loss: 0.1388\n",
      "Epoch 41/100\n",
      "15/15 [==============================] - 0s 1ms/step - loss: 0.0935 - val_loss: 0.1506\n",
      "Epoch 42/100\n",
      "15/15 [==============================] - 0s 1ms/step - loss: 0.0852 - val_loss: 0.1442\n",
      "Epoch 43/100\n",
      "15/15 [==============================] - 0s 1ms/step - loss: 0.0838 - val_loss: 0.1367\n",
      "Epoch 44/100\n",
      "15/15 [==============================] - 0s 1ms/step - loss: 0.0865 - val_loss: 0.1383\n",
      "Epoch 45/100\n",
      "15/15 [==============================] - 0s 1ms/step - loss: 0.0927 - val_loss: 0.1399\n",
      "Epoch 46/100\n",
      "15/15 [==============================] - 0s 1ms/step - loss: 0.0923 - val_loss: 0.1435\n",
      "Epoch 47/100\n",
      "15/15 [==============================] - 0s 1ms/step - loss: 0.0674 - val_loss: 0.1411\n",
      "Epoch 48/100\n",
      "15/15 [==============================] - 0s 1ms/step - loss: 0.0750 - val_loss: 0.1385\n",
      "Epoch 49/100\n",
      "15/15 [==============================] - 0s 1ms/step - loss: 0.0900 - val_loss: 0.1466\n",
      "Epoch 50/100\n",
      "15/15 [==============================] - 0s 933us/step - loss: 0.0858 - val_loss: 0.1416\n",
      "Epoch 51/100\n",
      "15/15 [==============================] - 0s 1ms/step - loss: 0.0984 - val_loss: 0.1465\n",
      "Epoch 52/100\n",
      "15/15 [==============================] - 0s 1ms/step - loss: 0.0721 - val_loss: 0.1330\n",
      "Epoch 53/100\n",
      "15/15 [==============================] - 0s 1ms/step - loss: 0.0741 - val_loss: 0.1441\n",
      "Epoch 54/100\n",
      "15/15 [==============================] - 0s 1ms/step - loss: 0.0746 - val_loss: 0.1413\n",
      "Epoch 55/100\n",
      "15/15 [==============================] - 0s 1ms/step - loss: 0.0609 - val_loss: 0.1409\n",
      "Epoch 56/100\n",
      "15/15 [==============================] - 0s 1000us/step - loss: 0.0975 - val_loss: 0.1426\n",
      "Epoch 57/100\n",
      "15/15 [==============================] - 0s 1ms/step - loss: 0.0802 - val_loss: 0.1490\n",
      "Epoch 58/100\n",
      "15/15 [==============================] - 0s 1ms/step - loss: 0.0733 - val_loss: 0.1309\n",
      "Epoch 59/100\n",
      "15/15 [==============================] - 0s 1000us/step - loss: 0.0904 - val_loss: 0.1392\n",
      "Epoch 60/100\n",
      "15/15 [==============================] - 0s 933us/step - loss: 0.0642 - val_loss: 0.1327\n",
      "Epoch 61/100\n",
      "15/15 [==============================] - 0s 933us/step - loss: 0.0597 - val_loss: 0.1496\n",
      "Epoch 62/100\n",
      "15/15 [==============================] - 0s 1ms/step - loss: 0.0770 - val_loss: 0.1408\n",
      "Epoch 63/100\n",
      "15/15 [==============================] - 0s 1ms/step - loss: 0.0922 - val_loss: 0.1336\n",
      "Epoch 64/100\n",
      "15/15 [==============================] - 0s 1ms/step - loss: 0.0701 - val_loss: 0.1441\n",
      "Epoch 65/100\n",
      "15/15 [==============================] - 0s 1000us/step - loss: 0.0706 - val_loss: 0.1413\n",
      "Epoch 66/100\n",
      "15/15 [==============================] - 0s 1ms/step - loss: 0.0715 - val_loss: 0.1483\n",
      "Epoch 67/100\n",
      "15/15 [==============================] - 0s 1ms/step - loss: 0.0934 - val_loss: 0.1587\n",
      "Epoch 68/100\n",
      "15/15 [==============================] - 0s 1ms/step - loss: 0.0932 - val_loss: 0.1577\n",
      "Epoch 69/100\n",
      "15/15 [==============================] - 0s 1ms/step - loss: 0.0984 - val_loss: 0.1582\n",
      "Epoch 70/100\n",
      "15/15 [==============================] - 0s 1ms/step - loss: 0.0892 - val_loss: 0.1473\n",
      "Epoch 71/100\n",
      "15/15 [==============================] - 0s 1000us/step - loss: 0.0902 - val_loss: 0.1480\n",
      "Epoch 72/100\n",
      "15/15 [==============================] - 0s 1000us/step - loss: 0.0844 - val_loss: 0.1428\n",
      "Epoch 73/100\n",
      "15/15 [==============================] - 0s 1ms/step - loss: 0.0739 - val_loss: 0.1384\n",
      "Epoch 74/100\n",
      "15/15 [==============================] - 0s 1ms/step - loss: 0.0630 - val_loss: 0.1421\n",
      "Epoch 75/100\n",
      "15/15 [==============================] - 0s 1ms/step - loss: 0.0858 - val_loss: 0.1436\n",
      "Epoch 76/100\n",
      "15/15 [==============================] - 0s 1ms/step - loss: 0.0975 - val_loss: 0.1404\n",
      "Epoch 77/100\n",
      "15/15 [==============================] - 0s 1ms/step - loss: 0.0779 - val_loss: 0.1408\n",
      "Epoch 78/100\n",
      "15/15 [==============================] - 0s 1000us/step - loss: 0.0817 - val_loss: 0.1315\n",
      "Epoch 79/100\n",
      "15/15 [==============================] - 0s 1ms/step - loss: 0.0591 - val_loss: 0.1410\n",
      "Epoch 80/100\n",
      "15/15 [==============================] - 0s 1ms/step - loss: 0.0761 - val_loss: 0.1335\n",
      "Epoch 81/100\n",
      "15/15 [==============================] - 0s 1ms/step - loss: 0.0814 - val_loss: 0.1350\n"
     ]
    },
    {
     "name": "stdout",
     "output_type": "stream",
     "text": [
      "Epoch 82/100\n",
      "15/15 [==============================] - 0s 1ms/step - loss: 0.0871 - val_loss: 0.1403\n",
      "Epoch 83/100\n",
      "15/15 [==============================] - 0s 1ms/step - loss: 0.0768 - val_loss: 0.1383\n",
      "Epoch 84/100\n",
      "15/15 [==============================] - 0s 1ms/step - loss: 0.0734 - val_loss: 0.1355\n",
      "Epoch 85/100\n",
      "15/15 [==============================] - 0s 933us/step - loss: 0.0702 - val_loss: 0.1379\n",
      "Epoch 86/100\n",
      "15/15 [==============================] - 0s 933us/step - loss: 0.0634 - val_loss: 0.1323\n",
      "Epoch 87/100\n",
      "15/15 [==============================] - 0s 1ms/step - loss: 0.0590 - val_loss: 0.1321\n",
      "Epoch 88/100\n",
      "15/15 [==============================] - 0s 933us/step - loss: 0.0748 - val_loss: 0.1314\n",
      "Epoch 89/100\n",
      "15/15 [==============================] - 0s 1000us/step - loss: 0.0689 - val_loss: 0.1347\n",
      "Epoch 90/100\n",
      "15/15 [==============================] - 0s 1000us/step - loss: 0.0709 - val_loss: 0.1335\n",
      "Epoch 91/100\n",
      "15/15 [==============================] - 0s 1ms/step - loss: 0.0982 - val_loss: 0.1440\n",
      "Epoch 92/100\n",
      "15/15 [==============================] - 0s 1ms/step - loss: 0.0803 - val_loss: 0.1435\n",
      "Epoch 93/100\n",
      "15/15 [==============================] - 0s 1ms/step - loss: 0.0635 - val_loss: 0.1399\n",
      "Epoch 94/100\n",
      "15/15 [==============================] - 0s 1ms/step - loss: 0.0704 - val_loss: 0.1439\n",
      "Epoch 95/100\n",
      "15/15 [==============================] - 0s 933us/step - loss: 0.0896 - val_loss: 0.1379\n",
      "Epoch 96/100\n",
      "15/15 [==============================] - 0s 1ms/step - loss: 0.0800 - val_loss: 0.1485\n",
      "Epoch 97/100\n",
      "15/15 [==============================] - 0s 1ms/step - loss: 0.0915 - val_loss: 0.1491\n",
      "Epoch 98/100\n",
      "15/15 [==============================] - 0s 1ms/step - loss: 0.0652 - val_loss: 0.1534\n",
      "Epoch 99/100\n",
      "15/15 [==============================] - 0s 1000us/step - loss: 0.0876 - val_loss: 0.1442\n",
      "Epoch 100/100\n",
      "15/15 [==============================] - 0s 1ms/step - loss: 0.0668 - val_loss: 0.1529\n"
     ]
    }
   ],
   "source": [
    "from keras.layers import LSTM, GRU, Flatten\n",
    "from keras.optimizers import RMSprop\n",
    "\n",
    "model = Sequential()\n",
    "# model.add(LSTM(8,dropout=0.8,recurrent_dropout=0.8, return_sequences=True, input_shape=(1,month_pred)))\n",
    "# model.add(LSTM(128,dropout=0.5,recurrent_dropout=0.5, return_sequences=True, input_shape=(1,month_pred)))\n",
    "# model.add(LSTM(8,dropout=0.2,recurrent_dropout=0.2, return_sequences=True))\n",
    "# model.add(GRU(64,return_sequences=True,input_shape=(1,month_pred)))\n",
    "model.add(GRU(128,return_sequences=True,input_shape=(None,month_pred)))\n",
    "model.add(Dropout(0.8))\n",
    "model.add(GRU(128,return_sequences=False))\n",
    "model.add(Dropout(0.5))\n",
    "model.add(Dense(1, activation='linear'))\n",
    "\n",
    "print(model.summary())\n",
    "\n",
    "# model.compile(optimizer=Adam(), loss=root_mean_squared_error)\n",
    "# model.compile(optimizer=Adam(), loss='mean_squared_error')\n",
    "model.compile(optimizer=RMSprop(lr=0.001), loss=root_mean_squared_error)\n",
    "# model.compile(optimizer=RMSprop(), loss='mean_squared_error')\n",
    "history = model.fit(trainX, y_train,\n",
    "          batch_size=10, nb_epoch=100,\n",
    "          verbose=1, validation_split=0.3)"
   ]
  },
  {
   "cell_type": "code",
   "execution_count": 20,
   "metadata": {
    "scrolled": true
   },
   "outputs": [
    {
     "data": {
      "image/png": "[encoded data removed]",
      "text/plain": [
       "<Figure size 432x288 with 1 Axes>"
      ]
     },
     "metadata": {
      "needs_background": "light"
     },
     "output_type": "display_data"
    }
   ],
   "source": [
    "plot_loss(history)"
   ]
  },
  {
   "cell_type": "code",
   "execution_count": 21,
   "metadata": {
    "scrolled": true
   },
   "outputs": [
    {
     "data": {
      "text/plain": [
       "182.45773044540672"
      ]
     },
     "execution_count": 21,
     "metadata": {},
     "output_type": "execute_result"
    }
   ],
   "source": [
    "y_pred = model.predict(testX)\n",
    "y_p = scaler.inverse_transform(y_pred.reshape(-1,1))\n",
    "y_t = scaler.inverse_transform(y_test.reshape(-1,1))\n",
    "np.sqrt(np.mean((y_t-y_p)**2))"
   ]
  },
  {
   "cell_type": "markdown",
   "metadata": {},
   "source": [
    "С LSTM очень сильно переобучается, GRU получше. Самое оптимальное - 2 скрытых слоя, в остальных случаях растет ошибка. Количество нейронов и дропаут подобраны тоже наилучшие. Изменение количества месяцев увеличивыет переобучение. Разные запуски дают RMSE 80-185, что укладывается в ДЗ. Справится с переобучением получается только за счет ухудшения модели RMSE>250. На данном датасете обычная сеть отработала лучше."
   ]
  },
  {
   "cell_type": "code",
   "execution_count": null,
   "metadata": {},
   "outputs": [],
   "source": []
  }
 ],
 "metadata": {
  "kernelspec": {
   "display_name": "Python 3",
   "language": "python",
   "name": "python3"
  },
  "language_info": {
   "codemirror_mode": {
    "name": "ipython",
    "version": 3
   },
   "file_extension": ".py",
   "mimetype": "text/x-python",
   "name": "python",
   "nbconvert_exporter": "python",
   "pygments_lexer": "ipython3",
   "version": "3.6.7"
  },
  "varInspector": {
   "cols": {
    "lenName": 16,
    "lenType": 16,
    "lenVar": 40
   },
   "kernels_config": {
    "python": {
     "delete_cmd_postfix": "",
     "delete_cmd_prefix": "del ",
     "library": "var_list.py",
     "varRefreshCmd": "print(var_dic_list())"
    },
    "r": {
     "delete_cmd_postfix": ") ",
     "delete_cmd_prefix": "rm(",
     "library": "var_list.r",
     "varRefreshCmd": "cat(var_dic_list()) "
    }
   },
   "types_to_exclude": [
    "module",
    "function",
    "builtin_function_or_method",
    "instance",
    "_Feature"
   ],
   "window_display": false
  }
 },
 "nbformat": 4,
 "nbformat_minor": 2
}
